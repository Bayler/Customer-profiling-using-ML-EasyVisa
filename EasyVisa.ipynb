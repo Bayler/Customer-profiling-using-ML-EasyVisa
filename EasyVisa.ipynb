{
 "cells": [
  {
   "cell_type": "markdown",
   "id": "AT5OogJVFbwu",
   "metadata": {
    "id": "AT5OogJVFbwu"
   },
   "source": [
    "# EasyVisa Project\n",
    "\n",
    "## Context:\n",
    "\n",
    "Business communities in the United States are facing high demand for human resources, but one of the constant challenges is identifying and attracting the right talent, which is perhaps the most important element in remaining competitive. Companies in the United States look for hard-working, talented, and qualified individuals both locally as well as abroad.\n",
    "\n",
    "The Immigration and Nationality Act (INA) of the US permits foreign workers to come to the United States to work on either a temporary or permanent basis. The act also protects US workers against adverse impacts on their wages or working conditions by ensuring US employers' compliance with statutory requirements when they hire foreign workers to fill workforce shortages. The immigration programs are administered by the Office of Foreign Labor Certification (OFLC).\n",
    "\n",
    "OFLC processes job certification applications for employers seeking to bring foreign workers into the United States and grants certifications in those cases where employers can demonstrate that there are not sufficient US workers available to perform the work at wages that meet or exceed the wage paid for the occupation in the area of intended employment.\n",
    "\n",
    "## Objective:\n",
    "\n",
    "In FY 2016, the OFLC processed 775,979 employer applications for 1,699,957 positions for temporary and permanent labor certifications. This was a nine percent increase in the overall number of processed applications from the previous year. The process of reviewing every case is becoming a tedious task as the number of applicants is increasing every year.\n",
    "\n",
    "The increasing number of applicants every year calls for a Machine Learning based solution that can help in shortlisting the candidates having higher chances of VISA approval. OFLC has hired your firm EasyVisa for data-driven solutions. You as a data scientist have to analyze the data provided and, with the help of a classification model:\n",
    "\n",
    "* Facilitate the process of visa approvals.\n",
    "* Recommend a suitable profile for the applicants for whom the visa should be certified or denied based on the drivers that significantly influence the case status. \n",
    "\n",
    "\n",
    "## Data Description\n",
    "\n",
    "The data contains the different attributes of the employee and the employer. The detailed data dictionary is given below.\n",
    "\n",
    "* case_id: ID of each visa application\n",
    "* continent: Information of continent the employee\n",
    "* education_of_employee: Information of education of the employee\n",
    "* has_job_experience: Does the employee has any job experience? Y= Yes; N = No\n",
    "* requires_job_training: Does the employee require any job training? Y = Yes; N = No \n",
    "* no_of_employees: Number of employees in the employer's company\n",
    "* yr_of_estab: Year in which the employer's company was established\n",
    "* region_of_employment: Information of foreign worker's intended region of employment in the US.\n",
    "* prevailing_wage:  Average wage paid to similarly employed workers in a specific occupation in the area of intended employment. The purpose of the prevailing wage is to ensure that the foreign worker is not underpaid compared to other workers offering the same or similar service in the same area of employment. \n",
    "* unit_of_wage: Unit of prevailing wage. Values include Hourly, Weekly, Monthly, and Yearly.\n",
    "* full_time_position: Is the position of work full-time? Y = Full Time Position; N = Part Time Position\n",
    "* case_status:  Flag indicating if the Visa was certified or denied"
   ]
  },
  {
   "cell_type": "markdown",
   "id": "dirty-island",
   "metadata": {
    "id": "dirty-island"
   },
   "source": [
    "## Importing necessary libraries and data"
   ]
  },
  {
   "cell_type": "code",
   "execution_count": 336,
   "id": "bc414bd3",
   "metadata": {
    "scrolled": true
   },
   "outputs": [
    {
     "name": "stdout",
     "output_type": "stream",
     "text": [
      "Requirement already satisfied: pandas in ./my_project_env/lib/python3.8/site-packages (1.4.3)\n",
      "Requirement already satisfied: numpy in ./my_project_env/lib/python3.8/site-packages (1.23.1)\n",
      "Requirement already satisfied: seaborn in ./my_project_env/lib/python3.8/site-packages (0.11.2)\n",
      "Requirement already satisfied: matplotlib in ./my_project_env/lib/python3.8/site-packages (3.5.2)\n",
      "Requirement already satisfied: scikit-learn in ./my_project_env/lib/python3.8/site-packages (1.1.2)\n",
      "Requirement already satisfied: xgboost in ./my_project_env/lib/python3.8/site-packages (1.6.1)\n",
      "Requirement already satisfied: python-dateutil>=2.8.1 in ./my_project_env/lib/python3.8/site-packages (from pandas) (2.8.2)\n",
      "Requirement already satisfied: pytz>=2020.1 in ./my_project_env/lib/python3.8/site-packages (from pandas) (2022.1)\n",
      "Requirement already satisfied: scipy>=1.0 in ./my_project_env/lib/python3.8/site-packages (from seaborn) (1.9.0)\n",
      "Requirement already satisfied: pyparsing>=2.2.1 in ./my_project_env/lib/python3.8/site-packages (from matplotlib) (3.0.9)\n",
      "Requirement already satisfied: kiwisolver>=1.0.1 in ./my_project_env/lib/python3.8/site-packages (from matplotlib) (1.4.4)\n",
      "Requirement already satisfied: packaging>=20.0 in ./my_project_env/lib/python3.8/site-packages (from matplotlib) (21.3)\n",
      "Requirement already satisfied: cycler>=0.10 in ./my_project_env/lib/python3.8/site-packages (from matplotlib) (0.11.0)\n",
      "Requirement already satisfied: pillow>=6.2.0 in ./my_project_env/lib/python3.8/site-packages (from matplotlib) (9.2.0)\n",
      "Requirement already satisfied: fonttools>=4.22.0 in ./my_project_env/lib/python3.8/site-packages (from matplotlib) (4.34.4)\n",
      "Requirement already satisfied: threadpoolctl>=2.0.0 in ./my_project_env/lib/python3.8/site-packages (from scikit-learn) (3.1.0)\n",
      "Requirement already satisfied: joblib>=1.0.0 in ./my_project_env/lib/python3.8/site-packages (from scikit-learn) (1.1.0)\n",
      "Requirement already satisfied: six>=1.5 in ./my_project_env/lib/python3.8/site-packages (from python-dateutil>=2.8.1->pandas) (1.16.0)\n"
     ]
    }
   ],
   "source": [
    "# Installing the necessary dependencies\n",
    "!pip install pandas numpy seaborn matplotlib scikit-learn xgboost"
   ]
  },
  {
   "cell_type": "code",
   "execution_count": 337,
   "id": "statewide-still",
   "metadata": {
    "id": "statewide-still"
   },
   "outputs": [],
   "source": [
    "# Importing libraries to read and manipulate the data\n",
    "import numpy as np\n",
    "import pandas as pd\n",
    "\n",
    "# Importing libraries for visualization\n",
    "import seaborn as sns\n",
    "import matplotlib.pyplot as plt\n",
    "\n",
    "# Importing libraries for model building, tuning, metrics and statistics\n",
    "\n",
    "import scipy.stats as stats\n",
    "\n",
    "from sklearn.model_selection import train_test_split\n",
    "from sklearn.tree import DecisionTreeClassifier\n",
    "from sklearn import metrics\n",
    "from sklearn.metrics import confusion_matrix, classification_report, accuracy_score, precision_score, recall_score, f1_score, roc_auc_score\n",
    "from sklearn.model_selection import GridSearchCV\n",
    "\n",
    "from sklearn.ensemble import BaggingClassifier, RandomForestClassifier, GradientBoostingClassifier, AdaBoostClassifier, StackingClassifier\n",
    "from sklearn.model_selection import GridSearchCV, RandomizedSearchCV\n",
    "from xgboost import XGBClassifier"
   ]
  },
  {
   "cell_type": "markdown",
   "id": "desperate-infection",
   "metadata": {
    "id": "desperate-infection"
   },
   "source": [
    "## Data Overview\n",
    "\n",
    "- Observations\n",
    "- Sanity checks"
   ]
  },
  {
   "cell_type": "code",
   "execution_count": 338,
   "id": "ddefce6a",
   "metadata": {},
   "outputs": [],
   "source": [
    "df = pd.read_csv('EasyVisa.csv')"
   ]
  },
  {
   "cell_type": "code",
   "execution_count": 339,
   "id": "9955b516",
   "metadata": {},
   "outputs": [
    {
     "data": {
      "text/html": [
       "<div>\n",
       "<style scoped>\n",
       "    .dataframe tbody tr th:only-of-type {\n",
       "        vertical-align: middle;\n",
       "    }\n",
       "\n",
       "    .dataframe tbody tr th {\n",
       "        vertical-align: top;\n",
       "    }\n",
       "\n",
       "    .dataframe thead th {\n",
       "        text-align: right;\n",
       "    }\n",
       "</style>\n",
       "<table border=\"1\" class=\"dataframe\">\n",
       "  <thead>\n",
       "    <tr style=\"text-align: right;\">\n",
       "      <th></th>\n",
       "      <th>case_id</th>\n",
       "      <th>continent</th>\n",
       "      <th>education_of_employee</th>\n",
       "      <th>has_job_experience</th>\n",
       "      <th>requires_job_training</th>\n",
       "      <th>no_of_employees</th>\n",
       "      <th>yr_of_estab</th>\n",
       "      <th>region_of_employment</th>\n",
       "      <th>prevailing_wage</th>\n",
       "      <th>unit_of_wage</th>\n",
       "      <th>full_time_position</th>\n",
       "      <th>case_status</th>\n",
       "    </tr>\n",
       "  </thead>\n",
       "  <tbody>\n",
       "    <tr>\n",
       "      <th>0</th>\n",
       "      <td>EZYV01</td>\n",
       "      <td>Asia</td>\n",
       "      <td>High School</td>\n",
       "      <td>N</td>\n",
       "      <td>N</td>\n",
       "      <td>14513</td>\n",
       "      <td>2007</td>\n",
       "      <td>West</td>\n",
       "      <td>592.2029</td>\n",
       "      <td>Hour</td>\n",
       "      <td>Y</td>\n",
       "      <td>Denied</td>\n",
       "    </tr>\n",
       "    <tr>\n",
       "      <th>1</th>\n",
       "      <td>EZYV02</td>\n",
       "      <td>Asia</td>\n",
       "      <td>Master's</td>\n",
       "      <td>Y</td>\n",
       "      <td>N</td>\n",
       "      <td>2412</td>\n",
       "      <td>2002</td>\n",
       "      <td>Northeast</td>\n",
       "      <td>83425.6500</td>\n",
       "      <td>Year</td>\n",
       "      <td>Y</td>\n",
       "      <td>Certified</td>\n",
       "    </tr>\n",
       "    <tr>\n",
       "      <th>2</th>\n",
       "      <td>EZYV03</td>\n",
       "      <td>Asia</td>\n",
       "      <td>Bachelor's</td>\n",
       "      <td>N</td>\n",
       "      <td>Y</td>\n",
       "      <td>44444</td>\n",
       "      <td>2008</td>\n",
       "      <td>West</td>\n",
       "      <td>122996.8600</td>\n",
       "      <td>Year</td>\n",
       "      <td>Y</td>\n",
       "      <td>Denied</td>\n",
       "    </tr>\n",
       "    <tr>\n",
       "      <th>3</th>\n",
       "      <td>EZYV04</td>\n",
       "      <td>Asia</td>\n",
       "      <td>Bachelor's</td>\n",
       "      <td>N</td>\n",
       "      <td>N</td>\n",
       "      <td>98</td>\n",
       "      <td>1897</td>\n",
       "      <td>West</td>\n",
       "      <td>83434.0300</td>\n",
       "      <td>Year</td>\n",
       "      <td>Y</td>\n",
       "      <td>Denied</td>\n",
       "    </tr>\n",
       "    <tr>\n",
       "      <th>4</th>\n",
       "      <td>EZYV05</td>\n",
       "      <td>Africa</td>\n",
       "      <td>Master's</td>\n",
       "      <td>Y</td>\n",
       "      <td>N</td>\n",
       "      <td>1082</td>\n",
       "      <td>2005</td>\n",
       "      <td>South</td>\n",
       "      <td>149907.3900</td>\n",
       "      <td>Year</td>\n",
       "      <td>Y</td>\n",
       "      <td>Certified</td>\n",
       "    </tr>\n",
       "    <tr>\n",
       "      <th>...</th>\n",
       "      <td>...</td>\n",
       "      <td>...</td>\n",
       "      <td>...</td>\n",
       "      <td>...</td>\n",
       "      <td>...</td>\n",
       "      <td>...</td>\n",
       "      <td>...</td>\n",
       "      <td>...</td>\n",
       "      <td>...</td>\n",
       "      <td>...</td>\n",
       "      <td>...</td>\n",
       "      <td>...</td>\n",
       "    </tr>\n",
       "    <tr>\n",
       "      <th>25475</th>\n",
       "      <td>EZYV25476</td>\n",
       "      <td>Asia</td>\n",
       "      <td>Bachelor's</td>\n",
       "      <td>Y</td>\n",
       "      <td>Y</td>\n",
       "      <td>2601</td>\n",
       "      <td>2008</td>\n",
       "      <td>South</td>\n",
       "      <td>77092.5700</td>\n",
       "      <td>Year</td>\n",
       "      <td>Y</td>\n",
       "      <td>Certified</td>\n",
       "    </tr>\n",
       "    <tr>\n",
       "      <th>25476</th>\n",
       "      <td>EZYV25477</td>\n",
       "      <td>Asia</td>\n",
       "      <td>High School</td>\n",
       "      <td>Y</td>\n",
       "      <td>N</td>\n",
       "      <td>3274</td>\n",
       "      <td>2006</td>\n",
       "      <td>Northeast</td>\n",
       "      <td>279174.7900</td>\n",
       "      <td>Year</td>\n",
       "      <td>Y</td>\n",
       "      <td>Certified</td>\n",
       "    </tr>\n",
       "    <tr>\n",
       "      <th>25477</th>\n",
       "      <td>EZYV25478</td>\n",
       "      <td>Asia</td>\n",
       "      <td>Master's</td>\n",
       "      <td>Y</td>\n",
       "      <td>N</td>\n",
       "      <td>1121</td>\n",
       "      <td>1910</td>\n",
       "      <td>South</td>\n",
       "      <td>146298.8500</td>\n",
       "      <td>Year</td>\n",
       "      <td>N</td>\n",
       "      <td>Certified</td>\n",
       "    </tr>\n",
       "    <tr>\n",
       "      <th>25478</th>\n",
       "      <td>EZYV25479</td>\n",
       "      <td>Asia</td>\n",
       "      <td>Master's</td>\n",
       "      <td>Y</td>\n",
       "      <td>Y</td>\n",
       "      <td>1918</td>\n",
       "      <td>1887</td>\n",
       "      <td>West</td>\n",
       "      <td>86154.7700</td>\n",
       "      <td>Year</td>\n",
       "      <td>Y</td>\n",
       "      <td>Certified</td>\n",
       "    </tr>\n",
       "    <tr>\n",
       "      <th>25479</th>\n",
       "      <td>EZYV25480</td>\n",
       "      <td>Asia</td>\n",
       "      <td>Bachelor's</td>\n",
       "      <td>Y</td>\n",
       "      <td>N</td>\n",
       "      <td>3195</td>\n",
       "      <td>1960</td>\n",
       "      <td>Midwest</td>\n",
       "      <td>70876.9100</td>\n",
       "      <td>Year</td>\n",
       "      <td>Y</td>\n",
       "      <td>Certified</td>\n",
       "    </tr>\n",
       "  </tbody>\n",
       "</table>\n",
       "<p>25480 rows × 12 columns</p>\n",
       "</div>"
      ],
      "text/plain": [
       "         case_id continent education_of_employee has_job_experience  \\\n",
       "0         EZYV01      Asia           High School                  N   \n",
       "1         EZYV02      Asia              Master's                  Y   \n",
       "2         EZYV03      Asia            Bachelor's                  N   \n",
       "3         EZYV04      Asia            Bachelor's                  N   \n",
       "4         EZYV05    Africa              Master's                  Y   \n",
       "...          ...       ...                   ...                ...   \n",
       "25475  EZYV25476      Asia            Bachelor's                  Y   \n",
       "25476  EZYV25477      Asia           High School                  Y   \n",
       "25477  EZYV25478      Asia              Master's                  Y   \n",
       "25478  EZYV25479      Asia              Master's                  Y   \n",
       "25479  EZYV25480      Asia            Bachelor's                  Y   \n",
       "\n",
       "      requires_job_training  no_of_employees  yr_of_estab  \\\n",
       "0                         N            14513         2007   \n",
       "1                         N             2412         2002   \n",
       "2                         Y            44444         2008   \n",
       "3                         N               98         1897   \n",
       "4                         N             1082         2005   \n",
       "...                     ...              ...          ...   \n",
       "25475                     Y             2601         2008   \n",
       "25476                     N             3274         2006   \n",
       "25477                     N             1121         1910   \n",
       "25478                     Y             1918         1887   \n",
       "25479                     N             3195         1960   \n",
       "\n",
       "      region_of_employment  prevailing_wage unit_of_wage full_time_position  \\\n",
       "0                     West         592.2029         Hour                  Y   \n",
       "1                Northeast       83425.6500         Year                  Y   \n",
       "2                     West      122996.8600         Year                  Y   \n",
       "3                     West       83434.0300         Year                  Y   \n",
       "4                    South      149907.3900         Year                  Y   \n",
       "...                    ...              ...          ...                ...   \n",
       "25475                South       77092.5700         Year                  Y   \n",
       "25476            Northeast      279174.7900         Year                  Y   \n",
       "25477                South      146298.8500         Year                  N   \n",
       "25478                 West       86154.7700         Year                  Y   \n",
       "25479              Midwest       70876.9100         Year                  Y   \n",
       "\n",
       "      case_status  \n",
       "0          Denied  \n",
       "1       Certified  \n",
       "2          Denied  \n",
       "3          Denied  \n",
       "4       Certified  \n",
       "...           ...  \n",
       "25475   Certified  \n",
       "25476   Certified  \n",
       "25477   Certified  \n",
       "25478   Certified  \n",
       "25479   Certified  \n",
       "\n",
       "[25480 rows x 12 columns]"
      ]
     },
     "execution_count": 339,
     "metadata": {},
     "output_type": "execute_result"
    }
   ],
   "source": [
    "# Let's view the first and last five rows of the dataset\n",
    "df"
   ]
  },
  {
   "cell_type": "code",
   "execution_count": 340,
   "id": "7055e58c",
   "metadata": {},
   "outputs": [
    {
     "name": "stdout",
     "output_type": "stream",
     "text": [
      "<class 'pandas.core.frame.DataFrame'>\n",
      "RangeIndex: 25480 entries, 0 to 25479\n",
      "Data columns (total 12 columns):\n",
      " #   Column                 Non-Null Count  Dtype  \n",
      "---  ------                 --------------  -----  \n",
      " 0   case_id                25480 non-null  object \n",
      " 1   continent              25480 non-null  object \n",
      " 2   education_of_employee  25480 non-null  object \n",
      " 3   has_job_experience     25480 non-null  object \n",
      " 4   requires_job_training  25480 non-null  object \n",
      " 5   no_of_employees        25480 non-null  int64  \n",
      " 6   yr_of_estab            25480 non-null  int64  \n",
      " 7   region_of_employment   25480 non-null  object \n",
      " 8   prevailing_wage        25480 non-null  float64\n",
      " 9   unit_of_wage           25480 non-null  object \n",
      " 10  full_time_position     25480 non-null  object \n",
      " 11  case_status            25480 non-null  object \n",
      "dtypes: float64(1), int64(2), object(9)\n",
      "memory usage: 2.3+ MB\n"
     ]
    }
   ],
   "source": [
    "# Let's check the data types and establish if there are null values in each column\n",
    "df.info()"
   ]
  },
  {
   "cell_type": "markdown",
   "id": "55e494b8",
   "metadata": {},
   "source": [
    "Some of these variables should have been used as categorical, but instead, they exist as object formats. We will need to convert all columns with the datatype `object` into `category`."
   ]
  },
  {
   "cell_type": "code",
   "execution_count": 341,
   "id": "5ceb8d08",
   "metadata": {},
   "outputs": [
    {
     "data": {
      "text/plain": [
       "Index(['case_id', 'continent', 'education_of_employee', 'has_job_experience',\n",
       "       'requires_job_training', 'region_of_employment', 'unit_of_wage',\n",
       "       'full_time_position', 'case_status'],\n",
       "      dtype='object')"
      ]
     },
     "execution_count": 341,
     "metadata": {},
     "output_type": "execute_result"
    }
   ],
   "source": [
    "# Selecting the dtypes object\n",
    "cols = df.select_dtypes(['object'])\n",
    "cols.columns"
   ]
  },
  {
   "cell_type": "code",
   "execution_count": 342,
   "id": "a803e597",
   "metadata": {},
   "outputs": [],
   "source": [
    "# Looping through the columns and converting their dtypes from object to category\n",
    "for i in cols.columns:\n",
    "    df[i] = df[i].astype('category')"
   ]
  },
  {
   "cell_type": "code",
   "execution_count": 343,
   "id": "e0132cbf",
   "metadata": {},
   "outputs": [
    {
     "name": "stdout",
     "output_type": "stream",
     "text": [
      "<class 'pandas.core.frame.DataFrame'>\n",
      "RangeIndex: 25480 entries, 0 to 25479\n",
      "Data columns (total 12 columns):\n",
      " #   Column                 Non-Null Count  Dtype   \n",
      "---  ------                 --------------  -----   \n",
      " 0   case_id                25480 non-null  category\n",
      " 1   continent              25480 non-null  category\n",
      " 2   education_of_employee  25480 non-null  category\n",
      " 3   has_job_experience     25480 non-null  category\n",
      " 4   requires_job_training  25480 non-null  category\n",
      " 5   no_of_employees        25480 non-null  int64   \n",
      " 6   yr_of_estab            25480 non-null  int64   \n",
      " 7   region_of_employment   25480 non-null  category\n",
      " 8   prevailing_wage        25480 non-null  float64 \n",
      " 9   unit_of_wage           25480 non-null  category\n",
      " 10  full_time_position     25480 non-null  category\n",
      " 11  case_status            25480 non-null  category\n",
      "dtypes: category(9), float64(1), int64(2)\n",
      "memory usage: 2.0 MB\n"
     ]
    }
   ],
   "source": [
    "df.info()"
   ]
  },
  {
   "cell_type": "markdown",
   "id": "5aebdd1b",
   "metadata": {},
   "source": [
    "We have converted them into categorical variables. The memory usage has also reduced from 2.3 MB to 2.0 MB"
   ]
  },
  {
   "cell_type": "markdown",
   "id": "d6a77dae",
   "metadata": {},
   "source": [
    "### Number of Rows and Columns"
   ]
  },
  {
   "cell_type": "code",
   "execution_count": 344,
   "id": "persistent-juice",
   "metadata": {
    "id": "persistent-juice"
   },
   "outputs": [
    {
     "data": {
      "text/plain": [
       "(25480, 12)"
      ]
     },
     "execution_count": 344,
     "metadata": {},
     "output_type": "execute_result"
    }
   ],
   "source": [
    "df.shape"
   ]
  },
  {
   "cell_type": "markdown",
   "id": "2477c45a",
   "metadata": {},
   "source": [
    "- The dataset has 25480 rows and 12 columns.\n",
    "- The dataset has no missing values. Additionally, we can establish these using the `isnull` method.\n",
    "- From the 12 columns present, we have 1 target variable, the `case_status`. It is good practice to check the classes present in the target variable. We use the `.unique()` method for this task."
   ]
  },
  {
   "cell_type": "code",
   "execution_count": 345,
   "id": "2a8af015",
   "metadata": {},
   "outputs": [
    {
     "data": {
      "text/plain": [
       "['Denied', 'Certified']\n",
       "Categories (2, object): ['Certified', 'Denied']"
      ]
     },
     "execution_count": 345,
     "metadata": {},
     "output_type": "execute_result"
    }
   ],
   "source": [
    "df['case_status'].unique()"
   ]
  },
  {
   "cell_type": "markdown",
   "id": "38707be0",
   "metadata": {},
   "source": [
    "The target variable has two classes present. This is a binary classification problem. Later, we will convert them to numerical values for easy processing."
   ]
  },
  {
   "cell_type": "markdown",
   "id": "c94e9806",
   "metadata": {},
   "source": [
    "### Checking for missing values"
   ]
  },
  {
   "cell_type": "code",
   "execution_count": 346,
   "id": "252e8c34",
   "metadata": {},
   "outputs": [
    {
     "data": {
      "text/plain": [
       "case_id                  0\n",
       "continent                0\n",
       "education_of_employee    0\n",
       "has_job_experience       0\n",
       "requires_job_training    0\n",
       "no_of_employees          0\n",
       "yr_of_estab              0\n",
       "region_of_employment     0\n",
       "prevailing_wage          0\n",
       "unit_of_wage             0\n",
       "full_time_position       0\n",
       "case_status              0\n",
       "dtype: int64"
      ]
     },
     "execution_count": 346,
     "metadata": {},
     "output_type": "execute_result"
    }
   ],
   "source": [
    "df.isnull().sum()"
   ]
  },
  {
   "cell_type": "markdown",
   "id": "b58856f4",
   "metadata": {},
   "source": [
    "The above code confirms that there are no missing values in the data."
   ]
  },
  {
   "cell_type": "code",
   "execution_count": 347,
   "id": "1b2a8053",
   "metadata": {},
   "outputs": [
    {
     "data": {
      "text/html": [
       "<div>\n",
       "<style scoped>\n",
       "    .dataframe tbody tr th:only-of-type {\n",
       "        vertical-align: middle;\n",
       "    }\n",
       "\n",
       "    .dataframe tbody tr th {\n",
       "        vertical-align: top;\n",
       "    }\n",
       "\n",
       "    .dataframe thead th {\n",
       "        text-align: right;\n",
       "    }\n",
       "</style>\n",
       "<table border=\"1\" class=\"dataframe\">\n",
       "  <thead>\n",
       "    <tr style=\"text-align: right;\">\n",
       "      <th></th>\n",
       "      <th>case_id</th>\n",
       "      <th>continent</th>\n",
       "      <th>education_of_employee</th>\n",
       "      <th>has_job_experience</th>\n",
       "      <th>requires_job_training</th>\n",
       "      <th>no_of_employees</th>\n",
       "      <th>yr_of_estab</th>\n",
       "      <th>region_of_employment</th>\n",
       "      <th>prevailing_wage</th>\n",
       "      <th>unit_of_wage</th>\n",
       "      <th>full_time_position</th>\n",
       "      <th>case_status</th>\n",
       "    </tr>\n",
       "  </thead>\n",
       "  <tbody>\n",
       "  </tbody>\n",
       "</table>\n",
       "</div>"
      ],
      "text/plain": [
       "Empty DataFrame\n",
       "Columns: [case_id, continent, education_of_employee, has_job_experience, requires_job_training, no_of_employees, yr_of_estab, region_of_employment, prevailing_wage, unit_of_wage, full_time_position, case_status]\n",
       "Index: []"
      ]
     },
     "execution_count": 347,
     "metadata": {},
     "output_type": "execute_result"
    }
   ],
   "source": [
    "# Let's check for duplicate values\n",
    "df[df.duplicated()]"
   ]
  },
  {
   "cell_type": "markdown",
   "id": "502dcdaa",
   "metadata": {},
   "source": [
    "We have no duplicate values present in the dataset."
   ]
  },
  {
   "cell_type": "markdown",
   "id": "f8a82fc4",
   "metadata": {},
   "source": [
    "#### Let's drop the column `case_id` from the dataframe as it doesn't provide any material information for model building. We use the `drop()` method"
   ]
  },
  {
   "cell_type": "code",
   "execution_count": 348,
   "id": "e6ec5b85",
   "metadata": {},
   "outputs": [],
   "source": [
    "df.drop(['case_id'], axis=1, inplace=True)"
   ]
  },
  {
   "cell_type": "code",
   "execution_count": 349,
   "id": "9bdf1bba",
   "metadata": {},
   "outputs": [
    {
     "name": "stdout",
     "output_type": "stream",
     "text": [
      "<class 'pandas.core.frame.DataFrame'>\n",
      "RangeIndex: 25480 entries, 0 to 25479\n",
      "Data columns (total 11 columns):\n",
      " #   Column                 Non-Null Count  Dtype   \n",
      "---  ------                 --------------  -----   \n",
      " 0   continent              25480 non-null  category\n",
      " 1   education_of_employee  25480 non-null  category\n",
      " 2   has_job_experience     25480 non-null  category\n",
      " 3   requires_job_training  25480 non-null  category\n",
      " 4   no_of_employees        25480 non-null  int64   \n",
      " 5   yr_of_estab            25480 non-null  int64   \n",
      " 6   region_of_employment   25480 non-null  category\n",
      " 7   prevailing_wage        25480 non-null  float64 \n",
      " 8   unit_of_wage           25480 non-null  category\n",
      " 9   full_time_position     25480 non-null  category\n",
      " 10  case_status            25480 non-null  category\n",
      "dtypes: category(8), float64(1), int64(2)\n",
      "memory usage: 797.7 KB\n"
     ]
    }
   ],
   "source": [
    "df.info()"
   ]
  },
  {
   "cell_type": "code",
   "execution_count": 350,
   "id": "60a1cbb1",
   "metadata": {},
   "outputs": [
    {
     "data": {
      "text/plain": [
       "(25480, 11)"
      ]
     },
     "execution_count": 350,
     "metadata": {},
     "output_type": "execute_result"
    }
   ],
   "source": [
    "df.shape"
   ]
  },
  {
   "cell_type": "markdown",
   "id": "43d2160e",
   "metadata": {},
   "source": [
    "We now have 11 columns present. we have 10 independent variables and one target variable. The memory required to store the dataframe is now 797.7 kB from 2.0 MB, which represents a third the size of the original dataframe."
   ]
  },
  {
   "cell_type": "markdown",
   "id": "d16d7b16",
   "metadata": {},
   "source": [
    "### Let's have a look at the summary of the dataset"
   ]
  },
  {
   "cell_type": "code",
   "execution_count": 351,
   "id": "cd61e71e",
   "metadata": {},
   "outputs": [
    {
     "data": {
      "text/html": [
       "<div>\n",
       "<style scoped>\n",
       "    .dataframe tbody tr th:only-of-type {\n",
       "        vertical-align: middle;\n",
       "    }\n",
       "\n",
       "    .dataframe tbody tr th {\n",
       "        vertical-align: top;\n",
       "    }\n",
       "\n",
       "    .dataframe thead th {\n",
       "        text-align: right;\n",
       "    }\n",
       "</style>\n",
       "<table border=\"1\" class=\"dataframe\">\n",
       "  <thead>\n",
       "    <tr style=\"text-align: right;\">\n",
       "      <th></th>\n",
       "      <th>count</th>\n",
       "      <th>mean</th>\n",
       "      <th>std</th>\n",
       "      <th>min</th>\n",
       "      <th>25%</th>\n",
       "      <th>50%</th>\n",
       "      <th>75%</th>\n",
       "      <th>max</th>\n",
       "    </tr>\n",
       "  </thead>\n",
       "  <tbody>\n",
       "    <tr>\n",
       "      <th>no_of_employees</th>\n",
       "      <td>25480.0</td>\n",
       "      <td>5667.043210</td>\n",
       "      <td>22877.928848</td>\n",
       "      <td>-26.0000</td>\n",
       "      <td>1022.00</td>\n",
       "      <td>2109.00</td>\n",
       "      <td>3504.0000</td>\n",
       "      <td>602069.00</td>\n",
       "    </tr>\n",
       "    <tr>\n",
       "      <th>yr_of_estab</th>\n",
       "      <td>25480.0</td>\n",
       "      <td>1979.409929</td>\n",
       "      <td>42.366929</td>\n",
       "      <td>1800.0000</td>\n",
       "      <td>1976.00</td>\n",
       "      <td>1997.00</td>\n",
       "      <td>2005.0000</td>\n",
       "      <td>2016.00</td>\n",
       "    </tr>\n",
       "    <tr>\n",
       "      <th>prevailing_wage</th>\n",
       "      <td>25480.0</td>\n",
       "      <td>74455.814592</td>\n",
       "      <td>52815.942327</td>\n",
       "      <td>2.1367</td>\n",
       "      <td>34015.48</td>\n",
       "      <td>70308.21</td>\n",
       "      <td>107735.5125</td>\n",
       "      <td>319210.27</td>\n",
       "    </tr>\n",
       "  </tbody>\n",
       "</table>\n",
       "</div>"
      ],
      "text/plain": [
       "                   count          mean           std        min       25%  \\\n",
       "no_of_employees  25480.0   5667.043210  22877.928848   -26.0000   1022.00   \n",
       "yr_of_estab      25480.0   1979.409929     42.366929  1800.0000   1976.00   \n",
       "prevailing_wage  25480.0  74455.814592  52815.942327     2.1367  34015.48   \n",
       "\n",
       "                      50%          75%        max  \n",
       "no_of_employees   2109.00    3504.0000  602069.00  \n",
       "yr_of_estab       1997.00    2005.0000    2016.00  \n",
       "prevailing_wage  70308.21  107735.5125  319210.27  "
      ]
     },
     "execution_count": 351,
     "metadata": {},
     "output_type": "execute_result"
    }
   ],
   "source": [
    "df.describe().T"
   ]
  },
  {
   "cell_type": "markdown",
   "id": "a9719dc4",
   "metadata": {},
   "source": [
    "- The average `prevailing_wage` for occupation is united states is USD 74,456 while the median (~50th percentile of wages) is USD 70,308.\n",
    "- The average `no_of_employees` in the employer's organization are 5667 while the median number of employees in the employer's organization are 2109."
   ]
  },
  {
   "cell_type": "markdown",
   "id": "6e86446e",
   "metadata": {},
   "source": [
    "### Let's have a look at the statistical summary of all `int64` variables"
   ]
  },
  {
   "cell_type": "code",
   "execution_count": 352,
   "id": "dddcc63a",
   "metadata": {},
   "outputs": [
    {
     "data": {
      "text/html": [
       "<div>\n",
       "<style scoped>\n",
       "    .dataframe tbody tr th:only-of-type {\n",
       "        vertical-align: middle;\n",
       "    }\n",
       "\n",
       "    .dataframe tbody tr th {\n",
       "        vertical-align: top;\n",
       "    }\n",
       "\n",
       "    .dataframe thead th {\n",
       "        text-align: right;\n",
       "    }\n",
       "</style>\n",
       "<table border=\"1\" class=\"dataframe\">\n",
       "  <thead>\n",
       "    <tr style=\"text-align: right;\">\n",
       "      <th></th>\n",
       "      <th>count</th>\n",
       "      <th>mean</th>\n",
       "      <th>std</th>\n",
       "      <th>min</th>\n",
       "      <th>25%</th>\n",
       "      <th>50%</th>\n",
       "      <th>75%</th>\n",
       "      <th>max</th>\n",
       "    </tr>\n",
       "  </thead>\n",
       "  <tbody>\n",
       "    <tr>\n",
       "      <th>no_of_employees</th>\n",
       "      <td>25480.0</td>\n",
       "      <td>5667.043210</td>\n",
       "      <td>22877.928848</td>\n",
       "      <td>-26.0</td>\n",
       "      <td>1022.0</td>\n",
       "      <td>2109.0</td>\n",
       "      <td>3504.0</td>\n",
       "      <td>602069.0</td>\n",
       "    </tr>\n",
       "    <tr>\n",
       "      <th>yr_of_estab</th>\n",
       "      <td>25480.0</td>\n",
       "      <td>1979.409929</td>\n",
       "      <td>42.366929</td>\n",
       "      <td>1800.0</td>\n",
       "      <td>1976.0</td>\n",
       "      <td>1997.0</td>\n",
       "      <td>2005.0</td>\n",
       "      <td>2016.0</td>\n",
       "    </tr>\n",
       "  </tbody>\n",
       "</table>\n",
       "</div>"
      ],
      "text/plain": [
       "                   count         mean           std     min     25%     50%  \\\n",
       "no_of_employees  25480.0  5667.043210  22877.928848   -26.0  1022.0  2109.0   \n",
       "yr_of_estab      25480.0  1979.409929     42.366929  1800.0  1976.0  1997.0   \n",
       "\n",
       "                    75%       max  \n",
       "no_of_employees  3504.0  602069.0  \n",
       "yr_of_estab      2005.0    2016.0  "
      ]
     },
     "execution_count": 352,
     "metadata": {},
     "output_type": "execute_result"
    }
   ],
   "source": [
    "df.describe(include = ['int64']).T"
   ]
  },
  {
   "cell_type": "markdown",
   "id": "00d4125a",
   "metadata": {},
   "source": [
    "### Statistics summary of all `float64` variables"
   ]
  },
  {
   "cell_type": "code",
   "execution_count": 353,
   "id": "9b6e2490",
   "metadata": {},
   "outputs": [
    {
     "data": {
      "text/html": [
       "<div>\n",
       "<style scoped>\n",
       "    .dataframe tbody tr th:only-of-type {\n",
       "        vertical-align: middle;\n",
       "    }\n",
       "\n",
       "    .dataframe tbody tr th {\n",
       "        vertical-align: top;\n",
       "    }\n",
       "\n",
       "    .dataframe thead th {\n",
       "        text-align: right;\n",
       "    }\n",
       "</style>\n",
       "<table border=\"1\" class=\"dataframe\">\n",
       "  <thead>\n",
       "    <tr style=\"text-align: right;\">\n",
       "      <th></th>\n",
       "      <th>count</th>\n",
       "      <th>mean</th>\n",
       "      <th>std</th>\n",
       "      <th>min</th>\n",
       "      <th>25%</th>\n",
       "      <th>50%</th>\n",
       "      <th>75%</th>\n",
       "      <th>max</th>\n",
       "    </tr>\n",
       "  </thead>\n",
       "  <tbody>\n",
       "    <tr>\n",
       "      <th>prevailing_wage</th>\n",
       "      <td>25480.0</td>\n",
       "      <td>74455.814592</td>\n",
       "      <td>52815.942327</td>\n",
       "      <td>2.1367</td>\n",
       "      <td>34015.48</td>\n",
       "      <td>70308.21</td>\n",
       "      <td>107735.5125</td>\n",
       "      <td>319210.27</td>\n",
       "    </tr>\n",
       "  </tbody>\n",
       "</table>\n",
       "</div>"
      ],
      "text/plain": [
       "                   count          mean           std     min       25%  \\\n",
       "prevailing_wage  25480.0  74455.814592  52815.942327  2.1367  34015.48   \n",
       "\n",
       "                      50%          75%        max  \n",
       "prevailing_wage  70308.21  107735.5125  319210.27  "
      ]
     },
     "execution_count": 353,
     "metadata": {},
     "output_type": "execute_result"
    }
   ],
   "source": [
    "# let's provide summary statistics of all float64 variables\n",
    "df.describe(include = ['float64']).T"
   ]
  },
  {
   "cell_type": "markdown",
   "id": "seasonal-calibration",
   "metadata": {
    "id": "seasonal-calibration"
   },
   "source": [
    "## Exploratory Data Analysis (EDA)\n",
    "\n",
    "- EDA is an important part of any project involving data.\n",
    "- It is important to investigate and understand the data better before building a model with it.\n",
    "- A few questions have been mentioned below which will help you approach the analysis in the right manner and generate insights from the data.\n",
    "- A thorough analysis of the data, in addition to the questions mentioned below, should be done."
   ]
  },
  {
   "cell_type": "code",
   "execution_count": 354,
   "id": "right-permit",
   "metadata": {
    "id": "right-permit"
   },
   "outputs": [],
   "source": [
    "# Let's create a function to label barplots\n",
    "\n",
    "def custom_barplot(data, feature, perc=False, n=None):\n",
    "\n",
    "    total = len(data[feature])  # captures the length of the column\n",
    "    count = data[feature].nunique()\n",
    "    if n is None:\n",
    "        plt.figure(figsize=(count + 1, 5))\n",
    "    else:\n",
    "        plt.figure(figsize=(n + 1, 5))\n",
    "\n",
    "    plt.xticks(rotation=90, fontsize=15)\n",
    "    ax = sns.countplot(\n",
    "        data=data,\n",
    "        x=feature,\n",
    "        palette=\"Paired\",\n",
    "        order=data[feature].value_counts().index[:n].sort_values(),\n",
    "    )\n",
    "\n",
    "    for p in ax.patches:\n",
    "        if perc == True:\n",
    "            label = \"{:.1f}%\".format(\n",
    "                100 * p.get_height() / total\n",
    "            )  # percentage of each class of the category\n",
    "        else:\n",
    "            label = p.get_height()  # count of each level of the category\n",
    "\n",
    "        x = p.get_x() + p.get_width() / 2  # width of the plot\n",
    "        y = p.get_height()  # height of the plot\n",
    "\n",
    "        ax.annotate(\n",
    "            label,\n",
    "            (x, y),\n",
    "            ha=\"center\",\n",
    "            va=\"center\",\n",
    "            size=12,\n",
    "            xytext=(0, 5),\n",
    "            textcoords=\"offset points\",\n",
    "        )  # annotate the percentage\n",
    "\n",
    "    plt.show()  "
   ]
  },
  {
   "cell_type": "code",
   "execution_count": 355,
   "id": "0c6563fe",
   "metadata": {},
   "outputs": [],
   "source": [
    "# Let's create a function to plot a boxplot and a histogram along the same scale.\n",
    "\n",
    "\n",
    "def histogram_boxplot(data, feature, figsize=(12, 7), kde=False, bins=None):\n",
    "    \"\"\"\n",
    "    Boxplot and histogram combined\n",
    "\n",
    "    data: dataframe\n",
    "    feature: dataframe column\n",
    "    figsize: size of figure (default (12,7))\n",
    "    kde: whether to show the density curve (default False)\n",
    "    bins: number of bins for histogram (default None)\n",
    "    \"\"\"\n",
    "    f2, (ax_box2, ax_hist2) = plt.subplots(\n",
    "        nrows=2,  # Number of rows of the subplot grid= 2\n",
    "        sharex=True,  # x-axis will be shared among all subplots\n",
    "        gridspec_kw={\"height_ratios\": (0.25, 0.75)},\n",
    "        figsize=figsize,\n",
    "    )  # creating the 2 subplots\n",
    "    sns.boxplot(\n",
    "        data=data, x=feature, ax=ax_box2, showmeans=True, color=\"violet\"\n",
    "    )  # boxplot will be created and a star will indicate the mean value of the column\n",
    "    sns.histplot(\n",
    "        data=data, x=feature, kde=kde, ax=ax_hist2, bins=bins, palette=\"winter\"\n",
    "    ) if bins else sns.histplot(\n",
    "        data=data, x=feature, kde=kde, ax=ax_hist2\n",
    "    )  # For histogram\n",
    "    ax_hist2.axvline(\n",
    "        data[feature].mean(), color=\"green\", linestyle=\"--\"\n",
    "    )  # Add mean to the histogram\n",
    "    ax_hist2.axvline(\n",
    "        data[feature].median(), color=\"black\", linestyle=\"-\"\n",
    "    )  # Add median to the histogram"
   ]
  },
  {
   "cell_type": "code",
   "execution_count": 356,
   "id": "0558807a",
   "metadata": {},
   "outputs": [],
   "source": [
    "# function to create labeled barplots\n",
    "\n",
    "def labeled_barplot(data, feature, feature_2, order, perc=False, n=None):\n",
    "    \"\"\"\n",
    "    Barplot with percentage at the top\n",
    "\n",
    "    data: dataframe\n",
    "    feature: dataframe column\n",
    "    feature_2: dataframe column\n",
    "    perc: whether to display percentages instead of count (default is False)\n",
    "    n: displays the top n category levels (default is None, i.e., display all levels)\n",
    "    \"\"\"\n",
    "\n",
    "    total = len(data[feature])  # length of the column\n",
    "    count = data[feature].nunique()\n",
    "    if n is None:\n",
    "        plt.figure(figsize=(count + 1, 5))\n",
    "    else:\n",
    "        plt.figure(figsize=(n + 1, 5))\n",
    "        \n",
    "    ax = sns.countplot(\n",
    "        data=data,\n",
    "        x=feature,\n",
    "        palette='viridis',\n",
    "        order=order,\n",
    "        hue=feature_2,\n",
    "    )\n",
    "\n",
    "    for p in ax.patches:\n",
    "        if perc == True:\n",
    "            label = \"{:.1f}%\".format(\n",
    "                100 * p.get_height() / total\n",
    "            )  # percentage of each class of the category\n",
    "        else:\n",
    "            label = p.get_height()  # count of each level of the category\n",
    "\n",
    "        x = p.get_x() + p.get_width() / 2  # width of the plot\n",
    "        y = p.get_height()  # height of the plot\n",
    "\n",
    "        ax.annotate(\n",
    "            label,\n",
    "            (x, y),\n",
    "            ha=\"center\",\n",
    "            va=\"center\",\n",
    "            size=9,\n",
    "            xytext=(0, 5),\n",
    "            textcoords=\"offset points\"\n",
    "        )  # annotate the percentage\n",
    "\n",
    "    plt.show()  # show the plot"
   ]
  },
  {
   "cell_type": "code",
   "execution_count": 358,
   "id": "1aaf5cbc",
   "metadata": {},
   "outputs": [],
   "source": [
    "# Let's create a function to print the category counts and plot a stacked bar chart\n",
    "\n",
    "def stacked_barplot(data, predictor, target):\n",
    "\n",
    "    count = data[predictor].nunique()\n",
    "    sorter = data[target].value_counts().index[-1]\n",
    "    tab1 = pd.crosstab(data[predictor], data[target], margins=True).sort_values(\n",
    "        by=sorter, ascending=False\n",
    "    )\n",
    "    print(tab1)\n",
    "    print(\"-\" * 120)\n",
    "    tab = pd.crosstab(data[predictor], data[target], normalize=\"index\").sort_values(\n",
    "        by=sorter, ascending=False\n",
    "    )\n",
    "    tab.plot(kind=\"bar\", stacked=True, figsize=(count + 5, 5))\n",
    "    plt.legend(\n",
    "        loc=\"lower left\", frameon=False,\n",
    "    )\n",
    "    plt.legend(loc=\"upper left\", bbox_to_anchor=(1, 1))"
   ]
  },
  {
   "cell_type": "markdown",
   "id": "classified-traveler",
   "metadata": {
    "id": "classified-traveler"
   },
   "source": [
    "**Leading Questions**:\n",
    "1. Those with higher education may want to travel abroad for a well-paid job. Does education play a role in Visa certification? \n",
    "\n",
    "2. How does the visa status vary across different continents? \n",
    " \n",
    "3. Experienced professionals might look abroad for opportunities to improve their lifestyles and career development. Does work experience influence visa status? \n",
    " \n",
    "4. In the United States, employees are paid at different intervals. Which pay unit is most likely to be certified for a visa? \n",
    " \n",
    "5. The US government has established a prevailing wage to protect local talent and foreign workers. How does the visa status change with the prevailing wage?"
   ]
  },
  {
   "cell_type": "markdown",
   "id": "1bee7e04",
   "metadata": {
    "id": "mechanical-interference"
   },
   "source": [
    "### A. Univariate Analysis"
   ]
  },
  {
   "cell_type": "markdown",
   "id": "1977d269",
   "metadata": {},
   "source": [
    "### Information of continent the employee"
   ]
  },
  {
   "cell_type": "code",
   "execution_count": 359,
   "id": "9babe884",
   "metadata": {},
   "outputs": [
    {
     "data": {
      "image/png": "[encoded data removed]",
      "text/plain": [
       "<Figure size 504x360 with 1 Axes>"
      ]
     },
     "metadata": {
      "needs_background": "light"
     },
     "output_type": "display_data"
    }
   ],
   "source": [
    "custom_barplot(df, \"continent\", perc=True)"
   ]
  },
  {
   "cell_type": "markdown",
   "id": "443ff2e9",
   "metadata": {},
   "source": [
    "More than 60% of employees come from the continent of Asia. "
   ]
  },
  {
   "cell_type": "markdown",
   "id": "49dbb452",
   "metadata": {},
   "source": [
    "### Information of education of the employee"
   ]
  },
  {
   "cell_type": "code",
   "execution_count": 360,
   "id": "ab138182",
   "metadata": {},
   "outputs": [
    {
     "data": {
      "image/png": "[encoded data removed]",
      "text/plain": [
       "<Figure size 360x360 with 1 Axes>"
      ]
     },
     "metadata": {
      "needs_background": "light"
     },
     "output_type": "display_data"
    }
   ],
   "source": [
    "custom_barplot(df, \"education_of_employee\", perc=True)"
   ]
  },
  {
   "cell_type": "markdown",
   "id": "e9a02cad",
   "metadata": {},
   "source": [
    "- Majority of employees have a bachelor's (40.2%) or a master's (37.8%).\n",
    "- Minority of applicants have a high school diploma (13.4%) and doctorate with the lowest percentage of (8.6%)."
   ]
  },
  {
   "cell_type": "markdown",
   "id": "d159a61e",
   "metadata": {},
   "source": [
    "### Observations on employees `job_experience`"
   ]
  },
  {
   "cell_type": "code",
   "execution_count": 361,
   "id": "13a449d2",
   "metadata": {},
   "outputs": [
    {
     "data": {
      "image/png": "[encoded data removed]",
      "text/plain": [
       "<Figure size 216x360 with 1 Axes>"
      ]
     },
     "metadata": {
      "needs_background": "light"
     },
     "output_type": "display_data"
    }
   ],
   "source": [
    "custom_barplot(df, \"has_job_experience\", perc=True)"
   ]
  },
  {
   "cell_type": "markdown",
   "id": "4176db3d",
   "metadata": {},
   "source": [
    "58.1% of employees have previous job experiences while about 42% of employees have no job experience. "
   ]
  },
  {
   "cell_type": "markdown",
   "id": "7decc872",
   "metadata": {},
   "source": [
    "### The number of employees that require any job training"
   ]
  },
  {
   "cell_type": "code",
   "execution_count": 362,
   "id": "92fbca81",
   "metadata": {},
   "outputs": [
    {
     "data": {
      "image/png": "[encoded data removed]",
      "text/plain": [
       "<Figure size 216x360 with 1 Axes>"
      ]
     },
     "metadata": {
      "needs_background": "light"
     },
     "output_type": "display_data"
    }
   ],
   "source": [
    "custom_barplot(df, \"requires_job_training\", perc=True)"
   ]
  },
  {
   "cell_type": "markdown",
   "id": "7f4cd720",
   "metadata": {},
   "source": [
    "Approximately 88% of employees do not require job training. Although we observed that only 58.1% had prior job experience. It appears that some occupations require employees with no prior job experience"
   ]
  },
  {
   "cell_type": "markdown",
   "id": "7792a88d",
   "metadata": {},
   "source": [
    "### Information of foreign worker's intended region of employment in the US"
   ]
  },
  {
   "cell_type": "code",
   "execution_count": 363,
   "id": "ad3911a3",
   "metadata": {},
   "outputs": [
    {
     "data": {
      "image/png": "[encoded data removed]",
      "text/plain": [
       "<Figure size 432x360 with 1 Axes>"
      ]
     },
     "metadata": {
      "needs_background": "light"
     },
     "output_type": "display_data"
    }
   ],
   "source": [
    "custom_barplot(df, \"region_of_employment\", perc=True)"
   ]
  },
  {
   "cell_type": "markdown",
   "id": "0ced611a",
   "metadata": {},
   "source": [
    "As it appears, the Northeast, South and West regions in the US have almost equal employment opportunities with 28.2%, 27.5%, and 25.8% respectively. These regions are closely followed by Midwest (16.9%) and Island with (1.5%)."
   ]
  },
  {
   "cell_type": "markdown",
   "id": "d653e3ed",
   "metadata": {},
   "source": [
    "### Full Time Position vs Part Time Position"
   ]
  },
  {
   "cell_type": "code",
   "execution_count": 364,
   "id": "d92910a5",
   "metadata": {},
   "outputs": [
    {
     "data": {
      "image/png": "[encoded data removed]",
      "text/plain": [
       "<Figure size 216x360 with 1 Axes>"
      ]
     },
     "metadata": {
      "needs_background": "light"
     },
     "output_type": "display_data"
    }
   ],
   "source": [
    "custom_barplot(df, \"full_time_position\", perc=True)"
   ]
  },
  {
   "cell_type": "markdown",
   "id": "fd0e9c25",
   "metadata": {},
   "source": [
    "About 90% of work positions offer full-time positions. Only 10.6% of of employers offer part-time positions. "
   ]
  },
  {
   "cell_type": "markdown",
   "id": "abf188cb",
   "metadata": {},
   "source": [
    "### Observations on case_status"
   ]
  },
  {
   "cell_type": "code",
   "execution_count": 365,
   "id": "fa555935",
   "metadata": {},
   "outputs": [
    {
     "data": {
      "image/png": "[encoded data removed]",
      "text/plain": [
       "<Figure size 216x360 with 1 Axes>"
      ]
     },
     "metadata": {
      "needs_background": "light"
     },
     "output_type": "display_data"
    }
   ],
   "source": [
    "custom_barplot(df, \"case_status\", perc=True)"
   ]
  },
  {
   "cell_type": "markdown",
   "id": "6ef7ca06",
   "metadata": {},
   "source": [
    "66.8% of visa applications are certified while 33.2% of applications are denied. "
   ]
  },
  {
   "cell_type": "markdown",
   "id": "202e1d47",
   "metadata": {},
   "source": [
    "### B. Bivariate Analysis"
   ]
  },
  {
   "cell_type": "markdown",
   "id": "83ab08a4",
   "metadata": {},
   "source": [
    "### Year of establishment vs case_status"
   ]
  },
  {
   "cell_type": "code",
   "execution_count": 366,
   "id": "916a9bb3",
   "metadata": {},
   "outputs": [
    {
     "data": {
      "image/png": "[encoded data removed]",
      "text/plain": [
       "<Figure size 1440x360 with 1 Axes>"
      ]
     },
     "metadata": {
      "needs_background": "light"
     },
     "output_type": "display_data"
    }
   ],
   "source": [
    "plt.figure(figsize=(20,5))\n",
    "sns.histplot(df, x=\"yr_of_estab\", hue=\"case_status\");"
   ]
  },
  {
   "cell_type": "markdown",
   "id": "2b440caa",
   "metadata": {},
   "source": [
    "50% of all cases are certified than denied for employers irrespective of the employer's year of establishment "
   ]
  },
  {
   "cell_type": "code",
   "execution_count": 367,
   "id": "e559b676",
   "metadata": {},
   "outputs": [
    {
     "name": "stdout",
     "output_type": "stream",
     "text": [
      "case_status   Certified  Denied    All\n",
      "unit_of_wage                          \n",
      "All               17018    8462  25480\n",
      "Year              16047    6915  22962\n",
      "Hour                747    1410   2157\n",
      "Week                169     103    272\n",
      "Month                55      34     89\n",
      "------------------------------------------------------------------------------------------------------------------------\n"
     ]
    },
    {
     "data": {
      "image/png": "[encoded data removed]",
      "text/plain": [
       "<Figure size 648x360 with 1 Axes>"
      ]
     },
     "metadata": {
      "needs_background": "light"
     },
     "output_type": "display_data"
    }
   ],
   "source": [
    "stacked_barplot(df, \"unit_of_wage\", \"case_status\")"
   ]
  },
  {
   "cell_type": "markdown",
   "id": "36843fcc",
   "metadata": {},
   "source": [
    "Almost 70% of cases are certified when the `unit_of_wage` is yearly. Less than 40% of cases are denied when the `unit_of_wage` is hourly."
   ]
  },
  {
   "cell_type": "markdown",
   "id": "541255df",
   "metadata": {},
   "source": [
    "### Prevailing_wage vs case_status"
   ]
  },
  {
   "cell_type": "code",
   "execution_count": 368,
   "id": "b83e0f52",
   "metadata": {},
   "outputs": [
    {
     "data": {
      "image/png": "[encoded data removed]",
      "text/plain": [
       "<Figure size 1440x360 with 1 Axes>"
      ]
     },
     "metadata": {
      "needs_background": "light"
     },
     "output_type": "display_data"
    }
   ],
   "source": [
    "plt.figure(figsize=(20,5))\n",
    "sns.histplot(df, x=\"prevailing_wage\", hue=\"case_status\");"
   ]
  },
  {
   "cell_type": "markdown",
   "id": "b2c89c5c",
   "metadata": {},
   "source": [
    "% certifications in comparison to % denied drops slightly on the lower end of the prevailing_wage and increases slightly on the upper end of the prevailing_wage"
   ]
  },
  {
   "cell_type": "markdown",
   "id": "97428981",
   "metadata": {},
   "source": [
    "### Continent vs case status"
   ]
  },
  {
   "cell_type": "code",
   "execution_count": 369,
   "id": "3f834a93",
   "metadata": {},
   "outputs": [
    {
     "name": "stdout",
     "output_type": "stream",
     "text": [
      "case_status    Certified  Denied    All\n",
      "continent                              \n",
      "All                17018    8462  25480\n",
      "Asia               11012    5849  16861\n",
      "North America       2037    1255   3292\n",
      "Europe              2957     775   3732\n",
      "South America        493     359    852\n",
      "Africa               397     154    551\n",
      "Oceania              122      70    192\n",
      "------------------------------------------------------------------------------------------------------------------------\n"
     ]
    },
    {
     "data": {
      "image/png": "[encoded data removed]",
      "text/plain": [
       "<Figure size 792x360 with 1 Axes>"
      ]
     },
     "metadata": {
      "needs_background": "light"
     },
     "output_type": "display_data"
    }
   ],
   "source": [
    "stacked_barplot(df, \"continent\", \"case_status\")"
   ]
  },
  {
   "cell_type": "markdown",
   "id": "73cc5433",
   "metadata": {},
   "source": [
    "- Irrespective of the continent the employee is from, more cases are certified than denied\n",
    "- The trend observed w.r.t % certification for continents is Europe > Africa > Asia > Oceania > North America & South America"
   ]
  },
  {
   "cell_type": "markdown",
   "id": "70c36035",
   "metadata": {},
   "source": [
    "### Education vs case status"
   ]
  },
  {
   "cell_type": "code",
   "execution_count": 370,
   "id": "27d2c6b4",
   "metadata": {},
   "outputs": [
    {
     "name": "stdout",
     "output_type": "stream",
     "text": [
      "case_status            Certified  Denied    All\n",
      "education_of_employee                          \n",
      "All                        17018    8462  25480\n",
      "Bachelor's                  6367    3867  10234\n",
      "High School                 1164    2256   3420\n",
      "Master's                    7575    2059   9634\n",
      "Doctorate                   1912     280   2192\n",
      "------------------------------------------------------------------------------------------------------------------------\n"
     ]
    },
    {
     "data": {
      "image/png": "[encoded data removed]",
      "text/plain": [
       "<Figure size 648x360 with 1 Axes>"
      ]
     },
     "metadata": {
      "needs_background": "light"
     },
     "output_type": "display_data"
    }
   ],
   "source": [
    "stacked_barplot(df, \"education_of_employee\", \"case_status\")"
   ]
  },
  {
   "cell_type": "markdown",
   "id": "e07f65cf",
   "metadata": {},
   "source": [
    "As expected the, the trend observed w.r.t % visa certification for education of employees is Doctorate > Master's > Bachelor's > High School "
   ]
  },
  {
   "cell_type": "markdown",
   "id": "c089e882",
   "metadata": {},
   "source": [
    "### Job experience vs case status"
   ]
  },
  {
   "cell_type": "code",
   "execution_count": 371,
   "id": "d05883ab",
   "metadata": {},
   "outputs": [
    {
     "name": "stdout",
     "output_type": "stream",
     "text": [
      "case_status         Certified  Denied    All\n",
      "has_job_experience                          \n",
      "All                     17018    8462  25480\n",
      "N                        5994    4684  10678\n",
      "Y                       11024    3778  14802\n",
      "------------------------------------------------------------------------------------------------------------------------\n"
     ]
    },
    {
     "data": {
      "image/png": "[encoded data removed]",
      "text/plain": [
       "<Figure size 504x360 with 1 Axes>"
      ]
     },
     "metadata": {
      "needs_background": "light"
     },
     "output_type": "display_data"
    }
   ],
   "source": [
    "stacked_barplot(df, \"has_job_experience\", \"case_status\")"
   ]
  },
  {
   "cell_type": "markdown",
   "id": "dac79f64",
   "metadata": {},
   "source": [
    "Majority of the exployees with job experience have their visa certified compared to those without job experience."
   ]
  },
  {
   "cell_type": "markdown",
   "id": "507e7e65",
   "metadata": {},
   "source": [
    "### Requires_job_training vs case status"
   ]
  },
  {
   "cell_type": "code",
   "execution_count": 372,
   "id": "4cca79e8",
   "metadata": {},
   "outputs": [
    {
     "name": "stdout",
     "output_type": "stream",
     "text": [
      "case_status            Certified  Denied    All\n",
      "requires_job_training                          \n",
      "All                        17018    8462  25480\n",
      "N                          15012    7513  22525\n",
      "Y                           2006     949   2955\n",
      "------------------------------------------------------------------------------------------------------------------------\n"
     ]
    },
    {
     "data": {
      "image/png": "[encoded data removed]",
      "text/plain": [
       "<Figure size 504x360 with 1 Axes>"
      ]
     },
     "metadata": {
      "needs_background": "light"
     },
     "output_type": "display_data"
    }
   ],
   "source": [
    "stacked_barplot(df, \"requires_job_training\", \"case_status\")"
   ]
  },
  {
   "cell_type": "markdown",
   "id": "6426a4e1",
   "metadata": {},
   "source": [
    "Trend observed w.r.t. % visa certifications for `requires_job_training` is same (Yes ~ No)"
   ]
  },
  {
   "cell_type": "markdown",
   "id": "c23b4757",
   "metadata": {},
   "source": [
    "### Region of employment vs case status"
   ]
  },
  {
   "cell_type": "code",
   "execution_count": 373,
   "id": "88bd557c",
   "metadata": {},
   "outputs": [
    {
     "name": "stdout",
     "output_type": "stream",
     "text": [
      "case_status           Certified  Denied    All\n",
      "region_of_employment                          \n",
      "All                       17018    8462  25480\n",
      "Northeast                  4526    2669   7195\n",
      "West                       4100    2486   6586\n",
      "South                      4913    2104   7017\n",
      "Midwest                    3253    1054   4307\n",
      "Island                      226     149    375\n",
      "------------------------------------------------------------------------------------------------------------------------\n"
     ]
    },
    {
     "data": {
      "image/png": "[encoded data removed]",
      "text/plain": [
       "<Figure size 720x360 with 1 Axes>"
      ]
     },
     "metadata": {
      "needs_background": "light"
     },
     "output_type": "display_data"
    }
   ],
   "source": [
    "stacked_barplot(df, \"region_of_employment\", \"case_status\")"
   ]
  },
  {
   "cell_type": "markdown",
   "id": "7668d07a",
   "metadata": {},
   "source": [
    "Trend observed w.r.t visa certifications for `region_of_employment` is MidWest > South > Northeast ~ West > Island "
   ]
  },
  {
   "cell_type": "markdown",
   "id": "9fcd190b",
   "metadata": {},
   "source": [
    "### Full time position vs case status"
   ]
  },
  {
   "cell_type": "code",
   "execution_count": 374,
   "id": "0e5d2538",
   "metadata": {},
   "outputs": [
    {
     "name": "stdout",
     "output_type": "stream",
     "text": [
      "case_status         Certified  Denied    All\n",
      "full_time_position                          \n",
      "All                     17018    8462  25480\n",
      "Y                       15163    7610  22773\n",
      "N                        1855     852   2707\n",
      "------------------------------------------------------------------------------------------------------------------------\n"
     ]
    },
    {
     "data": {
      "image/png": "[encoded data removed]",
      "text/plain": [
       "<Figure size 504x360 with 1 Axes>"
      ]
     },
     "metadata": {
      "needs_background": "light"
     },
     "output_type": "display_data"
    }
   ],
   "source": [
    "stacked_barplot(df, \"full_time_position\", \"case_status\")"
   ]
  },
  {
   "cell_type": "markdown",
   "id": "c4981cef",
   "metadata": {},
   "source": [
    "Trend observed w.r.t. % visa certifications for `full_time_position` is the same (Yes ~ No)"
   ]
  },
  {
   "cell_type": "markdown",
   "id": "17d5e0aa",
   "metadata": {},
   "source": [
    "### Leading questions"
   ]
  },
  {
   "cell_type": "markdown",
   "id": "3428e44d",
   "metadata": {},
   "source": [
    "### 1. Those with higher education may want to travel abroad for a well-paid job. Does education play a role in Visa certification?"
   ]
  },
  {
   "cell_type": "code",
   "execution_count": 375,
   "id": "784d7495",
   "metadata": {},
   "outputs": [
    {
     "data": {
      "text/plain": [
       "education_of_employee           \n",
       "Bachelor's             Certified    6367\n",
       "                       Denied       3867\n",
       "Doctorate              Certified    1912\n",
       "                       Denied        280\n",
       "High School            Denied       2256\n",
       "                       Certified    1164\n",
       "Master's               Certified    7575\n",
       "                       Denied       2059\n",
       "Name: case_status, dtype: int64"
      ]
     },
     "execution_count": 375,
     "metadata": {},
     "output_type": "execute_result"
    }
   ],
   "source": [
    "#Let's group data by `education_of_employee` and count the numbers of each `case_status` for each category\n",
    "df.groupby('education_of_employee')['case_status'].value_counts()"
   ]
  },
  {
   "cell_type": "markdown",
   "id": "9631d6cb",
   "metadata": {},
   "source": [
    "Using the custom barplot, let's create a plot of the data above"
   ]
  },
  {
   "cell_type": "code",
   "execution_count": 376,
   "id": "98acc442",
   "metadata": {},
   "outputs": [
    {
     "data": {
      "image/png": "[encoded data removed]",
      "text/plain": [
       "<Figure size 360x360 with 1 Axes>"
      ]
     },
     "metadata": {
      "needs_background": "light"
     },
     "output_type": "display_data"
    }
   ],
   "source": [
    "labeled_barplot(df,'education_of_employee','case_status', order=[\"High School\",\"Bachelor's\",\"Master's\",\"Doctorate\"], perc=True)"
   ]
  },
  {
   "cell_type": "markdown",
   "id": "2b001a20",
   "metadata": {},
   "source": [
    "- As the graph aboves shows, the ratio of applications being certified versus denied increases considerably as an applicant's highest level of education achieved increases.\n",
    "- The ratio of an applicant with a high school diploma being approved versus denied is ~1:2, whereas the same ratio for an applicant with a doctorate is ~7:1."
   ]
  },
  {
   "cell_type": "markdown",
   "id": "f77bf172",
   "metadata": {},
   "source": [
    "### 2. How does the visa status vary across different continents? "
   ]
  },
  {
   "cell_type": "code",
   "execution_count": 377,
   "id": "ee80b0ff",
   "metadata": {},
   "outputs": [
    {
     "data": {
      "text/plain": [
       "continent               \n",
       "Africa         Certified      397\n",
       "               Denied         154\n",
       "Asia           Certified    11012\n",
       "               Denied        5849\n",
       "Europe         Certified     2957\n",
       "               Denied         775\n",
       "North America  Certified     2037\n",
       "               Denied        1255\n",
       "Oceania        Certified      122\n",
       "               Denied          70\n",
       "South America  Certified      493\n",
       "               Denied         359\n",
       "Name: case_status, dtype: int64"
      ]
     },
     "execution_count": 377,
     "metadata": {},
     "output_type": "execute_result"
    }
   ],
   "source": [
    "df.groupby('continent')['case_status'].value_counts()"
   ]
  },
  {
   "cell_type": "markdown",
   "id": "25d3ad41",
   "metadata": {},
   "source": [
    "Using the custom barplot, let's create a plot of the data above"
   ]
  },
  {
   "cell_type": "code",
   "execution_count": 378,
   "id": "00310768",
   "metadata": {},
   "outputs": [
    {
     "data": {
      "image/png": "[encoded data removed]",
      "text/plain": [
       "<Figure size 504x360 with 1 Axes>"
      ]
     },
     "metadata": {
      "needs_background": "light"
     },
     "output_type": "display_data"
    }
   ],
   "source": [
    "labeled_barplot(df,'continent','case_status', order=None, perc=True)"
   ]
  },
  {
   "cell_type": "markdown",
   "id": "fad0846d",
   "metadata": {},
   "source": [
    "- Applicants from Asia comprise ~2/3 of all applications. These applicants have almost a 2:1 ratio of approvals to denials.\n",
    "- An application from a European applicant has the best ratio of approvals to denials (~4:1)."
   ]
  },
  {
   "cell_type": "markdown",
   "id": "e97457ce",
   "metadata": {},
   "source": [
    "### 3. Experienced professionals might look abroad for opportunities to improve their lifestyles and career development. Does work experience influence visa status? "
   ]
  },
  {
   "cell_type": "code",
   "execution_count": 379,
   "id": "d580a2fa",
   "metadata": {},
   "outputs": [
    {
     "data": {
      "text/plain": [
       "has_job_experience           \n",
       "N                   Certified     5994\n",
       "                    Denied        4684\n",
       "Y                   Certified    11024\n",
       "                    Denied        3778\n",
       "Name: case_status, dtype: int64"
      ]
     },
     "execution_count": 379,
     "metadata": {},
     "output_type": "execute_result"
    }
   ],
   "source": [
    "df.groupby('has_job_experience')['case_status'].value_counts()"
   ]
  },
  {
   "cell_type": "markdown",
   "id": "d489e293",
   "metadata": {},
   "source": [
    "Using the custom barplot, let's create a plot of the data above"
   ]
  },
  {
   "cell_type": "code",
   "execution_count": 380,
   "id": "dea21a34",
   "metadata": {},
   "outputs": [
    {
     "data": {
      "image/png": "[encoded data removed]",
      "text/plain": [
       "<Figure size 216x360 with 1 Axes>"
      ]
     },
     "metadata": {
      "needs_background": "light"
     },
     "output_type": "display_data"
    }
   ],
   "source": [
    "labeled_barplot(df,'has_job_experience','case_status', order=None, perc=True)"
   ]
  },
  {
   "cell_type": "markdown",
   "id": "b8ea8d35",
   "metadata": {},
   "source": [
    "- Work experience appear to affect the visa status with more experienced professionals visa status being certified compared to employees with no work experience. \n",
    "- Half the number of employees with no job experience have their visa status certified compared to those with job experience. "
   ]
  },
  {
   "cell_type": "markdown",
   "id": "e0ff78e9",
   "metadata": {},
   "source": [
    "### 4. In the United States, employees are paid at different intervals. Which pay unit is most likely to be certified for a visa? "
   ]
  },
  {
   "cell_type": "code",
   "execution_count": 383,
   "id": "859c3386",
   "metadata": {},
   "outputs": [
    {
     "data": {
      "text/plain": [
       "unit_of_wage           \n",
       "Hour          Denied        1410\n",
       "              Certified      747\n",
       "Month         Certified       55\n",
       "              Denied          34\n",
       "Week          Certified      169\n",
       "              Denied         103\n",
       "Year          Certified    16047\n",
       "              Denied        6915\n",
       "Name: case_status, dtype: int64"
      ]
     },
     "execution_count": 383,
     "metadata": {},
     "output_type": "execute_result"
    }
   ],
   "source": [
    "df.groupby('unit_of_wage')['case_status'].value_counts()"
   ]
  },
  {
   "cell_type": "markdown",
   "id": "4d310a7c",
   "metadata": {},
   "source": [
    "Using the custom barplot, let's create a plot of the data above"
   ]
  },
  {
   "cell_type": "code",
   "execution_count": 384,
   "id": "5486790b",
   "metadata": {},
   "outputs": [
    {
     "data": {
      "image/png": "[encoded data removed]",
      "text/plain": [
       "<Figure size 360x360 with 1 Axes>"
      ]
     },
     "metadata": {
      "needs_background": "light"
     },
     "output_type": "display_data"
    }
   ],
   "source": [
    "labeled_barplot(df,'unit_of_wage','case_status', order=None, perc=True)"
   ]
  },
  {
   "cell_type": "markdown",
   "id": "dfa06505",
   "metadata": {},
   "source": [
    "- Applicants who are applying to work in a job with an hourly rate have a ratio of approved versus denied applications of ~1:2. Additionally, these applicants comprise only ~8% of all applications, but comprise ~17% of all denials."
   ]
  },
  {
   "cell_type": "markdown",
   "id": "c63d0ece",
   "metadata": {},
   "source": [
    "### 5. The US government has established a prevailing wage to protect local talent and foreign workers. How does the visa status change with the prevailing wage?"
   ]
  },
  {
   "cell_type": "code",
   "execution_count": 385,
   "id": "3e6e06c4",
   "metadata": {},
   "outputs": [
    {
     "data": {
      "text/plain": [
       "prevailing_wage           \n",
       "2.1367           Certified    1\n",
       "                 Denied       0\n",
       "2.9561           Denied       1\n",
       "                 Certified    0\n",
       "3.0031           Denied       1\n",
       "                             ..\n",
       "315497.6000      Denied       0\n",
       "318446.0500      Certified    1\n",
       "                 Denied       0\n",
       "319210.2700      Denied       1\n",
       "                 Certified    0\n",
       "Name: case_status, Length: 50908, dtype: int64"
      ]
     },
     "execution_count": 385,
     "metadata": {},
     "output_type": "execute_result"
    }
   ],
   "source": [
    "df.groupby('prevailing_wage')['case_status'].value_counts()"
   ]
  },
  {
   "cell_type": "markdown",
   "id": "alleged-spirituality",
   "metadata": {
    "id": "alleged-spirituality"
   },
   "source": [
    "## Data Preprocessing\n",
    "\n",
    "- Missing value treatment (if needed)\n",
    "- Feature engineering \n",
    "- Outlier detection and treatment (if needed)\n",
    "- Preparing data for modeling \n",
    "- Any other preprocessing steps (if needed)"
   ]
  },
  {
   "cell_type": "markdown",
   "id": "fec0641a",
   "metadata": {},
   "source": [
    "Let's encode `Certified` as 1 and `Denied` as 0"
   ]
  },
  {
   "cell_type": "code",
   "execution_count": 386,
   "id": "5e45773a",
   "metadata": {},
   "outputs": [
    {
     "data": {
      "text/html": [
       "<div>\n",
       "<style scoped>\n",
       "    .dataframe tbody tr th:only-of-type {\n",
       "        vertical-align: middle;\n",
       "    }\n",
       "\n",
       "    .dataframe tbody tr th {\n",
       "        vertical-align: top;\n",
       "    }\n",
       "\n",
       "    .dataframe thead th {\n",
       "        text-align: right;\n",
       "    }\n",
       "</style>\n",
       "<table border=\"1\" class=\"dataframe\">\n",
       "  <thead>\n",
       "    <tr style=\"text-align: right;\">\n",
       "      <th></th>\n",
       "      <th>continent</th>\n",
       "      <th>education_of_employee</th>\n",
       "      <th>has_job_experience</th>\n",
       "      <th>requires_job_training</th>\n",
       "      <th>no_of_employees</th>\n",
       "      <th>yr_of_estab</th>\n",
       "      <th>region_of_employment</th>\n",
       "      <th>prevailing_wage</th>\n",
       "      <th>unit_of_wage</th>\n",
       "      <th>full_time_position</th>\n",
       "      <th>case_status</th>\n",
       "    </tr>\n",
       "  </thead>\n",
       "  <tbody>\n",
       "    <tr>\n",
       "      <th>0</th>\n",
       "      <td>Asia</td>\n",
       "      <td>High School</td>\n",
       "      <td>N</td>\n",
       "      <td>N</td>\n",
       "      <td>14513</td>\n",
       "      <td>2007</td>\n",
       "      <td>West</td>\n",
       "      <td>592.2029</td>\n",
       "      <td>Hour</td>\n",
       "      <td>Y</td>\n",
       "      <td>Denied</td>\n",
       "    </tr>\n",
       "    <tr>\n",
       "      <th>1</th>\n",
       "      <td>Asia</td>\n",
       "      <td>Master's</td>\n",
       "      <td>Y</td>\n",
       "      <td>N</td>\n",
       "      <td>2412</td>\n",
       "      <td>2002</td>\n",
       "      <td>Northeast</td>\n",
       "      <td>83425.6500</td>\n",
       "      <td>Year</td>\n",
       "      <td>Y</td>\n",
       "      <td>Certified</td>\n",
       "    </tr>\n",
       "    <tr>\n",
       "      <th>2</th>\n",
       "      <td>Asia</td>\n",
       "      <td>Bachelor's</td>\n",
       "      <td>N</td>\n",
       "      <td>Y</td>\n",
       "      <td>44444</td>\n",
       "      <td>2008</td>\n",
       "      <td>West</td>\n",
       "      <td>122996.8600</td>\n",
       "      <td>Year</td>\n",
       "      <td>Y</td>\n",
       "      <td>Denied</td>\n",
       "    </tr>\n",
       "    <tr>\n",
       "      <th>3</th>\n",
       "      <td>Asia</td>\n",
       "      <td>Bachelor's</td>\n",
       "      <td>N</td>\n",
       "      <td>N</td>\n",
       "      <td>98</td>\n",
       "      <td>1897</td>\n",
       "      <td>West</td>\n",
       "      <td>83434.0300</td>\n",
       "      <td>Year</td>\n",
       "      <td>Y</td>\n",
       "      <td>Denied</td>\n",
       "    </tr>\n",
       "    <tr>\n",
       "      <th>4</th>\n",
       "      <td>Africa</td>\n",
       "      <td>Master's</td>\n",
       "      <td>Y</td>\n",
       "      <td>N</td>\n",
       "      <td>1082</td>\n",
       "      <td>2005</td>\n",
       "      <td>South</td>\n",
       "      <td>149907.3900</td>\n",
       "      <td>Year</td>\n",
       "      <td>Y</td>\n",
       "      <td>Certified</td>\n",
       "    </tr>\n",
       "    <tr>\n",
       "      <th>...</th>\n",
       "      <td>...</td>\n",
       "      <td>...</td>\n",
       "      <td>...</td>\n",
       "      <td>...</td>\n",
       "      <td>...</td>\n",
       "      <td>...</td>\n",
       "      <td>...</td>\n",
       "      <td>...</td>\n",
       "      <td>...</td>\n",
       "      <td>...</td>\n",
       "      <td>...</td>\n",
       "    </tr>\n",
       "    <tr>\n",
       "      <th>25475</th>\n",
       "      <td>Asia</td>\n",
       "      <td>Bachelor's</td>\n",
       "      <td>Y</td>\n",
       "      <td>Y</td>\n",
       "      <td>2601</td>\n",
       "      <td>2008</td>\n",
       "      <td>South</td>\n",
       "      <td>77092.5700</td>\n",
       "      <td>Year</td>\n",
       "      <td>Y</td>\n",
       "      <td>Certified</td>\n",
       "    </tr>\n",
       "    <tr>\n",
       "      <th>25476</th>\n",
       "      <td>Asia</td>\n",
       "      <td>High School</td>\n",
       "      <td>Y</td>\n",
       "      <td>N</td>\n",
       "      <td>3274</td>\n",
       "      <td>2006</td>\n",
       "      <td>Northeast</td>\n",
       "      <td>279174.7900</td>\n",
       "      <td>Year</td>\n",
       "      <td>Y</td>\n",
       "      <td>Certified</td>\n",
       "    </tr>\n",
       "    <tr>\n",
       "      <th>25477</th>\n",
       "      <td>Asia</td>\n",
       "      <td>Master's</td>\n",
       "      <td>Y</td>\n",
       "      <td>N</td>\n",
       "      <td>1121</td>\n",
       "      <td>1910</td>\n",
       "      <td>South</td>\n",
       "      <td>146298.8500</td>\n",
       "      <td>Year</td>\n",
       "      <td>N</td>\n",
       "      <td>Certified</td>\n",
       "    </tr>\n",
       "    <tr>\n",
       "      <th>25478</th>\n",
       "      <td>Asia</td>\n",
       "      <td>Master's</td>\n",
       "      <td>Y</td>\n",
       "      <td>Y</td>\n",
       "      <td>1918</td>\n",
       "      <td>1887</td>\n",
       "      <td>West</td>\n",
       "      <td>86154.7700</td>\n",
       "      <td>Year</td>\n",
       "      <td>Y</td>\n",
       "      <td>Certified</td>\n",
       "    </tr>\n",
       "    <tr>\n",
       "      <th>25479</th>\n",
       "      <td>Asia</td>\n",
       "      <td>Bachelor's</td>\n",
       "      <td>Y</td>\n",
       "      <td>N</td>\n",
       "      <td>3195</td>\n",
       "      <td>1960</td>\n",
       "      <td>Midwest</td>\n",
       "      <td>70876.9100</td>\n",
       "      <td>Year</td>\n",
       "      <td>Y</td>\n",
       "      <td>Certified</td>\n",
       "    </tr>\n",
       "  </tbody>\n",
       "</table>\n",
       "<p>25480 rows × 11 columns</p>\n",
       "</div>"
      ],
      "text/plain": [
       "      continent education_of_employee has_job_experience  \\\n",
       "0          Asia           High School                  N   \n",
       "1          Asia              Master's                  Y   \n",
       "2          Asia            Bachelor's                  N   \n",
       "3          Asia            Bachelor's                  N   \n",
       "4        Africa              Master's                  Y   \n",
       "...         ...                   ...                ...   \n",
       "25475      Asia            Bachelor's                  Y   \n",
       "25476      Asia           High School                  Y   \n",
       "25477      Asia              Master's                  Y   \n",
       "25478      Asia              Master's                  Y   \n",
       "25479      Asia            Bachelor's                  Y   \n",
       "\n",
       "      requires_job_training  no_of_employees  yr_of_estab  \\\n",
       "0                         N            14513         2007   \n",
       "1                         N             2412         2002   \n",
       "2                         Y            44444         2008   \n",
       "3                         N               98         1897   \n",
       "4                         N             1082         2005   \n",
       "...                     ...              ...          ...   \n",
       "25475                     Y             2601         2008   \n",
       "25476                     N             3274         2006   \n",
       "25477                     N             1121         1910   \n",
       "25478                     Y             1918         1887   \n",
       "25479                     N             3195         1960   \n",
       "\n",
       "      region_of_employment  prevailing_wage unit_of_wage full_time_position  \\\n",
       "0                     West         592.2029         Hour                  Y   \n",
       "1                Northeast       83425.6500         Year                  Y   \n",
       "2                     West      122996.8600         Year                  Y   \n",
       "3                     West       83434.0300         Year                  Y   \n",
       "4                    South      149907.3900         Year                  Y   \n",
       "...                    ...              ...          ...                ...   \n",
       "25475                South       77092.5700         Year                  Y   \n",
       "25476            Northeast      279174.7900         Year                  Y   \n",
       "25477                South      146298.8500         Year                  N   \n",
       "25478                 West       86154.7700         Year                  Y   \n",
       "25479              Midwest       70876.9100         Year                  Y   \n",
       "\n",
       "      case_status  \n",
       "0          Denied  \n",
       "1       Certified  \n",
       "2          Denied  \n",
       "3          Denied  \n",
       "4       Certified  \n",
       "...           ...  \n",
       "25475   Certified  \n",
       "25476   Certified  \n",
       "25477   Certified  \n",
       "25478   Certified  \n",
       "25479   Certified  \n",
       "\n",
       "[25480 rows x 11 columns]"
      ]
     },
     "execution_count": 386,
     "metadata": {},
     "output_type": "execute_result"
    }
   ],
   "source": [
    "df"
   ]
  },
  {
   "cell_type": "code",
   "execution_count": 387,
   "id": "increasing-louisiana",
   "metadata": {
    "id": "increasing-louisiana"
   },
   "outputs": [],
   "source": [
    "df['case_status'] = df['case_status'].apply(lambda x: 1 if x == \"Certified\" else 0)"
   ]
  },
  {
   "cell_type": "markdown",
   "id": "difficult-union",
   "metadata": {
    "id": "difficult-union"
   },
   "source": [
    "## EDA\n",
    "\n",
    "- It is a good idea to explore the data once again after manipulating it."
   ]
  },
  {
   "cell_type": "code",
   "execution_count": 388,
   "id": "interested-talent",
   "metadata": {
    "id": "interested-talent"
   },
   "outputs": [
    {
     "data": {
      "text/html": [
       "<div>\n",
       "<style scoped>\n",
       "    .dataframe tbody tr th:only-of-type {\n",
       "        vertical-align: middle;\n",
       "    }\n",
       "\n",
       "    .dataframe tbody tr th {\n",
       "        vertical-align: top;\n",
       "    }\n",
       "\n",
       "    .dataframe thead th {\n",
       "        text-align: right;\n",
       "    }\n",
       "</style>\n",
       "<table border=\"1\" class=\"dataframe\">\n",
       "  <thead>\n",
       "    <tr style=\"text-align: right;\">\n",
       "      <th></th>\n",
       "      <th>continent</th>\n",
       "      <th>education_of_employee</th>\n",
       "      <th>has_job_experience</th>\n",
       "      <th>requires_job_training</th>\n",
       "      <th>no_of_employees</th>\n",
       "      <th>yr_of_estab</th>\n",
       "      <th>region_of_employment</th>\n",
       "      <th>prevailing_wage</th>\n",
       "      <th>unit_of_wage</th>\n",
       "      <th>full_time_position</th>\n",
       "      <th>case_status</th>\n",
       "    </tr>\n",
       "  </thead>\n",
       "  <tbody>\n",
       "    <tr>\n",
       "      <th>0</th>\n",
       "      <td>Asia</td>\n",
       "      <td>High School</td>\n",
       "      <td>N</td>\n",
       "      <td>N</td>\n",
       "      <td>14513</td>\n",
       "      <td>2007</td>\n",
       "      <td>West</td>\n",
       "      <td>592.2029</td>\n",
       "      <td>Hour</td>\n",
       "      <td>Y</td>\n",
       "      <td>0</td>\n",
       "    </tr>\n",
       "    <tr>\n",
       "      <th>1</th>\n",
       "      <td>Asia</td>\n",
       "      <td>Master's</td>\n",
       "      <td>Y</td>\n",
       "      <td>N</td>\n",
       "      <td>2412</td>\n",
       "      <td>2002</td>\n",
       "      <td>Northeast</td>\n",
       "      <td>83425.6500</td>\n",
       "      <td>Year</td>\n",
       "      <td>Y</td>\n",
       "      <td>1</td>\n",
       "    </tr>\n",
       "    <tr>\n",
       "      <th>2</th>\n",
       "      <td>Asia</td>\n",
       "      <td>Bachelor's</td>\n",
       "      <td>N</td>\n",
       "      <td>Y</td>\n",
       "      <td>44444</td>\n",
       "      <td>2008</td>\n",
       "      <td>West</td>\n",
       "      <td>122996.8600</td>\n",
       "      <td>Year</td>\n",
       "      <td>Y</td>\n",
       "      <td>0</td>\n",
       "    </tr>\n",
       "    <tr>\n",
       "      <th>3</th>\n",
       "      <td>Asia</td>\n",
       "      <td>Bachelor's</td>\n",
       "      <td>N</td>\n",
       "      <td>N</td>\n",
       "      <td>98</td>\n",
       "      <td>1897</td>\n",
       "      <td>West</td>\n",
       "      <td>83434.0300</td>\n",
       "      <td>Year</td>\n",
       "      <td>Y</td>\n",
       "      <td>0</td>\n",
       "    </tr>\n",
       "    <tr>\n",
       "      <th>4</th>\n",
       "      <td>Africa</td>\n",
       "      <td>Master's</td>\n",
       "      <td>Y</td>\n",
       "      <td>N</td>\n",
       "      <td>1082</td>\n",
       "      <td>2005</td>\n",
       "      <td>South</td>\n",
       "      <td>149907.3900</td>\n",
       "      <td>Year</td>\n",
       "      <td>Y</td>\n",
       "      <td>1</td>\n",
       "    </tr>\n",
       "    <tr>\n",
       "      <th>...</th>\n",
       "      <td>...</td>\n",
       "      <td>...</td>\n",
       "      <td>...</td>\n",
       "      <td>...</td>\n",
       "      <td>...</td>\n",
       "      <td>...</td>\n",
       "      <td>...</td>\n",
       "      <td>...</td>\n",
       "      <td>...</td>\n",
       "      <td>...</td>\n",
       "      <td>...</td>\n",
       "    </tr>\n",
       "    <tr>\n",
       "      <th>25475</th>\n",
       "      <td>Asia</td>\n",
       "      <td>Bachelor's</td>\n",
       "      <td>Y</td>\n",
       "      <td>Y</td>\n",
       "      <td>2601</td>\n",
       "      <td>2008</td>\n",
       "      <td>South</td>\n",
       "      <td>77092.5700</td>\n",
       "      <td>Year</td>\n",
       "      <td>Y</td>\n",
       "      <td>1</td>\n",
       "    </tr>\n",
       "    <tr>\n",
       "      <th>25476</th>\n",
       "      <td>Asia</td>\n",
       "      <td>High School</td>\n",
       "      <td>Y</td>\n",
       "      <td>N</td>\n",
       "      <td>3274</td>\n",
       "      <td>2006</td>\n",
       "      <td>Northeast</td>\n",
       "      <td>279174.7900</td>\n",
       "      <td>Year</td>\n",
       "      <td>Y</td>\n",
       "      <td>1</td>\n",
       "    </tr>\n",
       "    <tr>\n",
       "      <th>25477</th>\n",
       "      <td>Asia</td>\n",
       "      <td>Master's</td>\n",
       "      <td>Y</td>\n",
       "      <td>N</td>\n",
       "      <td>1121</td>\n",
       "      <td>1910</td>\n",
       "      <td>South</td>\n",
       "      <td>146298.8500</td>\n",
       "      <td>Year</td>\n",
       "      <td>N</td>\n",
       "      <td>1</td>\n",
       "    </tr>\n",
       "    <tr>\n",
       "      <th>25478</th>\n",
       "      <td>Asia</td>\n",
       "      <td>Master's</td>\n",
       "      <td>Y</td>\n",
       "      <td>Y</td>\n",
       "      <td>1918</td>\n",
       "      <td>1887</td>\n",
       "      <td>West</td>\n",
       "      <td>86154.7700</td>\n",
       "      <td>Year</td>\n",
       "      <td>Y</td>\n",
       "      <td>1</td>\n",
       "    </tr>\n",
       "    <tr>\n",
       "      <th>25479</th>\n",
       "      <td>Asia</td>\n",
       "      <td>Bachelor's</td>\n",
       "      <td>Y</td>\n",
       "      <td>N</td>\n",
       "      <td>3195</td>\n",
       "      <td>1960</td>\n",
       "      <td>Midwest</td>\n",
       "      <td>70876.9100</td>\n",
       "      <td>Year</td>\n",
       "      <td>Y</td>\n",
       "      <td>1</td>\n",
       "    </tr>\n",
       "  </tbody>\n",
       "</table>\n",
       "<p>25480 rows × 11 columns</p>\n",
       "</div>"
      ],
      "text/plain": [
       "      continent education_of_employee has_job_experience  \\\n",
       "0          Asia           High School                  N   \n",
       "1          Asia              Master's                  Y   \n",
       "2          Asia            Bachelor's                  N   \n",
       "3          Asia            Bachelor's                  N   \n",
       "4        Africa              Master's                  Y   \n",
       "...         ...                   ...                ...   \n",
       "25475      Asia            Bachelor's                  Y   \n",
       "25476      Asia           High School                  Y   \n",
       "25477      Asia              Master's                  Y   \n",
       "25478      Asia              Master's                  Y   \n",
       "25479      Asia            Bachelor's                  Y   \n",
       "\n",
       "      requires_job_training  no_of_employees  yr_of_estab  \\\n",
       "0                         N            14513         2007   \n",
       "1                         N             2412         2002   \n",
       "2                         Y            44444         2008   \n",
       "3                         N               98         1897   \n",
       "4                         N             1082         2005   \n",
       "...                     ...              ...          ...   \n",
       "25475                     Y             2601         2008   \n",
       "25476                     N             3274         2006   \n",
       "25477                     N             1121         1910   \n",
       "25478                     Y             1918         1887   \n",
       "25479                     N             3195         1960   \n",
       "\n",
       "      region_of_employment  prevailing_wage unit_of_wage full_time_position  \\\n",
       "0                     West         592.2029         Hour                  Y   \n",
       "1                Northeast       83425.6500         Year                  Y   \n",
       "2                     West      122996.8600         Year                  Y   \n",
       "3                     West       83434.0300         Year                  Y   \n",
       "4                    South      149907.3900         Year                  Y   \n",
       "...                    ...              ...          ...                ...   \n",
       "25475                South       77092.5700         Year                  Y   \n",
       "25476            Northeast      279174.7900         Year                  Y   \n",
       "25477                South      146298.8500         Year                  N   \n",
       "25478                 West       86154.7700         Year                  Y   \n",
       "25479              Midwest       70876.9100         Year                  Y   \n",
       "\n",
       "      case_status  \n",
       "0               0  \n",
       "1               1  \n",
       "2               0  \n",
       "3               0  \n",
       "4               1  \n",
       "...           ...  \n",
       "25475           1  \n",
       "25476           1  \n",
       "25477           1  \n",
       "25478           1  \n",
       "25479           1  \n",
       "\n",
       "[25480 rows x 11 columns]"
      ]
     },
     "execution_count": 388,
     "metadata": {},
     "output_type": "execute_result"
    }
   ],
   "source": [
    "df"
   ]
  },
  {
   "cell_type": "markdown",
   "id": "2f514161",
   "metadata": {},
   "source": [
    "All `Certified` have been replaced with 1 and `Denied` with 0"
   ]
  },
  {
   "cell_type": "code",
   "execution_count": 389,
   "id": "1958814d",
   "metadata": {},
   "outputs": [],
   "source": [
    "# Separating features and the target column\n",
    "X = df.drop(\"case_status\", axis=1)\n",
    "y = df[\"case_status\"]"
   ]
  },
  {
   "cell_type": "code",
   "execution_count": 390,
   "id": "673899df",
   "metadata": {},
   "outputs": [],
   "source": [
    "X = pd.get_dummies(X, drop_first=True)"
   ]
  },
  {
   "cell_type": "code",
   "execution_count": 391,
   "id": "4fb38328",
   "metadata": {},
   "outputs": [
    {
     "data": {
      "text/html": [
       "<div>\n",
       "<style scoped>\n",
       "    .dataframe tbody tr th:only-of-type {\n",
       "        vertical-align: middle;\n",
       "    }\n",
       "\n",
       "    .dataframe tbody tr th {\n",
       "        vertical-align: top;\n",
       "    }\n",
       "\n",
       "    .dataframe thead th {\n",
       "        text-align: right;\n",
       "    }\n",
       "</style>\n",
       "<table border=\"1\" class=\"dataframe\">\n",
       "  <thead>\n",
       "    <tr style=\"text-align: right;\">\n",
       "      <th></th>\n",
       "      <th>no_of_employees</th>\n",
       "      <th>yr_of_estab</th>\n",
       "      <th>prevailing_wage</th>\n",
       "      <th>continent_Asia</th>\n",
       "      <th>continent_Europe</th>\n",
       "      <th>continent_North America</th>\n",
       "      <th>continent_Oceania</th>\n",
       "      <th>continent_South America</th>\n",
       "      <th>education_of_employee_Doctorate</th>\n",
       "      <th>education_of_employee_High School</th>\n",
       "      <th>...</th>\n",
       "      <th>has_job_experience_Y</th>\n",
       "      <th>requires_job_training_Y</th>\n",
       "      <th>region_of_employment_Midwest</th>\n",
       "      <th>region_of_employment_Northeast</th>\n",
       "      <th>region_of_employment_South</th>\n",
       "      <th>region_of_employment_West</th>\n",
       "      <th>unit_of_wage_Month</th>\n",
       "      <th>unit_of_wage_Week</th>\n",
       "      <th>unit_of_wage_Year</th>\n",
       "      <th>full_time_position_Y</th>\n",
       "    </tr>\n",
       "  </thead>\n",
       "  <tbody>\n",
       "    <tr>\n",
       "      <th>0</th>\n",
       "      <td>14513</td>\n",
       "      <td>2007</td>\n",
       "      <td>592.2029</td>\n",
       "      <td>1</td>\n",
       "      <td>0</td>\n",
       "      <td>0</td>\n",
       "      <td>0</td>\n",
       "      <td>0</td>\n",
       "      <td>0</td>\n",
       "      <td>1</td>\n",
       "      <td>...</td>\n",
       "      <td>0</td>\n",
       "      <td>0</td>\n",
       "      <td>0</td>\n",
       "      <td>0</td>\n",
       "      <td>0</td>\n",
       "      <td>1</td>\n",
       "      <td>0</td>\n",
       "      <td>0</td>\n",
       "      <td>0</td>\n",
       "      <td>1</td>\n",
       "    </tr>\n",
       "    <tr>\n",
       "      <th>1</th>\n",
       "      <td>2412</td>\n",
       "      <td>2002</td>\n",
       "      <td>83425.6500</td>\n",
       "      <td>1</td>\n",
       "      <td>0</td>\n",
       "      <td>0</td>\n",
       "      <td>0</td>\n",
       "      <td>0</td>\n",
       "      <td>0</td>\n",
       "      <td>0</td>\n",
       "      <td>...</td>\n",
       "      <td>1</td>\n",
       "      <td>0</td>\n",
       "      <td>0</td>\n",
       "      <td>1</td>\n",
       "      <td>0</td>\n",
       "      <td>0</td>\n",
       "      <td>0</td>\n",
       "      <td>0</td>\n",
       "      <td>1</td>\n",
       "      <td>1</td>\n",
       "    </tr>\n",
       "    <tr>\n",
       "      <th>2</th>\n",
       "      <td>44444</td>\n",
       "      <td>2008</td>\n",
       "      <td>122996.8600</td>\n",
       "      <td>1</td>\n",
       "      <td>0</td>\n",
       "      <td>0</td>\n",
       "      <td>0</td>\n",
       "      <td>0</td>\n",
       "      <td>0</td>\n",
       "      <td>0</td>\n",
       "      <td>...</td>\n",
       "      <td>0</td>\n",
       "      <td>1</td>\n",
       "      <td>0</td>\n",
       "      <td>0</td>\n",
       "      <td>0</td>\n",
       "      <td>1</td>\n",
       "      <td>0</td>\n",
       "      <td>0</td>\n",
       "      <td>1</td>\n",
       "      <td>1</td>\n",
       "    </tr>\n",
       "    <tr>\n",
       "      <th>3</th>\n",
       "      <td>98</td>\n",
       "      <td>1897</td>\n",
       "      <td>83434.0300</td>\n",
       "      <td>1</td>\n",
       "      <td>0</td>\n",
       "      <td>0</td>\n",
       "      <td>0</td>\n",
       "      <td>0</td>\n",
       "      <td>0</td>\n",
       "      <td>0</td>\n",
       "      <td>...</td>\n",
       "      <td>0</td>\n",
       "      <td>0</td>\n",
       "      <td>0</td>\n",
       "      <td>0</td>\n",
       "      <td>0</td>\n",
       "      <td>1</td>\n",
       "      <td>0</td>\n",
       "      <td>0</td>\n",
       "      <td>1</td>\n",
       "      <td>1</td>\n",
       "    </tr>\n",
       "    <tr>\n",
       "      <th>4</th>\n",
       "      <td>1082</td>\n",
       "      <td>2005</td>\n",
       "      <td>149907.3900</td>\n",
       "      <td>0</td>\n",
       "      <td>0</td>\n",
       "      <td>0</td>\n",
       "      <td>0</td>\n",
       "      <td>0</td>\n",
       "      <td>0</td>\n",
       "      <td>0</td>\n",
       "      <td>...</td>\n",
       "      <td>1</td>\n",
       "      <td>0</td>\n",
       "      <td>0</td>\n",
       "      <td>0</td>\n",
       "      <td>1</td>\n",
       "      <td>0</td>\n",
       "      <td>0</td>\n",
       "      <td>0</td>\n",
       "      <td>1</td>\n",
       "      <td>1</td>\n",
       "    </tr>\n",
       "    <tr>\n",
       "      <th>...</th>\n",
       "      <td>...</td>\n",
       "      <td>...</td>\n",
       "      <td>...</td>\n",
       "      <td>...</td>\n",
       "      <td>...</td>\n",
       "      <td>...</td>\n",
       "      <td>...</td>\n",
       "      <td>...</td>\n",
       "      <td>...</td>\n",
       "      <td>...</td>\n",
       "      <td>...</td>\n",
       "      <td>...</td>\n",
       "      <td>...</td>\n",
       "      <td>...</td>\n",
       "      <td>...</td>\n",
       "      <td>...</td>\n",
       "      <td>...</td>\n",
       "      <td>...</td>\n",
       "      <td>...</td>\n",
       "      <td>...</td>\n",
       "      <td>...</td>\n",
       "    </tr>\n",
       "    <tr>\n",
       "      <th>25475</th>\n",
       "      <td>2601</td>\n",
       "      <td>2008</td>\n",
       "      <td>77092.5700</td>\n",
       "      <td>1</td>\n",
       "      <td>0</td>\n",
       "      <td>0</td>\n",
       "      <td>0</td>\n",
       "      <td>0</td>\n",
       "      <td>0</td>\n",
       "      <td>0</td>\n",
       "      <td>...</td>\n",
       "      <td>1</td>\n",
       "      <td>1</td>\n",
       "      <td>0</td>\n",
       "      <td>0</td>\n",
       "      <td>1</td>\n",
       "      <td>0</td>\n",
       "      <td>0</td>\n",
       "      <td>0</td>\n",
       "      <td>1</td>\n",
       "      <td>1</td>\n",
       "    </tr>\n",
       "    <tr>\n",
       "      <th>25476</th>\n",
       "      <td>3274</td>\n",
       "      <td>2006</td>\n",
       "      <td>279174.7900</td>\n",
       "      <td>1</td>\n",
       "      <td>0</td>\n",
       "      <td>0</td>\n",
       "      <td>0</td>\n",
       "      <td>0</td>\n",
       "      <td>0</td>\n",
       "      <td>1</td>\n",
       "      <td>...</td>\n",
       "      <td>1</td>\n",
       "      <td>0</td>\n",
       "      <td>0</td>\n",
       "      <td>1</td>\n",
       "      <td>0</td>\n",
       "      <td>0</td>\n",
       "      <td>0</td>\n",
       "      <td>0</td>\n",
       "      <td>1</td>\n",
       "      <td>1</td>\n",
       "    </tr>\n",
       "    <tr>\n",
       "      <th>25477</th>\n",
       "      <td>1121</td>\n",
       "      <td>1910</td>\n",
       "      <td>146298.8500</td>\n",
       "      <td>1</td>\n",
       "      <td>0</td>\n",
       "      <td>0</td>\n",
       "      <td>0</td>\n",
       "      <td>0</td>\n",
       "      <td>0</td>\n",
       "      <td>0</td>\n",
       "      <td>...</td>\n",
       "      <td>1</td>\n",
       "      <td>0</td>\n",
       "      <td>0</td>\n",
       "      <td>0</td>\n",
       "      <td>1</td>\n",
       "      <td>0</td>\n",
       "      <td>0</td>\n",
       "      <td>0</td>\n",
       "      <td>1</td>\n",
       "      <td>0</td>\n",
       "    </tr>\n",
       "    <tr>\n",
       "      <th>25478</th>\n",
       "      <td>1918</td>\n",
       "      <td>1887</td>\n",
       "      <td>86154.7700</td>\n",
       "      <td>1</td>\n",
       "      <td>0</td>\n",
       "      <td>0</td>\n",
       "      <td>0</td>\n",
       "      <td>0</td>\n",
       "      <td>0</td>\n",
       "      <td>0</td>\n",
       "      <td>...</td>\n",
       "      <td>1</td>\n",
       "      <td>1</td>\n",
       "      <td>0</td>\n",
       "      <td>0</td>\n",
       "      <td>0</td>\n",
       "      <td>1</td>\n",
       "      <td>0</td>\n",
       "      <td>0</td>\n",
       "      <td>1</td>\n",
       "      <td>1</td>\n",
       "    </tr>\n",
       "    <tr>\n",
       "      <th>25479</th>\n",
       "      <td>3195</td>\n",
       "      <td>1960</td>\n",
       "      <td>70876.9100</td>\n",
       "      <td>1</td>\n",
       "      <td>0</td>\n",
       "      <td>0</td>\n",
       "      <td>0</td>\n",
       "      <td>0</td>\n",
       "      <td>0</td>\n",
       "      <td>0</td>\n",
       "      <td>...</td>\n",
       "      <td>1</td>\n",
       "      <td>0</td>\n",
       "      <td>1</td>\n",
       "      <td>0</td>\n",
       "      <td>0</td>\n",
       "      <td>0</td>\n",
       "      <td>0</td>\n",
       "      <td>0</td>\n",
       "      <td>1</td>\n",
       "      <td>1</td>\n",
       "    </tr>\n",
       "  </tbody>\n",
       "</table>\n",
       "<p>25480 rows × 21 columns</p>\n",
       "</div>"
      ],
      "text/plain": [
       "       no_of_employees  yr_of_estab  prevailing_wage  continent_Asia  \\\n",
       "0                14513         2007         592.2029               1   \n",
       "1                 2412         2002       83425.6500               1   \n",
       "2                44444         2008      122996.8600               1   \n",
       "3                   98         1897       83434.0300               1   \n",
       "4                 1082         2005      149907.3900               0   \n",
       "...                ...          ...              ...             ...   \n",
       "25475             2601         2008       77092.5700               1   \n",
       "25476             3274         2006      279174.7900               1   \n",
       "25477             1121         1910      146298.8500               1   \n",
       "25478             1918         1887       86154.7700               1   \n",
       "25479             3195         1960       70876.9100               1   \n",
       "\n",
       "       continent_Europe  continent_North America  continent_Oceania  \\\n",
       "0                     0                        0                  0   \n",
       "1                     0                        0                  0   \n",
       "2                     0                        0                  0   \n",
       "3                     0                        0                  0   \n",
       "4                     0                        0                  0   \n",
       "...                 ...                      ...                ...   \n",
       "25475                 0                        0                  0   \n",
       "25476                 0                        0                  0   \n",
       "25477                 0                        0                  0   \n",
       "25478                 0                        0                  0   \n",
       "25479                 0                        0                  0   \n",
       "\n",
       "       continent_South America  education_of_employee_Doctorate  \\\n",
       "0                            0                                0   \n",
       "1                            0                                0   \n",
       "2                            0                                0   \n",
       "3                            0                                0   \n",
       "4                            0                                0   \n",
       "...                        ...                              ...   \n",
       "25475                        0                                0   \n",
       "25476                        0                                0   \n",
       "25477                        0                                0   \n",
       "25478                        0                                0   \n",
       "25479                        0                                0   \n",
       "\n",
       "       education_of_employee_High School  ...  has_job_experience_Y  \\\n",
       "0                                      1  ...                     0   \n",
       "1                                      0  ...                     1   \n",
       "2                                      0  ...                     0   \n",
       "3                                      0  ...                     0   \n",
       "4                                      0  ...                     1   \n",
       "...                                  ...  ...                   ...   \n",
       "25475                                  0  ...                     1   \n",
       "25476                                  1  ...                     1   \n",
       "25477                                  0  ...                     1   \n",
       "25478                                  0  ...                     1   \n",
       "25479                                  0  ...                     1   \n",
       "\n",
       "       requires_job_training_Y  region_of_employment_Midwest  \\\n",
       "0                            0                             0   \n",
       "1                            0                             0   \n",
       "2                            1                             0   \n",
       "3                            0                             0   \n",
       "4                            0                             0   \n",
       "...                        ...                           ...   \n",
       "25475                        1                             0   \n",
       "25476                        0                             0   \n",
       "25477                        0                             0   \n",
       "25478                        1                             0   \n",
       "25479                        0                             1   \n",
       "\n",
       "       region_of_employment_Northeast  region_of_employment_South  \\\n",
       "0                                   0                           0   \n",
       "1                                   1                           0   \n",
       "2                                   0                           0   \n",
       "3                                   0                           0   \n",
       "4                                   0                           1   \n",
       "...                               ...                         ...   \n",
       "25475                               0                           1   \n",
       "25476                               1                           0   \n",
       "25477                               0                           1   \n",
       "25478                               0                           0   \n",
       "25479                               0                           0   \n",
       "\n",
       "       region_of_employment_West  unit_of_wage_Month  unit_of_wage_Week  \\\n",
       "0                              1                   0                  0   \n",
       "1                              0                   0                  0   \n",
       "2                              1                   0                  0   \n",
       "3                              1                   0                  0   \n",
       "4                              0                   0                  0   \n",
       "...                          ...                 ...                ...   \n",
       "25475                          0                   0                  0   \n",
       "25476                          0                   0                  0   \n",
       "25477                          0                   0                  0   \n",
       "25478                          1                   0                  0   \n",
       "25479                          0                   0                  0   \n",
       "\n",
       "       unit_of_wage_Year  full_time_position_Y  \n",
       "0                      0                     1  \n",
       "1                      1                     1  \n",
       "2                      1                     1  \n",
       "3                      1                     1  \n",
       "4                      1                     1  \n",
       "...                  ...                   ...  \n",
       "25475                  1                     1  \n",
       "25476                  1                     1  \n",
       "25477                  1                     0  \n",
       "25478                  1                     1  \n",
       "25479                  1                     1  \n",
       "\n",
       "[25480 rows x 21 columns]"
      ]
     },
     "execution_count": 391,
     "metadata": {},
     "output_type": "execute_result"
    }
   ],
   "source": [
    "X"
   ]
  },
  {
   "cell_type": "code",
   "execution_count": 392,
   "id": "3ce0df48",
   "metadata": {},
   "outputs": [
    {
     "data": {
      "text/plain": [
       "0        0\n",
       "1        1\n",
       "2        0\n",
       "3        0\n",
       "4        1\n",
       "        ..\n",
       "25475    1\n",
       "25476    1\n",
       "25477    1\n",
       "25478    1\n",
       "25479    1\n",
       "Name: case_status, Length: 25480, dtype: category\n",
       "Categories (2, int64): [1, 0]"
      ]
     },
     "execution_count": 392,
     "metadata": {},
     "output_type": "execute_result"
    }
   ],
   "source": [
    "y"
   ]
  },
  {
   "cell_type": "markdown",
   "id": "2861fdbb",
   "metadata": {},
   "source": [
    "Let's split the data into train and test sets in 70:30 ratio"
   ]
  },
  {
   "cell_type": "code",
   "execution_count": 393,
   "id": "d770dc2c",
   "metadata": {},
   "outputs": [],
   "source": [
    "X_train, X_test, y_train, y_test = train_test_split(X, y, test_size=0.30, random_state=1, stratify=y)"
   ]
  },
  {
   "cell_type": "markdown",
   "id": "0120f903",
   "metadata": {},
   "source": [
    "Let's confirm the shape of both data sets and the ratio of classes is the same across both train and test datasets"
   ]
  },
  {
   "cell_type": "code",
   "execution_count": 394,
   "id": "e98c83c3",
   "metadata": {},
   "outputs": [
    {
     "name": "stdout",
     "output_type": "stream",
     "text": [
      "Shape of Training set :  (17836, 21)\n",
      "Shape of test set :  (7644, 21)\n",
      " \n",
      "Percentage of classes in training set:\n",
      "1    0.667919\n",
      "0    0.332081\n",
      "Name: case_status, dtype: float64\n",
      " \n",
      "Percentage of classes in test set:\n",
      "1    0.667844\n",
      "0    0.332156\n",
      "Name: case_status, dtype: float64\n"
     ]
    }
   ],
   "source": [
    "print(\"Shape of Training set : \", X_train.shape)\n",
    "print(\"Shape of test set : \", X_test.shape)\n",
    "print(' ')\n",
    "print(\"Percentage of classes in training set:\")\n",
    "print(y_train.value_counts(normalize=True))\n",
    "print(' ')\n",
    "print(\"Percentage of classes in test set:\")\n",
    "print(y_test.value_counts(normalize=True))"
   ]
  },
  {
   "cell_type": "markdown",
   "id": "fe93b5d6",
   "metadata": {},
   "source": [
    "Defining functions to provide metric scores (i.e., accuracy, recall, and precision) on the train and test datasets and to show the resulting confusion matrices"
   ]
  },
  {
   "cell_type": "code",
   "execution_count": 395,
   "id": "20ef90f9",
   "metadata": {},
   "outputs": [],
   "source": [
    "def model_performance_classification_sklearn(model, predictors, target):\n",
    "    \"\"\"\n",
    "    Function to compute different metrics to check classification model performance\n",
    "\n",
    "    model: classifier\n",
    "    predictors: independent variables\n",
    "    target: dependent variable\n",
    "    \"\"\"\n",
    "\n",
    "    # predicting using the independent variables\n",
    "    pred = model.predict(predictors)\n",
    "\n",
    "    acc = accuracy_score(target, pred)  # to compute Accuracy\n",
    "    recall = recall_score(target, pred)  # to compute Recall\n",
    "    precision = precision_score(target, pred)  # to compute Precision\n",
    "    f1 = f1_score(target, pred)  # to compute F1-score\n",
    "\n",
    "    # creating a dataframe of metrics\n",
    "    df_perf = pd.DataFrame(\n",
    "        {\n",
    "            \"Accuracy\": acc,\n",
    "            \"Recall\": recall,\n",
    "            \"Precision\": precision,\n",
    "            \"F1\": f1,\n",
    "        },\n",
    "        index=[0],\n",
    "    )\n",
    "\n",
    "    return df_perf\n",
    "\n"
   ]
  },
  {
   "cell_type": "code",
   "execution_count": 396,
   "id": "2a6952e0",
   "metadata": {},
   "outputs": [],
   "source": [
    "def confusion_matrix_sklearn(model, predictors, target):\n",
    "    \"\"\"\n",
    "    To plot the confusion_matrix with percentages\n",
    "\n",
    "    model: classifier\n",
    "    predictors: independent variables\n",
    "    target: dependent variable\n",
    "    \"\"\"\n",
    "    y_pred = model.predict(predictors)\n",
    "    cm = confusion_matrix(target, y_pred)\n",
    "    labels = np.asarray(\n",
    "        [\n",
    "            [\"{0:0.0f}\".format(item) + \"\\n{0:.2%}\".format(item / cm.flatten().sum())]\n",
    "            for item in cm.flatten()\n",
    "        ]\n",
    "    ).reshape(2, 2)\n",
    "\n",
    "    plt.figure(figsize=(6, 4))\n",
    "    sns.heatmap(cm, annot=labels, fmt=\"\")\n",
    "    plt.ylabel(\"True label\")\n",
    "    plt.xlabel(\"Predicted label\")"
   ]
  },
  {
   "cell_type": "markdown",
   "id": "78c258c0",
   "metadata": {},
   "source": [
    "### Decision Tree Classifier"
   ]
  },
  {
   "cell_type": "code",
   "execution_count": 397,
   "id": "0168c0dc",
   "metadata": {},
   "outputs": [
    {
     "name": "stdout",
     "output_type": "stream",
     "text": [
      "Training performance:\n",
      "    Accuracy  Recall  Precision   F1\n",
      "0       1.0     1.0        1.0  1.0\n",
      "Testing performance:\n",
      "    Accuracy    Recall  Precision        F1\n",
      "0  0.664443  0.742605   0.751884  0.747216\n"
     ]
    },
    {
     "data": {
      "image/png": "[encoded data removed]",
      "text/plain": [
       "<Figure size 432x288 with 2 Axes>"
      ]
     },
     "metadata": {
      "needs_background": "light"
     },
     "output_type": "display_data"
    }
   ],
   "source": [
    "#Fitting the model\n",
    "d_tree = DecisionTreeClassifier(random_state=1)\n",
    "d_tree.fit(X_train,y_train)\n",
    "\n",
    "#Calculating different metrics\n",
    "d_tree_model_train_perf=model_performance_classification_sklearn(d_tree, X_train, y_train)\n",
    "print(\"Training performance:\\n\",d_tree_model_train_perf)\n",
    "\n",
    "d_tree_model_test_perf=model_performance_classification_sklearn(d_tree,X_test,y_test)\n",
    "print(\"Testing performance:\\n\",d_tree_model_test_perf)\n",
    "\n",
    "#Creating confusion matrix\n",
    "confusion_matrix_sklearn(d_tree,X_test,y_test)"
   ]
  },
  {
   "cell_type": "markdown",
   "id": "776f1201",
   "metadata": {},
   "source": [
    "The Decision Tree is working well on the training data, but is not able to generalize well on the test data, indicating the model is overfitting."
   ]
  },
  {
   "cell_type": "markdown",
   "id": "40b44b67",
   "metadata": {},
   "source": [
    "Confusion Matrix -\n",
    "\n",
    "- Applicant was approved and the model predicted approval : True Positive (observed=1,predicted=1)\n",
    "\n",
    "- Applicant was denied and the model predicted approval : False Positive (observed=0,predicted=1)\n",
    "\n",
    "- Applicant was denied and the model predicted denial : True Negative (observed=0,predicted=0)\n",
    "\n",
    "- Applicant was approved and the model predicted denial : False Negative (observed=1,predicted=0)"
   ]
  },
  {
   "cell_type": "markdown",
   "id": "domestic-iceland",
   "metadata": {
    "id": "domestic-iceland"
   },
   "source": [
    "## Building bagging and boosting models"
   ]
  },
  {
   "cell_type": "code",
   "execution_count": 398,
   "id": "unknown-institution",
   "metadata": {
    "id": "unknown-institution"
   },
   "outputs": [
    {
     "name": "stdout",
     "output_type": "stream",
     "text": [
      "Training performance \n",
      "    Accuracy    Recall  Precision        F1\n",
      "0  0.985367  0.986317   0.991729  0.989016\n",
      "Testing performance \n",
      "    Accuracy    Recall  Precision        F1\n",
      "0  0.692177  0.766112     0.7714  0.768747\n"
     ]
    },
    {
     "data": {
      "image/png": "[encoded data removed]",
      "text/plain": [
       "<Figure size 432x288 with 2 Axes>"
      ]
     },
     "metadata": {
      "needs_background": "light"
     },
     "output_type": "display_data"
    }
   ],
   "source": [
    "#Fitting the model\n",
    "bagging = BaggingClassifier(random_state=1)\n",
    "bagging.fit(X_train,y_train)\n",
    "\n",
    "#Calculating different metrics\n",
    "bagging_model_train_perf=model_performance_classification_sklearn(bagging, X_train, y_train)\n",
    "print(\"Training performance \\n\",bagging_model_train_perf)\n",
    "\n",
    "bagging_model_test_perf=model_performance_classification_sklearn(bagging, X_test, y_test)\n",
    "print(\"Testing performance \\n\",bagging_model_test_perf)\n",
    "\n",
    "#Let's create a confusion matrix of the classifier's performance on the testing data\n",
    "confusion_matrix_sklearn(bagging, X_test, y_test)"
   ]
  },
  {
   "cell_type": "markdown",
   "id": "7964ff45",
   "metadata": {},
   "source": [
    "Similar to the Decision Tree model, the Bagging classifer is overfitting to the training dataset. However, it has a higher F1 score."
   ]
  },
  {
   "cell_type": "markdown",
   "id": "a26ce7e3",
   "metadata": {},
   "source": [
    "### 2. Random Forest"
   ]
  },
  {
   "cell_type": "code",
   "execution_count": 399,
   "id": "74404e17",
   "metadata": {},
   "outputs": [
    {
     "name": "stdout",
     "output_type": "stream",
     "text": [
      "Training performance \n",
      "    Accuracy    Recall  Precision        F1\n",
      "0  0.999944  0.999916        1.0  0.999958\n",
      "Testing performance \n",
      "    Accuracy    Recall  Precision        F1\n",
      "0  0.719126  0.830167   0.768032  0.797891\n"
     ]
    },
    {
     "data": {
      "image/png": "[encoded data removed]",
      "text/plain": [
       "<Figure size 432x288 with 2 Axes>"
      ]
     },
     "metadata": {
      "needs_background": "light"
     },
     "output_type": "display_data"
    }
   ],
   "source": [
    "#Fitting the model\n",
    "rf = RandomForestClassifier(random_state=1)\n",
    "rf.fit(X_train,y_train)\n",
    "\n",
    "#Calculating different metrics\n",
    "rf_model_train_perf=model_performance_classification_sklearn(rf,X_train,y_train)\n",
    "print(\"Training performance \\n\",rf_model_train_perf)\n",
    "\n",
    "rf_model_test_perf=model_performance_classification_sklearn(rf,X_test,y_test)\n",
    "print(\"Testing performance \\n\",rf_model_test_perf)\n",
    "\n",
    "#create a confusion matrix of the classifier's performance on the testing data\n",
    "confusion_matrix_sklearn(rf,X_test,y_test)"
   ]
  },
  {
   "cell_type": "markdown",
   "id": "02a162d1",
   "metadata": {},
   "source": [
    "Similar to the models above, the Random Forest is overfitting to the training dataset, but has the highest F1 score so far."
   ]
  },
  {
   "cell_type": "markdown",
   "id": "bba4122c",
   "metadata": {},
   "source": [
    "### 3. AdaBoost Classifier"
   ]
  },
  {
   "cell_type": "code",
   "execution_count": 400,
   "id": "1a544e4c",
   "metadata": {},
   "outputs": [
    {
     "name": "stdout",
     "output_type": "stream",
     "text": [
      "Training performance \n",
      "    Accuracy    Recall  Precision        F1\n",
      "0  0.738058  0.887434   0.760411  0.819027\n",
      "Testing performance \n",
      "    Accuracy    Recall  Precision        F1\n",
      "0  0.732993  0.885015    0.75653  0.815744\n"
     ]
    },
    {
     "data": {
      "image/png": "[encoded data removed]",
      "text/plain": [
       "<Figure size 432x288 with 2 Axes>"
      ]
     },
     "metadata": {
      "needs_background": "light"
     },
     "output_type": "display_data"
    }
   ],
   "source": [
    "#Fitting the model\n",
    "ab_classifier=AdaBoostClassifier(random_state=1)\n",
    "ab_classifier.fit(X_train,y_train)\n",
    "\n",
    "#Calculating different metrics\n",
    "ab_classifier_model_train_perf = model_performance_classification_sklearn(ab_classifier,X_train,y_train)\n",
    "print(\"Training performance \\n\",ab_classifier_model_train_perf)\n",
    "\n",
    "ab_classifier_model_test_perf = model_performance_classification_sklearn(ab_classifier,X_test,y_test)\n",
    "print(\"Testing performance \\n\",ab_classifier_model_test_perf)\n",
    "\n",
    "#create a confusion matrix of the classifier's performance on the testing data\n",
    "confusion_matrix_sklearn(ab_classifier, X_test,y_test)"
   ]
  },
  {
   "cell_type": "markdown",
   "id": "22d68d5b",
   "metadata": {},
   "source": [
    "The AdaBoost classifer performs well on both the training and testing datasets. This indicates that the model is not overfitting.\n",
    "Additionally, the model performs the best of any model yet (i.e., highest F1 score) on the testing data."
   ]
  },
  {
   "cell_type": "markdown",
   "id": "2f9ac442",
   "metadata": {},
   "source": [
    "### 4. Gradient Boosting Classifier"
   ]
  },
  {
   "cell_type": "code",
   "execution_count": 401,
   "id": "54e2b5c7",
   "metadata": {},
   "outputs": [
    {
     "name": "stdout",
     "output_type": "stream",
     "text": [
      "Training performance \n",
      "    Accuracy    Recall  Precision        F1\n",
      "0  0.759419  0.882901   0.784106  0.830576\n",
      "Training performance \n",
      "    Accuracy    Recall  Precision       F1\n",
      "0  0.744636  0.873262   0.773555  0.82039\n"
     ]
    },
    {
     "data": {
      "image/png": "[encoded data removed]",
      "text/plain": [
       "<Figure size 432x288 with 2 Axes>"
      ]
     },
     "metadata": {
      "needs_background": "light"
     },
     "output_type": "display_data"
    }
   ],
   "source": [
    "#Fitting the model\n",
    "gbc = GradientBoostingClassifier(random_state=1)\n",
    "gbc.fit(X_train,y_train)\n",
    "\n",
    "#Calculating different metrics\n",
    "gbc_classifier_model_train_perf = model_performance_classification_sklearn(gbc,X_train,y_train)\n",
    "print(\"Training performance \\n\",gbc_classifier_model_train_perf)\n",
    "\n",
    "gbc_classifier_model_test_perf = model_performance_classification_sklearn(gbc,X_test,y_test)\n",
    "print(\"Training performance \\n\",gbc_classifier_model_test_perf)\n",
    "\n",
    "#create a confusion matrix of the classifier's performance on the testing data\n",
    "confusion_matrix_sklearn(gbc, X_test,y_test)"
   ]
  },
  {
   "cell_type": "markdown",
   "id": "365f57b7",
   "metadata": {},
   "source": [
    "The Gradient Boosting Classifier performs well on both the training and testing datasets. This indicates that the model is not overfitting.\n",
    "Additionally, this model performs even better than the AdaBoost model above."
   ]
  },
  {
   "cell_type": "markdown",
   "id": "54bca5c5",
   "metadata": {},
   "source": [
    "### 5. XGBoost Classifier"
   ]
  },
  {
   "cell_type": "code",
   "execution_count": 402,
   "id": "1985f897",
   "metadata": {},
   "outputs": [
    {
     "name": "stdout",
     "output_type": "stream",
     "text": [
      "Training performance \n",
      "    Accuracy  Recall  Precision        F1\n",
      "0  0.838248   0.931   0.843166  0.884908\n",
      "Training performance \n",
      "    Accuracy    Recall  Precision        F1\n",
      "0  0.735348  0.863271   0.768842  0.813325\n"
     ]
    },
    {
     "data": {
      "image/png": "[encoded data removed]",
      "text/plain": [
       "<Figure size 432x288 with 2 Axes>"
      ]
     },
     "metadata": {
      "needs_background": "light"
     },
     "output_type": "display_data"
    }
   ],
   "source": [
    "#Fitting the model\n",
    "xgb = XGBClassifier(random_state=1,eval_metric='logloss')\n",
    "xgb.fit(X_train,y_train)\n",
    "\n",
    "#Calculating different metrics\n",
    "xgb_classifier_model_train_perf = model_performance_classification_sklearn(xgb,X_train,y_train)\n",
    "print(\"Training performance \\n\",xgb_classifier_model_train_perf)\n",
    "\n",
    "xgb_classifier_model_test_perf = model_performance_classification_sklearn(xgb,X_test,y_test)\n",
    "print(\"Training performance \\n\",xgb_classifier_model_test_perf)\n",
    "\n",
    "#create a confusion matrix of the classifier's performance on the testing data\n",
    "confusion_matrix_sklearn(xgb, X_test,y_test)"
   ]
  },
  {
   "cell_type": "markdown",
   "id": "bf23ad2d",
   "metadata": {},
   "source": [
    "This XGBoost classifer performs equally well on the training and testing datasets, indicating that the model is not overfitting.\n",
    "Additionally, this model performs as well as the AdaBoost model and slightly worse than the Gradient Boost model on the test data."
   ]
  },
  {
   "cell_type": "markdown",
   "id": "b5c6cc23",
   "metadata": {},
   "source": [
    "### Base models comparison"
   ]
  },
  {
   "cell_type": "markdown",
   "id": "bf12d9fa",
   "metadata": {},
   "source": [
    "Let's create a dataframe comparing the performance of the base models on the training data"
   ]
  },
  {
   "cell_type": "code",
   "execution_count": 403,
   "id": "98f22650",
   "metadata": {},
   "outputs": [
    {
     "name": "stdout",
     "output_type": "stream",
     "text": [
      "Training performance comparison of base models:\n"
     ]
    },
    {
     "data": {
      "text/html": [
       "<div>\n",
       "<style scoped>\n",
       "    .dataframe tbody tr th:only-of-type {\n",
       "        vertical-align: middle;\n",
       "    }\n",
       "\n",
       "    .dataframe tbody tr th {\n",
       "        vertical-align: top;\n",
       "    }\n",
       "\n",
       "    .dataframe thead th {\n",
       "        text-align: right;\n",
       "    }\n",
       "</style>\n",
       "<table border=\"1\" class=\"dataframe\">\n",
       "  <thead>\n",
       "    <tr style=\"text-align: right;\">\n",
       "      <th></th>\n",
       "      <th>Decision Tree</th>\n",
       "      <th>Bagging Classifier</th>\n",
       "      <th>Random Forest</th>\n",
       "      <th>AdaBoost Classifier</th>\n",
       "      <th>Gradient Boosting Classifier</th>\n",
       "      <th>XGBoost Classifier</th>\n",
       "    </tr>\n",
       "  </thead>\n",
       "  <tbody>\n",
       "    <tr>\n",
       "      <th>Accuracy</th>\n",
       "      <td>1.0</td>\n",
       "      <td>0.985367</td>\n",
       "      <td>0.999944</td>\n",
       "      <td>0.738058</td>\n",
       "      <td>0.759419</td>\n",
       "      <td>0.838248</td>\n",
       "    </tr>\n",
       "    <tr>\n",
       "      <th>Recall</th>\n",
       "      <td>1.0</td>\n",
       "      <td>0.986317</td>\n",
       "      <td>0.999916</td>\n",
       "      <td>0.887434</td>\n",
       "      <td>0.882901</td>\n",
       "      <td>0.931000</td>\n",
       "    </tr>\n",
       "    <tr>\n",
       "      <th>Precision</th>\n",
       "      <td>1.0</td>\n",
       "      <td>0.991729</td>\n",
       "      <td>1.000000</td>\n",
       "      <td>0.760411</td>\n",
       "      <td>0.784106</td>\n",
       "      <td>0.843166</td>\n",
       "    </tr>\n",
       "    <tr>\n",
       "      <th>F1</th>\n",
       "      <td>1.0</td>\n",
       "      <td>0.989016</td>\n",
       "      <td>0.999958</td>\n",
       "      <td>0.819027</td>\n",
       "      <td>0.830576</td>\n",
       "      <td>0.884908</td>\n",
       "    </tr>\n",
       "  </tbody>\n",
       "</table>\n",
       "</div>"
      ],
      "text/plain": [
       "           Decision Tree  Bagging Classifier  Random Forest  \\\n",
       "Accuracy             1.0            0.985367       0.999944   \n",
       "Recall               1.0            0.986317       0.999916   \n",
       "Precision            1.0            0.991729       1.000000   \n",
       "F1                   1.0            0.989016       0.999958   \n",
       "\n",
       "           AdaBoost Classifier  Gradient Boosting Classifier  \\\n",
       "Accuracy              0.738058                      0.759419   \n",
       "Recall                0.887434                      0.882901   \n",
       "Precision             0.760411                      0.784106   \n",
       "F1                    0.819027                      0.830576   \n",
       "\n",
       "           XGBoost Classifier  \n",
       "Accuracy             0.838248  \n",
       "Recall               0.931000  \n",
       "Precision            0.843166  \n",
       "F1                   0.884908  "
      ]
     },
     "execution_count": 403,
     "metadata": {},
     "output_type": "execute_result"
    }
   ],
   "source": [
    "models_train_comp_df = pd.concat(\n",
    "    [d_tree_model_train_perf.T,\n",
    "     bagging_model_train_perf.T,\n",
    "     rf_model_train_perf.T,\n",
    "     ab_classifier_model_train_perf.T, \n",
    "     gbc_classifier_model_train_perf.T, \n",
    "     xgb_classifier_model_train_perf.T],\n",
    "    axis=1,\n",
    ")\n",
    "models_train_comp_df.columns = [\n",
    "    \"Decision Tree\",\n",
    "    \"Bagging Classifier\",\n",
    "    \"Random Forest\",\n",
    "    \"AdaBoost Classifier\",\n",
    "    \"Gradient Boosting Classifier\",\n",
    "    \"XGBoost Classifier\"]\n",
    "print(\"Training performance comparison of base models:\")\n",
    "models_train_comp_df"
   ]
  },
  {
   "cell_type": "markdown",
   "id": "e7141bee",
   "metadata": {},
   "source": [
    "Let's create a dataframe comparing the performance of the base models on the testing data"
   ]
  },
  {
   "cell_type": "code",
   "execution_count": 404,
   "id": "0f86ba7e",
   "metadata": {},
   "outputs": [
    {
     "name": "stdout",
     "output_type": "stream",
     "text": [
      "Testing performance comparison of base models:\n"
     ]
    },
    {
     "data": {
      "text/html": [
       "<div>\n",
       "<style scoped>\n",
       "    .dataframe tbody tr th:only-of-type {\n",
       "        vertical-align: middle;\n",
       "    }\n",
       "\n",
       "    .dataframe tbody tr th {\n",
       "        vertical-align: top;\n",
       "    }\n",
       "\n",
       "    .dataframe thead th {\n",
       "        text-align: right;\n",
       "    }\n",
       "</style>\n",
       "<table border=\"1\" class=\"dataframe\">\n",
       "  <thead>\n",
       "    <tr style=\"text-align: right;\">\n",
       "      <th></th>\n",
       "      <th>Decision Tree</th>\n",
       "      <th>Bagging Classifier</th>\n",
       "      <th>Random Forest</th>\n",
       "      <th>AdaBoost Classifier</th>\n",
       "      <th>Gradient Boosting Classifier</th>\n",
       "      <th>XGBoost Classifier</th>\n",
       "    </tr>\n",
       "  </thead>\n",
       "  <tbody>\n",
       "    <tr>\n",
       "      <th>Accuracy</th>\n",
       "      <td>0.664443</td>\n",
       "      <td>0.692177</td>\n",
       "      <td>0.719126</td>\n",
       "      <td>0.732993</td>\n",
       "      <td>0.744636</td>\n",
       "      <td>0.735348</td>\n",
       "    </tr>\n",
       "    <tr>\n",
       "      <th>Recall</th>\n",
       "      <td>0.742605</td>\n",
       "      <td>0.766112</td>\n",
       "      <td>0.830167</td>\n",
       "      <td>0.885015</td>\n",
       "      <td>0.873262</td>\n",
       "      <td>0.863271</td>\n",
       "    </tr>\n",
       "    <tr>\n",
       "      <th>Precision</th>\n",
       "      <td>0.751884</td>\n",
       "      <td>0.771400</td>\n",
       "      <td>0.768032</td>\n",
       "      <td>0.756530</td>\n",
       "      <td>0.773555</td>\n",
       "      <td>0.768842</td>\n",
       "    </tr>\n",
       "    <tr>\n",
       "      <th>F1</th>\n",
       "      <td>0.747216</td>\n",
       "      <td>0.768747</td>\n",
       "      <td>0.797891</td>\n",
       "      <td>0.815744</td>\n",
       "      <td>0.820390</td>\n",
       "      <td>0.813325</td>\n",
       "    </tr>\n",
       "  </tbody>\n",
       "</table>\n",
       "</div>"
      ],
      "text/plain": [
       "           Decision Tree  Bagging Classifier  Random Forest  \\\n",
       "Accuracy        0.664443            0.692177       0.719126   \n",
       "Recall          0.742605            0.766112       0.830167   \n",
       "Precision       0.751884            0.771400       0.768032   \n",
       "F1              0.747216            0.768747       0.797891   \n",
       "\n",
       "           AdaBoost Classifier  Gradient Boosting Classifier  \\\n",
       "Accuracy              0.732993                      0.744636   \n",
       "Recall                0.885015                      0.873262   \n",
       "Precision             0.756530                      0.773555   \n",
       "F1                    0.815744                      0.820390   \n",
       "\n",
       "           XGBoost Classifier  \n",
       "Accuracy             0.735348  \n",
       "Recall               0.863271  \n",
       "Precision            0.768842  \n",
       "F1                   0.813325  "
      ]
     },
     "execution_count": 404,
     "metadata": {},
     "output_type": "execute_result"
    }
   ],
   "source": [
    "models_test_comp_df = pd.concat(\n",
    "    [d_tree_model_test_perf.T,\n",
    "     bagging_model_test_perf.T,\n",
    "     rf_model_test_perf.T,\n",
    "     ab_classifier_model_test_perf.T, \n",
    "     gbc_classifier_model_test_perf.T, \n",
    "     xgb_classifier_model_test_perf.T],\n",
    "    axis=1,\n",
    ")\n",
    "models_test_comp_df.columns = [\n",
    "    \"Decision Tree\",\n",
    "    \"Bagging Classifier\",\n",
    "    \"Random Forest\",\n",
    "    \"AdaBoost Classifier\",\n",
    "    \"Gradient Boosting Classifier\",\n",
    "    \"XGBoost Classifier\"]\n",
    "print(\"Testing performance comparison of base models:\")\n",
    "models_test_comp_df"
   ]
  },
  {
   "cell_type": "markdown",
   "id": "2d4d1033",
   "metadata": {},
   "source": [
    "Overall, the bagging models perform best on the training data, due to all three of the models overfitting this data set.\n",
    "As shown above, all three of the boosting models do not overfit the data and achieve higher F1 scores on the training data set, with the Gradient Boosting classifier performing the best."
   ]
  },
  {
   "cell_type": "markdown",
   "id": "prime-athletics",
   "metadata": {
    "id": "prime-athletics"
   },
   "source": [
    "##  Will tuning the hyperparameters improve the model performance?"
   ]
  },
  {
   "cell_type": "markdown",
   "id": "835793ba",
   "metadata": {
    "id": "banned-difficulty"
   },
   "source": [
    "### Decision Tree - Hyperparameter tuning"
   ]
  },
  {
   "cell_type": "code",
   "execution_count": 405,
   "id": "b0dccf9d",
   "metadata": {},
   "outputs": [
    {
     "data": {
      "text/html": [
       "<style>#sk-container-id-18 {color: black;background-color: white;}#sk-container-id-18 pre{padding: 0;}#sk-container-id-18 div.sk-toggleable {background-color: white;}#sk-container-id-18 label.sk-toggleable__label {cursor: pointer;display: block;width: 100%;margin-bottom: 0;padding: 0.3em;box-sizing: border-box;text-align: center;}#sk-container-id-18 label.sk-toggleable__label-arrow:before {content: \"▸\";float: left;margin-right: 0.25em;color: #696969;}#sk-container-id-18 label.sk-toggleable__label-arrow:hover:before {color: black;}#sk-container-id-18 div.sk-estimator:hover label.sk-toggleable__label-arrow:before {color: black;}#sk-container-id-18 div.sk-toggleable__content {max-height: 0;max-width: 0;overflow: hidden;text-align: left;background-color: #f0f8ff;}#sk-container-id-18 div.sk-toggleable__content pre {margin: 0.2em;color: black;border-radius: 0.25em;background-color: #f0f8ff;}#sk-container-id-18 input.sk-toggleable__control:checked~div.sk-toggleable__content {max-height: 200px;max-width: 100%;overflow: auto;}#sk-container-id-18 input.sk-toggleable__control:checked~label.sk-toggleable__label-arrow:before {content: \"▾\";}#sk-container-id-18 div.sk-estimator input.sk-toggleable__control:checked~label.sk-toggleable__label {background-color: #d4ebff;}#sk-container-id-18 div.sk-label input.sk-toggleable__control:checked~label.sk-toggleable__label {background-color: #d4ebff;}#sk-container-id-18 input.sk-hidden--visually {border: 0;clip: rect(1px 1px 1px 1px);clip: rect(1px, 1px, 1px, 1px);height: 1px;margin: -1px;overflow: hidden;padding: 0;position: absolute;width: 1px;}#sk-container-id-18 div.sk-estimator {font-family: monospace;background-color: #f0f8ff;border: 1px dotted black;border-radius: 0.25em;box-sizing: border-box;margin-bottom: 0.5em;}#sk-container-id-18 div.sk-estimator:hover {background-color: #d4ebff;}#sk-container-id-18 div.sk-parallel-item::after {content: \"\";width: 100%;border-bottom: 1px solid gray;flex-grow: 1;}#sk-container-id-18 div.sk-label:hover label.sk-toggleable__label {background-color: #d4ebff;}#sk-container-id-18 div.sk-serial::before {content: \"\";position: absolute;border-left: 1px solid gray;box-sizing: border-box;top: 0;bottom: 0;left: 50%;z-index: 0;}#sk-container-id-18 div.sk-serial {display: flex;flex-direction: column;align-items: center;background-color: white;padding-right: 0.2em;padding-left: 0.2em;position: relative;}#sk-container-id-18 div.sk-item {position: relative;z-index: 1;}#sk-container-id-18 div.sk-parallel {display: flex;align-items: stretch;justify-content: center;background-color: white;position: relative;}#sk-container-id-18 div.sk-item::before, #sk-container-id-18 div.sk-parallel-item::before {content: \"\";position: absolute;border-left: 1px solid gray;box-sizing: border-box;top: 0;bottom: 0;left: 50%;z-index: -1;}#sk-container-id-18 div.sk-parallel-item {display: flex;flex-direction: column;z-index: 1;position: relative;background-color: white;}#sk-container-id-18 div.sk-parallel-item:first-child::after {align-self: flex-end;width: 50%;}#sk-container-id-18 div.sk-parallel-item:last-child::after {align-self: flex-start;width: 50%;}#sk-container-id-18 div.sk-parallel-item:only-child::after {width: 0;}#sk-container-id-18 div.sk-dashed-wrapped {border: 1px dashed gray;margin: 0 0.4em 0.5em 0.4em;box-sizing: border-box;padding-bottom: 0.4em;background-color: white;}#sk-container-id-18 div.sk-label label {font-family: monospace;font-weight: bold;display: inline-block;line-height: 1.2em;}#sk-container-id-18 div.sk-label-container {text-align: center;}#sk-container-id-18 div.sk-container {/* jupyter's `normalize.less` sets `[hidden] { display: none; }` but bootstrap.min.css set `[hidden] { display: none !important; }` so we also need the `!important` here to be able to override the default hidden behavior on the sphinx rendered scikit-learn.org. See: https://github.com/scikit-learn/scikit-learn/issues/21755 */display: inline-block !important;position: relative;}#sk-container-id-18 div.sk-text-repr-fallback {display: none;}</style><div id=\"sk-container-id-18\" class=\"sk-top-container\"><div class=\"sk-text-repr-fallback\"><pre>DecisionTreeClassifier(max_depth=5, max_leaf_nodes=4,\n",
       "                       min_impurity_decrease=0.0001, min_samples_leaf=3,\n",
       "                       random_state=1)</pre><b>In a Jupyter environment, please rerun this cell to show the HTML representation or trust the notebook. <br />On GitHub, the HTML representation is unable to render, please try loading this page with nbviewer.org.</b></div><div class=\"sk-container\" hidden><div class=\"sk-item\"><div class=\"sk-estimator sk-toggleable\"><input class=\"sk-toggleable__control sk-hidden--visually\" id=\"sk-estimator-id-22\" type=\"checkbox\" checked><label for=\"sk-estimator-id-22\" class=\"sk-toggleable__label sk-toggleable__label-arrow\">DecisionTreeClassifier</label><div class=\"sk-toggleable__content\"><pre>DecisionTreeClassifier(max_depth=5, max_leaf_nodes=4,\n",
       "                       min_impurity_decrease=0.0001, min_samples_leaf=3,\n",
       "                       random_state=1)</pre></div></div></div></div></div>"
      ],
      "text/plain": [
       "DecisionTreeClassifier(max_depth=5, max_leaf_nodes=4,\n",
       "                       min_impurity_decrease=0.0001, min_samples_leaf=3,\n",
       "                       random_state=1)"
      ]
     },
     "execution_count": 405,
     "metadata": {},
     "output_type": "execute_result"
    }
   ],
   "source": [
    "# Choose the type of classifier. \n",
    "dtree_estimator = DecisionTreeClassifier(random_state=1)\n",
    "\n",
    "# Grid of parameters to choose from\n",
    "parameters = {'max_depth': np.arange(5,30,5),\n",
    "              'min_samples_leaf': [3, 5, 7],\n",
    "              'max_leaf_nodes' : [2, 4, 6],\n",
    "              'min_impurity_decrease': [0.0001,0.001,0.01,0.1]\n",
    "             }\n",
    "\n",
    "# Type of scoring used to compare parameter combinations\n",
    "scorer = metrics.make_scorer(metrics.f1_score)\n",
    "\n",
    "# Run the grid search\n",
    "grid_obj = GridSearchCV(dtree_estimator, parameters, scoring=scorer, cv=5)\n",
    "grid_obj = grid_obj.fit(X_train, y_train)\n",
    "\n",
    "# Set the clf to the best combination of parameters\n",
    "dtree_estimator = grid_obj.best_estimator_\n",
    "\n",
    "# Fit the best algorithm to the data. \n",
    "dtree_estimator.fit(X_train, y_train)"
   ]
  },
  {
   "cell_type": "code",
   "execution_count": 406,
   "id": "797b770f",
   "metadata": {},
   "outputs": [
    {
     "name": "stdout",
     "output_type": "stream",
     "text": [
      "Training performance \n",
      "    Accuracy    Recall  Precision        F1\n",
      "0  0.729816  0.910602   0.742912  0.818254\n",
      "Testing performance \n",
      "    Accuracy    Recall  Precision        F1\n",
      "0  0.722397  0.910088   0.736408  0.814088\n"
     ]
    },
    {
     "data": {
      "image/png": "[encoded data removed]",
      "text/plain": [
       "<Figure size 432x288 with 2 Axes>"
      ]
     },
     "metadata": {
      "needs_background": "light"
     },
     "output_type": "display_data"
    }
   ],
   "source": [
    "#Calculating different metrics\n",
    "dtree_estimator_model_train_perf=model_performance_classification_sklearn(dtree_estimator, X_train, y_train)\n",
    "print(\"Training performance \\n\",dtree_estimator_model_train_perf)\n",
    "\n",
    "dtree_estimator_model_test_perf=model_performance_classification_sklearn(dtree_estimator, X_test, y_test)\n",
    "print(\"Testing performance \\n\",dtree_estimator_model_test_perf)\n",
    "\n",
    "#create a confusion matrix of the classifier's performance on the testing data\n",
    "confusion_matrix_sklearn(dtree_estimator, X_test,y_test)"
   ]
  },
  {
   "cell_type": "markdown",
   "id": "c977e438",
   "metadata": {},
   "source": [
    "- The Decision Tree model after tuning performs equally well on the training and testing datasets, indicating that the model is not overfitting.\n",
    "- Additionally, this model performs as well as two out of the three boosting models above on the test data.\n",
    "- Both of these indicate these results indicate that the tuned model is a significant improvements over the base model."
   ]
  },
  {
   "cell_type": "markdown",
   "id": "b266f7b5",
   "metadata": {},
   "source": [
    "### Bagging Classifier - Hyperparameter tuning"
   ]
  },
  {
   "cell_type": "code",
   "execution_count": 407,
   "id": "1292ace8",
   "metadata": {},
   "outputs": [
    {
     "data": {
      "text/html": [
       "<style>#sk-container-id-19 {color: black;background-color: white;}#sk-container-id-19 pre{padding: 0;}#sk-container-id-19 div.sk-toggleable {background-color: white;}#sk-container-id-19 label.sk-toggleable__label {cursor: pointer;display: block;width: 100%;margin-bottom: 0;padding: 0.3em;box-sizing: border-box;text-align: center;}#sk-container-id-19 label.sk-toggleable__label-arrow:before {content: \"▸\";float: left;margin-right: 0.25em;color: #696969;}#sk-container-id-19 label.sk-toggleable__label-arrow:hover:before {color: black;}#sk-container-id-19 div.sk-estimator:hover label.sk-toggleable__label-arrow:before {color: black;}#sk-container-id-19 div.sk-toggleable__content {max-height: 0;max-width: 0;overflow: hidden;text-align: left;background-color: #f0f8ff;}#sk-container-id-19 div.sk-toggleable__content pre {margin: 0.2em;color: black;border-radius: 0.25em;background-color: #f0f8ff;}#sk-container-id-19 input.sk-toggleable__control:checked~div.sk-toggleable__content {max-height: 200px;max-width: 100%;overflow: auto;}#sk-container-id-19 input.sk-toggleable__control:checked~label.sk-toggleable__label-arrow:before {content: \"▾\";}#sk-container-id-19 div.sk-estimator input.sk-toggleable__control:checked~label.sk-toggleable__label {background-color: #d4ebff;}#sk-container-id-19 div.sk-label input.sk-toggleable__control:checked~label.sk-toggleable__label {background-color: #d4ebff;}#sk-container-id-19 input.sk-hidden--visually {border: 0;clip: rect(1px 1px 1px 1px);clip: rect(1px, 1px, 1px, 1px);height: 1px;margin: -1px;overflow: hidden;padding: 0;position: absolute;width: 1px;}#sk-container-id-19 div.sk-estimator {font-family: monospace;background-color: #f0f8ff;border: 1px dotted black;border-radius: 0.25em;box-sizing: border-box;margin-bottom: 0.5em;}#sk-container-id-19 div.sk-estimator:hover {background-color: #d4ebff;}#sk-container-id-19 div.sk-parallel-item::after {content: \"\";width: 100%;border-bottom: 1px solid gray;flex-grow: 1;}#sk-container-id-19 div.sk-label:hover label.sk-toggleable__label {background-color: #d4ebff;}#sk-container-id-19 div.sk-serial::before {content: \"\";position: absolute;border-left: 1px solid gray;box-sizing: border-box;top: 0;bottom: 0;left: 50%;z-index: 0;}#sk-container-id-19 div.sk-serial {display: flex;flex-direction: column;align-items: center;background-color: white;padding-right: 0.2em;padding-left: 0.2em;position: relative;}#sk-container-id-19 div.sk-item {position: relative;z-index: 1;}#sk-container-id-19 div.sk-parallel {display: flex;align-items: stretch;justify-content: center;background-color: white;position: relative;}#sk-container-id-19 div.sk-item::before, #sk-container-id-19 div.sk-parallel-item::before {content: \"\";position: absolute;border-left: 1px solid gray;box-sizing: border-box;top: 0;bottom: 0;left: 50%;z-index: -1;}#sk-container-id-19 div.sk-parallel-item {display: flex;flex-direction: column;z-index: 1;position: relative;background-color: white;}#sk-container-id-19 div.sk-parallel-item:first-child::after {align-self: flex-end;width: 50%;}#sk-container-id-19 div.sk-parallel-item:last-child::after {align-self: flex-start;width: 50%;}#sk-container-id-19 div.sk-parallel-item:only-child::after {width: 0;}#sk-container-id-19 div.sk-dashed-wrapped {border: 1px dashed gray;margin: 0 0.4em 0.5em 0.4em;box-sizing: border-box;padding-bottom: 0.4em;background-color: white;}#sk-container-id-19 div.sk-label label {font-family: monospace;font-weight: bold;display: inline-block;line-height: 1.2em;}#sk-container-id-19 div.sk-label-container {text-align: center;}#sk-container-id-19 div.sk-container {/* jupyter's `normalize.less` sets `[hidden] { display: none; }` but bootstrap.min.css set `[hidden] { display: none !important; }` so we also need the `!important` here to be able to override the default hidden behavior on the sphinx rendered scikit-learn.org. See: https://github.com/scikit-learn/scikit-learn/issues/21755 */display: inline-block !important;position: relative;}#sk-container-id-19 div.sk-text-repr-fallback {display: none;}</style><div id=\"sk-container-id-19\" class=\"sk-top-container\"><div class=\"sk-text-repr-fallback\"><pre>BaggingClassifier(max_features=0.8, max_samples=0.8, n_estimators=70,\n",
       "                  random_state=1)</pre><b>In a Jupyter environment, please rerun this cell to show the HTML representation or trust the notebook. <br />On GitHub, the HTML representation is unable to render, please try loading this page with nbviewer.org.</b></div><div class=\"sk-container\" hidden><div class=\"sk-item\"><div class=\"sk-estimator sk-toggleable\"><input class=\"sk-toggleable__control sk-hidden--visually\" id=\"sk-estimator-id-23\" type=\"checkbox\" checked><label for=\"sk-estimator-id-23\" class=\"sk-toggleable__label sk-toggleable__label-arrow\">BaggingClassifier</label><div class=\"sk-toggleable__content\"><pre>BaggingClassifier(max_features=0.8, max_samples=0.8, n_estimators=70,\n",
       "                  random_state=1)</pre></div></div></div></div></div>"
      ],
      "text/plain": [
       "BaggingClassifier(max_features=0.8, max_samples=0.8, n_estimators=70,\n",
       "                  random_state=1)"
      ]
     },
     "execution_count": 407,
     "metadata": {},
     "output_type": "execute_result"
    }
   ],
   "source": [
    "# random search for bagging classifier\n",
    "parameters = {'max_samples': [0.7,0.8,0.9,1],\n",
    "              'max_features': [0.7,0.8,0.9,1],\n",
    "              'n_estimators' : np.arange(50, 100, 10)\n",
    "             }\n",
    "\n",
    "#run the randomized search\n",
    "rand_bag = RandomizedSearchCV(BaggingClassifier(random_state=1,bootstrap=True), \n",
    "                              parameters, scoring = 'f1', cv = 5, random_state=1)\n",
    "rand_bag = rand_bag.fit(X_train, y_train)\n",
    "\n",
    "# Set the clf to the best combination of parameters\n",
    "bag_tuned = rand_bag.best_estimator_\n",
    "\n",
    "# Fit the best algorithm to the data\n",
    "bag_tuned.fit(X_train, y_train)"
   ]
  },
  {
   "cell_type": "code",
   "execution_count": 408,
   "id": "6e2c24d2",
   "metadata": {},
   "outputs": [
    {
     "name": "stdout",
     "output_type": "stream",
     "text": [
      "Training performance \n",
      "    Accuracy    Recall  Precision        F1\n",
      "0  0.998767  0.999832   0.998324  0.999077\n",
      "Testing performance \n",
      "    Accuracy    Recall  Precision        F1\n",
      "0  0.725536  0.869736   0.756002  0.808891\n"
     ]
    },
    {
     "data": {
      "image/png": "[encoded data removed]",
      "text/plain": [
       "<Figure size 432x288 with 2 Axes>"
      ]
     },
     "metadata": {
      "needs_background": "light"
     },
     "output_type": "display_data"
    }
   ],
   "source": [
    "#Calculating different metrics\n",
    "bagging_estimator_model_train_perf=model_performance_classification_sklearn(bag_tuned, X_train,y_train)\n",
    "print(\"Training performance \\n\",bagging_estimator_model_train_perf)\n",
    "\n",
    "bagging_estimator_model_test_perf=model_performance_classification_sklearn(bag_tuned, X_test, y_test)\n",
    "print(\"Testing performance \\n\",bagging_estimator_model_test_perf)\n",
    "\n",
    "#create a confusion matrix of the classifier's performance on the testing data\n",
    "confusion_matrix_sklearn(bag_tuned, X_test,y_test)"
   ]
  },
  {
   "cell_type": "markdown",
   "id": "f6cd7526",
   "metadata": {},
   "source": [
    "- The Bagging Classifier after tuning performs far less well on the test data than on the training data, indicating that the model is still overfit.\n",
    "- However, this model does perform better than the base model."
   ]
  },
  {
   "cell_type": "markdown",
   "id": "0da6088e",
   "metadata": {},
   "source": [
    "### Random Forest - Hyperparameter tuning"
   ]
  },
  {
   "cell_type": "code",
   "execution_count": 409,
   "id": "1104f6ec",
   "metadata": {},
   "outputs": [
    {
     "data": {
      "text/html": [
       "<style>#sk-container-id-20 {color: black;background-color: white;}#sk-container-id-20 pre{padding: 0;}#sk-container-id-20 div.sk-toggleable {background-color: white;}#sk-container-id-20 label.sk-toggleable__label {cursor: pointer;display: block;width: 100%;margin-bottom: 0;padding: 0.3em;box-sizing: border-box;text-align: center;}#sk-container-id-20 label.sk-toggleable__label-arrow:before {content: \"▸\";float: left;margin-right: 0.25em;color: #696969;}#sk-container-id-20 label.sk-toggleable__label-arrow:hover:before {color: black;}#sk-container-id-20 div.sk-estimator:hover label.sk-toggleable__label-arrow:before {color: black;}#sk-container-id-20 div.sk-toggleable__content {max-height: 0;max-width: 0;overflow: hidden;text-align: left;background-color: #f0f8ff;}#sk-container-id-20 div.sk-toggleable__content pre {margin: 0.2em;color: black;border-radius: 0.25em;background-color: #f0f8ff;}#sk-container-id-20 input.sk-toggleable__control:checked~div.sk-toggleable__content {max-height: 200px;max-width: 100%;overflow: auto;}#sk-container-id-20 input.sk-toggleable__control:checked~label.sk-toggleable__label-arrow:before {content: \"▾\";}#sk-container-id-20 div.sk-estimator input.sk-toggleable__control:checked~label.sk-toggleable__label {background-color: #d4ebff;}#sk-container-id-20 div.sk-label input.sk-toggleable__control:checked~label.sk-toggleable__label {background-color: #d4ebff;}#sk-container-id-20 input.sk-hidden--visually {border: 0;clip: rect(1px 1px 1px 1px);clip: rect(1px, 1px, 1px, 1px);height: 1px;margin: -1px;overflow: hidden;padding: 0;position: absolute;width: 1px;}#sk-container-id-20 div.sk-estimator {font-family: monospace;background-color: #f0f8ff;border: 1px dotted black;border-radius: 0.25em;box-sizing: border-box;margin-bottom: 0.5em;}#sk-container-id-20 div.sk-estimator:hover {background-color: #d4ebff;}#sk-container-id-20 div.sk-parallel-item::after {content: \"\";width: 100%;border-bottom: 1px solid gray;flex-grow: 1;}#sk-container-id-20 div.sk-label:hover label.sk-toggleable__label {background-color: #d4ebff;}#sk-container-id-20 div.sk-serial::before {content: \"\";position: absolute;border-left: 1px solid gray;box-sizing: border-box;top: 0;bottom: 0;left: 50%;z-index: 0;}#sk-container-id-20 div.sk-serial {display: flex;flex-direction: column;align-items: center;background-color: white;padding-right: 0.2em;padding-left: 0.2em;position: relative;}#sk-container-id-20 div.sk-item {position: relative;z-index: 1;}#sk-container-id-20 div.sk-parallel {display: flex;align-items: stretch;justify-content: center;background-color: white;position: relative;}#sk-container-id-20 div.sk-item::before, #sk-container-id-20 div.sk-parallel-item::before {content: \"\";position: absolute;border-left: 1px solid gray;box-sizing: border-box;top: 0;bottom: 0;left: 50%;z-index: -1;}#sk-container-id-20 div.sk-parallel-item {display: flex;flex-direction: column;z-index: 1;position: relative;background-color: white;}#sk-container-id-20 div.sk-parallel-item:first-child::after {align-self: flex-end;width: 50%;}#sk-container-id-20 div.sk-parallel-item:last-child::after {align-self: flex-start;width: 50%;}#sk-container-id-20 div.sk-parallel-item:only-child::after {width: 0;}#sk-container-id-20 div.sk-dashed-wrapped {border: 1px dashed gray;margin: 0 0.4em 0.5em 0.4em;box-sizing: border-box;padding-bottom: 0.4em;background-color: white;}#sk-container-id-20 div.sk-label label {font-family: monospace;font-weight: bold;display: inline-block;line-height: 1.2em;}#sk-container-id-20 div.sk-label-container {text-align: center;}#sk-container-id-20 div.sk-container {/* jupyter's `normalize.less` sets `[hidden] { display: none; }` but bootstrap.min.css set `[hidden] { display: none !important; }` so we also need the `!important` here to be able to override the default hidden behavior on the sphinx rendered scikit-learn.org. See: https://github.com/scikit-learn/scikit-learn/issues/21755 */display: inline-block !important;position: relative;}#sk-container-id-20 div.sk-text-repr-fallback {display: none;}</style><div id=\"sk-container-id-20\" class=\"sk-top-container\"><div class=\"sk-text-repr-fallback\"><pre>DecisionTreeClassifier(max_depth=5, max_leaf_nodes=4,\n",
       "                       min_impurity_decrease=0.0001, min_samples_leaf=3,\n",
       "                       random_state=1)</pre><b>In a Jupyter environment, please rerun this cell to show the HTML representation or trust the notebook. <br />On GitHub, the HTML representation is unable to render, please try loading this page with nbviewer.org.</b></div><div class=\"sk-container\" hidden><div class=\"sk-item\"><div class=\"sk-estimator sk-toggleable\"><input class=\"sk-toggleable__control sk-hidden--visually\" id=\"sk-estimator-id-24\" type=\"checkbox\" checked><label for=\"sk-estimator-id-24\" class=\"sk-toggleable__label sk-toggleable__label-arrow\">DecisionTreeClassifier</label><div class=\"sk-toggleable__content\"><pre>DecisionTreeClassifier(max_depth=5, max_leaf_nodes=4,\n",
       "                       min_impurity_decrease=0.0001, min_samples_leaf=3,\n",
       "                       random_state=1)</pre></div></div></div></div></div>"
      ],
      "text/plain": [
       "DecisionTreeClassifier(max_depth=5, max_leaf_nodes=4,\n",
       "                       min_impurity_decrease=0.0001, min_samples_leaf=3,\n",
       "                       random_state=1)"
      ]
     },
     "execution_count": 409,
     "metadata": {},
     "output_type": "execute_result"
    }
   ],
   "source": [
    "# Choose the type of classifier. \n",
    "rf_estimator = RandomForestClassifier(random_state=1)\n",
    "\n",
    "# Grid of parameters to choose from\n",
    "parameters = {\"n_estimators\": np.arange(10, 40, 10),\n",
    "              \"min_samples_leaf\": np.arange(5, 10),\n",
    "              \"min_samples_split\": [3, 5, 7],\n",
    "              \"max_features\": [\"sqrt\", \"log2\"],\n",
    "              \"max_samples\": np.arange(0.3, 0.7, 0.1),\n",
    "}\n",
    "\n",
    "# Run the randomized search\n",
    "rand_rf = RandomizedSearchCV(rf_estimator, parameters, scoring='f1', cv=5, n_jobs=-1, random_state=1)\n",
    "rand_rf = grid_obj.fit(X_train, y_train)\n",
    "\n",
    "# Set the clf to the best combination of parameters\n",
    "rf_estimator = rand_rf.best_estimator_\n",
    "\n",
    "# Fit the best algorithm to the data. \n",
    "rf_estimator.fit(X_train, y_train)"
   ]
  },
  {
   "cell_type": "code",
   "execution_count": 410,
   "id": "752cd4ae",
   "metadata": {},
   "outputs": [
    {
     "name": "stdout",
     "output_type": "stream",
     "text": [
      "Training performance \n",
      "    Accuracy    Recall  Precision        F1\n",
      "0  0.729816  0.910602   0.742912  0.818254\n",
      "Testing performance \n",
      "    Accuracy    Recall  Precision        F1\n",
      "0  0.722397  0.910088   0.736408  0.814088\n"
     ]
    },
    {
     "data": {
      "image/png": "[encoded data removed]",
      "text/plain": [
       "<Figure size 432x288 with 2 Axes>"
      ]
     },
     "metadata": {
      "needs_background": "light"
     },
     "output_type": "display_data"
    }
   ],
   "source": [
    "#Calculating different metrics\n",
    "rf_estimator_model_train_perf=model_performance_classification_sklearn(rf_estimator, X_train,y_train)\n",
    "print(\"Training performance \\n\",rf_estimator_model_train_perf)\n",
    "\n",
    "rf_estimator_model_test_perf=model_performance_classification_sklearn(rf_estimator, X_test, y_test)\n",
    "print(\"Testing performance \\n\",rf_estimator_model_test_perf)\n",
    "\n",
    "#create a confusion matrix of the classifier's performance on the testing data\n",
    "confusion_matrix_sklearn(rf_estimator, X_test,y_test)"
   ]
  },
  {
   "cell_type": "markdown",
   "id": "cb3c89c6",
   "metadata": {},
   "source": [
    "- The Random Forest after tuning performs equally well on the training and testing datasets, indicating that the model is not overfitting.\n",
    "- Additionally, this model performs as well as two out of the three boosting models and the tuned Decision Tree on the test data.\n",
    "- Both of these indicate this tuned model is a significant improvements over the base model."
   ]
  },
  {
   "cell_type": "markdown",
   "id": "dbb09ca7",
   "metadata": {},
   "source": [
    "### AdaBoost Classifier - Hyperparameter Tuning"
   ]
  },
  {
   "cell_type": "code",
   "execution_count": 411,
   "id": "f43ea998",
   "metadata": {},
   "outputs": [
    {
     "data": {
      "text/html": [
       "<style>#sk-container-id-21 {color: black;background-color: white;}#sk-container-id-21 pre{padding: 0;}#sk-container-id-21 div.sk-toggleable {background-color: white;}#sk-container-id-21 label.sk-toggleable__label {cursor: pointer;display: block;width: 100%;margin-bottom: 0;padding: 0.3em;box-sizing: border-box;text-align: center;}#sk-container-id-21 label.sk-toggleable__label-arrow:before {content: \"▸\";float: left;margin-right: 0.25em;color: #696969;}#sk-container-id-21 label.sk-toggleable__label-arrow:hover:before {color: black;}#sk-container-id-21 div.sk-estimator:hover label.sk-toggleable__label-arrow:before {color: black;}#sk-container-id-21 div.sk-toggleable__content {max-height: 0;max-width: 0;overflow: hidden;text-align: left;background-color: #f0f8ff;}#sk-container-id-21 div.sk-toggleable__content pre {margin: 0.2em;color: black;border-radius: 0.25em;background-color: #f0f8ff;}#sk-container-id-21 input.sk-toggleable__control:checked~div.sk-toggleable__content {max-height: 200px;max-width: 100%;overflow: auto;}#sk-container-id-21 input.sk-toggleable__control:checked~label.sk-toggleable__label-arrow:before {content: \"▾\";}#sk-container-id-21 div.sk-estimator input.sk-toggleable__control:checked~label.sk-toggleable__label {background-color: #d4ebff;}#sk-container-id-21 div.sk-label input.sk-toggleable__control:checked~label.sk-toggleable__label {background-color: #d4ebff;}#sk-container-id-21 input.sk-hidden--visually {border: 0;clip: rect(1px 1px 1px 1px);clip: rect(1px, 1px, 1px, 1px);height: 1px;margin: -1px;overflow: hidden;padding: 0;position: absolute;width: 1px;}#sk-container-id-21 div.sk-estimator {font-family: monospace;background-color: #f0f8ff;border: 1px dotted black;border-radius: 0.25em;box-sizing: border-box;margin-bottom: 0.5em;}#sk-container-id-21 div.sk-estimator:hover {background-color: #d4ebff;}#sk-container-id-21 div.sk-parallel-item::after {content: \"\";width: 100%;border-bottom: 1px solid gray;flex-grow: 1;}#sk-container-id-21 div.sk-label:hover label.sk-toggleable__label {background-color: #d4ebff;}#sk-container-id-21 div.sk-serial::before {content: \"\";position: absolute;border-left: 1px solid gray;box-sizing: border-box;top: 0;bottom: 0;left: 50%;z-index: 0;}#sk-container-id-21 div.sk-serial {display: flex;flex-direction: column;align-items: center;background-color: white;padding-right: 0.2em;padding-left: 0.2em;position: relative;}#sk-container-id-21 div.sk-item {position: relative;z-index: 1;}#sk-container-id-21 div.sk-parallel {display: flex;align-items: stretch;justify-content: center;background-color: white;position: relative;}#sk-container-id-21 div.sk-item::before, #sk-container-id-21 div.sk-parallel-item::before {content: \"\";position: absolute;border-left: 1px solid gray;box-sizing: border-box;top: 0;bottom: 0;left: 50%;z-index: -1;}#sk-container-id-21 div.sk-parallel-item {display: flex;flex-direction: column;z-index: 1;position: relative;background-color: white;}#sk-container-id-21 div.sk-parallel-item:first-child::after {align-self: flex-end;width: 50%;}#sk-container-id-21 div.sk-parallel-item:last-child::after {align-self: flex-start;width: 50%;}#sk-container-id-21 div.sk-parallel-item:only-child::after {width: 0;}#sk-container-id-21 div.sk-dashed-wrapped {border: 1px dashed gray;margin: 0 0.4em 0.5em 0.4em;box-sizing: border-box;padding-bottom: 0.4em;background-color: white;}#sk-container-id-21 div.sk-label label {font-family: monospace;font-weight: bold;display: inline-block;line-height: 1.2em;}#sk-container-id-21 div.sk-label-container {text-align: center;}#sk-container-id-21 div.sk-container {/* jupyter's `normalize.less` sets `[hidden] { display: none; }` but bootstrap.min.css set `[hidden] { display: none !important; }` so we also need the `!important` here to be able to override the default hidden behavior on the sphinx rendered scikit-learn.org. See: https://github.com/scikit-learn/scikit-learn/issues/21755 */display: inline-block !important;position: relative;}#sk-container-id-21 div.sk-text-repr-fallback {display: none;}</style><div id=\"sk-container-id-21\" class=\"sk-top-container\"><div class=\"sk-text-repr-fallback\"><pre>AdaBoostClassifier(base_estimator=DecisionTreeClassifier(class_weight=&#x27;balanced&#x27;,\n",
       "                                                         max_depth=1,\n",
       "                                                         random_state=1),\n",
       "                   learning_rate=0.5, n_estimators=20, random_state=1)</pre><b>In a Jupyter environment, please rerun this cell to show the HTML representation or trust the notebook. <br />On GitHub, the HTML representation is unable to render, please try loading this page with nbviewer.org.</b></div><div class=\"sk-container\" hidden><div class=\"sk-item sk-dashed-wrapped\"><div class=\"sk-label-container\"><div class=\"sk-label sk-toggleable\"><input class=\"sk-toggleable__control sk-hidden--visually\" id=\"sk-estimator-id-25\" type=\"checkbox\" ><label for=\"sk-estimator-id-25\" class=\"sk-toggleable__label sk-toggleable__label-arrow\">AdaBoostClassifier</label><div class=\"sk-toggleable__content\"><pre>AdaBoostClassifier(base_estimator=DecisionTreeClassifier(class_weight=&#x27;balanced&#x27;,\n",
       "                                                         max_depth=1,\n",
       "                                                         random_state=1),\n",
       "                   learning_rate=0.5, n_estimators=20, random_state=1)</pre></div></div></div><div class=\"sk-parallel\"><div class=\"sk-parallel-item\"><div class=\"sk-item\"><div class=\"sk-label-container\"><div class=\"sk-label sk-toggleable\"><input class=\"sk-toggleable__control sk-hidden--visually\" id=\"sk-estimator-id-26\" type=\"checkbox\" ><label for=\"sk-estimator-id-26\" class=\"sk-toggleable__label sk-toggleable__label-arrow\">base_estimator: DecisionTreeClassifier</label><div class=\"sk-toggleable__content\"><pre>DecisionTreeClassifier(class_weight=&#x27;balanced&#x27;, max_depth=1, random_state=1)</pre></div></div></div><div class=\"sk-serial\"><div class=\"sk-item\"><div class=\"sk-estimator sk-toggleable\"><input class=\"sk-toggleable__control sk-hidden--visually\" id=\"sk-estimator-id-27\" type=\"checkbox\" ><label for=\"sk-estimator-id-27\" class=\"sk-toggleable__label sk-toggleable__label-arrow\">DecisionTreeClassifier</label><div class=\"sk-toggleable__content\"><pre>DecisionTreeClassifier(class_weight=&#x27;balanced&#x27;, max_depth=1, random_state=1)</pre></div></div></div></div></div></div></div></div></div></div>"
      ],
      "text/plain": [
       "AdaBoostClassifier(base_estimator=DecisionTreeClassifier(class_weight='balanced',\n",
       "                                                         max_depth=1,\n",
       "                                                         random_state=1),\n",
       "                   learning_rate=0.5, n_estimators=20, random_state=1)"
      ]
     },
     "execution_count": 411,
     "metadata": {},
     "output_type": "execute_result"
    }
   ],
   "source": [
    "# Choose the type of classifier. \n",
    "abc_tuned = AdaBoostClassifier(random_state=1)\n",
    "\n",
    "# Grid of parameters to choose from\n",
    "parameters = {\n",
    "    #Let's try different max_depth for base_estimator\n",
    "    \"base_estimator\":[DecisionTreeClassifier(max_depth=1, random_state=1, class_weight='balanced'),\n",
    "                      DecisionTreeClassifier(max_depth=2, random_state=1, class_weight='balanced'),\n",
    "                      DecisionTreeClassifier(max_depth=3, random_state=1, class_weight='balanced')],\n",
    "    \"n_estimators\": np.arange(10,110,10),\n",
    "    \"learning_rate\":np.arange(0.1,2,0.1)\n",
    "}\n",
    "\n",
    "# Type of scoring used to compare parameter combinations\n",
    "acc_scorer = metrics.make_scorer(metrics.f1_score)\n",
    "\n",
    "# Run the randomized search\n",
    "rand_abc = RandomizedSearchCV(abc_tuned, parameters, scoring=acc_scorer,cv=5, n_jobs=-1, random_state=1)\n",
    "rand_abc = rand_abc.fit(X_train, y_train)\n",
    "\n",
    "# Set the clf to the best combination of parameters\n",
    "abc_tuned = rand_abc.best_estimator_\n",
    "\n",
    "# Fit the best algorithm to the data.\n",
    "abc_tuned.fit(X_train, y_train)"
   ]
  },
  {
   "cell_type": "code",
   "execution_count": 412,
   "id": "f6585894",
   "metadata": {},
   "outputs": [
    {
     "name": "stdout",
     "output_type": "stream",
     "text": [
      "Training performance \n",
      "    Accuracy    Recall  Precision        F1\n",
      "0  0.718603  0.781583   0.793912  0.787699\n",
      "Testing performance \n",
      "    Accuracy    Recall  Precision        F1\n",
      "0  0.716117  0.781391   0.790997  0.786165\n"
     ]
    },
    {
     "data": {
      "image/png": "[encoded data removed]",
      "text/plain": [
       "<Figure size 432x288 with 2 Axes>"
      ]
     },
     "metadata": {
      "needs_background": "light"
     },
     "output_type": "display_data"
    }
   ],
   "source": [
    "#Calculating different metrics\n",
    "abc_tuned_model_train_perf=model_performance_classification_sklearn(abc_tuned, X_train,y_train)\n",
    "print(\"Training performance \\n\",abc_tuned_model_train_perf)\n",
    "\n",
    "abc_tuned_model_test_perf=model_performance_classification_sklearn(abc_tuned, X_test, y_test)\n",
    "print(\"Testing performance \\n\",abc_tuned_model_test_perf)\n",
    "\n",
    "#create a confusion matrix of the classifier's performance on the testing data\n",
    "confusion_matrix_sklearn(abc_tuned, X_test,y_test)"
   ]
  },
  {
   "cell_type": "markdown",
   "id": "7f18e57b",
   "metadata": {},
   "source": [
    "- The AdaBoost classifier after tuning performs equally well on the training and testing datasets, indicating that the model is not overfit.\n",
    "- However, this model performs worse than the base model on both the train and test data."
   ]
  },
  {
   "cell_type": "markdown",
   "id": "b05479c5",
   "metadata": {},
   "source": [
    "### GradientBoost Classifier - Hyperparameter Tuning"
   ]
  },
  {
   "cell_type": "code",
   "execution_count": 413,
   "id": "3e10d637",
   "metadata": {},
   "outputs": [
    {
     "data": {
      "text/html": [
       "<style>#sk-container-id-22 {color: black;background-color: white;}#sk-container-id-22 pre{padding: 0;}#sk-container-id-22 div.sk-toggleable {background-color: white;}#sk-container-id-22 label.sk-toggleable__label {cursor: pointer;display: block;width: 100%;margin-bottom: 0;padding: 0.3em;box-sizing: border-box;text-align: center;}#sk-container-id-22 label.sk-toggleable__label-arrow:before {content: \"▸\";float: left;margin-right: 0.25em;color: #696969;}#sk-container-id-22 label.sk-toggleable__label-arrow:hover:before {color: black;}#sk-container-id-22 div.sk-estimator:hover label.sk-toggleable__label-arrow:before {color: black;}#sk-container-id-22 div.sk-toggleable__content {max-height: 0;max-width: 0;overflow: hidden;text-align: left;background-color: #f0f8ff;}#sk-container-id-22 div.sk-toggleable__content pre {margin: 0.2em;color: black;border-radius: 0.25em;background-color: #f0f8ff;}#sk-container-id-22 input.sk-toggleable__control:checked~div.sk-toggleable__content {max-height: 200px;max-width: 100%;overflow: auto;}#sk-container-id-22 input.sk-toggleable__control:checked~label.sk-toggleable__label-arrow:before {content: \"▾\";}#sk-container-id-22 div.sk-estimator input.sk-toggleable__control:checked~label.sk-toggleable__label {background-color: #d4ebff;}#sk-container-id-22 div.sk-label input.sk-toggleable__control:checked~label.sk-toggleable__label {background-color: #d4ebff;}#sk-container-id-22 input.sk-hidden--visually {border: 0;clip: rect(1px 1px 1px 1px);clip: rect(1px, 1px, 1px, 1px);height: 1px;margin: -1px;overflow: hidden;padding: 0;position: absolute;width: 1px;}#sk-container-id-22 div.sk-estimator {font-family: monospace;background-color: #f0f8ff;border: 1px dotted black;border-radius: 0.25em;box-sizing: border-box;margin-bottom: 0.5em;}#sk-container-id-22 div.sk-estimator:hover {background-color: #d4ebff;}#sk-container-id-22 div.sk-parallel-item::after {content: \"\";width: 100%;border-bottom: 1px solid gray;flex-grow: 1;}#sk-container-id-22 div.sk-label:hover label.sk-toggleable__label {background-color: #d4ebff;}#sk-container-id-22 div.sk-serial::before {content: \"\";position: absolute;border-left: 1px solid gray;box-sizing: border-box;top: 0;bottom: 0;left: 50%;z-index: 0;}#sk-container-id-22 div.sk-serial {display: flex;flex-direction: column;align-items: center;background-color: white;padding-right: 0.2em;padding-left: 0.2em;position: relative;}#sk-container-id-22 div.sk-item {position: relative;z-index: 1;}#sk-container-id-22 div.sk-parallel {display: flex;align-items: stretch;justify-content: center;background-color: white;position: relative;}#sk-container-id-22 div.sk-item::before, #sk-container-id-22 div.sk-parallel-item::before {content: \"\";position: absolute;border-left: 1px solid gray;box-sizing: border-box;top: 0;bottom: 0;left: 50%;z-index: -1;}#sk-container-id-22 div.sk-parallel-item {display: flex;flex-direction: column;z-index: 1;position: relative;background-color: white;}#sk-container-id-22 div.sk-parallel-item:first-child::after {align-self: flex-end;width: 50%;}#sk-container-id-22 div.sk-parallel-item:last-child::after {align-self: flex-start;width: 50%;}#sk-container-id-22 div.sk-parallel-item:only-child::after {width: 0;}#sk-container-id-22 div.sk-dashed-wrapped {border: 1px dashed gray;margin: 0 0.4em 0.5em 0.4em;box-sizing: border-box;padding-bottom: 0.4em;background-color: white;}#sk-container-id-22 div.sk-label label {font-family: monospace;font-weight: bold;display: inline-block;line-height: 1.2em;}#sk-container-id-22 div.sk-label-container {text-align: center;}#sk-container-id-22 div.sk-container {/* jupyter's `normalize.less` sets `[hidden] { display: none; }` but bootstrap.min.css set `[hidden] { display: none !important; }` so we also need the `!important` here to be able to override the default hidden behavior on the sphinx rendered scikit-learn.org. See: https://github.com/scikit-learn/scikit-learn/issues/21755 */display: inline-block !important;position: relative;}#sk-container-id-22 div.sk-text-repr-fallback {display: none;}</style><div id=\"sk-container-id-22\" class=\"sk-top-container\"><div class=\"sk-text-repr-fallback\"><pre>GradientBoostingClassifier(max_features=0.7, n_estimators=300, random_state=1,\n",
       "                           subsample=1)</pre><b>In a Jupyter environment, please rerun this cell to show the HTML representation or trust the notebook. <br />On GitHub, the HTML representation is unable to render, please try loading this page with nbviewer.org.</b></div><div class=\"sk-container\" hidden><div class=\"sk-item\"><div class=\"sk-estimator sk-toggleable\"><input class=\"sk-toggleable__control sk-hidden--visually\" id=\"sk-estimator-id-28\" type=\"checkbox\" checked><label for=\"sk-estimator-id-28\" class=\"sk-toggleable__label sk-toggleable__label-arrow\">GradientBoostingClassifier</label><div class=\"sk-toggleable__content\"><pre>GradientBoostingClassifier(max_features=0.7, n_estimators=300, random_state=1,\n",
       "                           subsample=1)</pre></div></div></div></div></div>"
      ],
      "text/plain": [
       "GradientBoostingClassifier(max_features=0.7, n_estimators=300, random_state=1,\n",
       "                           subsample=1)"
      ]
     },
     "execution_count": 413,
     "metadata": {},
     "output_type": "execute_result"
    }
   ],
   "source": [
    "# Choose the type of classifier. \n",
    "gb_tuned = GradientBoostingClassifier(random_state=1)\n",
    "\n",
    "# Grid of parameters to choose from\n",
    "parameters = {\"n_estimators\": [150,200,250,300],\n",
    "              \"subsample\":[0.8,0.9,1],\n",
    "              \"max_features\":[0.7,0.8,0.9,1],\n",
    "              \"learning_rate\": np.arange(0.1, 0.4, 0.1)}\n",
    "\n",
    "# Type of scoring used to compare parameter combinations\n",
    "scorer = metrics.make_scorer(metrics.f1_score)\n",
    "\n",
    "# Run the randomized search\n",
    "rand_gb = RandomizedSearchCV(gb_tuned, parameters, scoring=scorer,cv=5, n_jobs=-1, random_state=1)\n",
    "rand_gb = rand_gb.fit(X_train, y_train)\n",
    "\n",
    "# Set the clf to the best combination of parameters\n",
    "gb_tuned = rand_gb.best_estimator_\n",
    "\n",
    "# Fit the best algorithm to the data. \n",
    "gb_tuned.fit(X_train, y_train)"
   ]
  },
  {
   "cell_type": "code",
   "execution_count": 414,
   "id": "3eee05df",
   "metadata": {},
   "outputs": [
    {
     "name": "stdout",
     "output_type": "stream",
     "text": [
      "Training performance \n",
      "    Accuracy    Recall  Precision        F1\n",
      "0  0.729816  0.910602   0.742912  0.818254\n",
      "Testing performance \n",
      "    Accuracy    Recall  Precision        F1\n",
      "0  0.722397  0.910088   0.736408  0.814088\n"
     ]
    },
    {
     "data": {
      "image/png": "[encoded data removed]",
      "text/plain": [
       "<Figure size 432x288 with 2 Axes>"
      ]
     },
     "metadata": {
      "needs_background": "light"
     },
     "output_type": "display_data"
    }
   ],
   "source": [
    "#Calculating different metrics\n",
    "gb_tuned_model_train_perf=model_performance_classification_sklearn(rf_estimator, X_train,y_train)\n",
    "print(\"Training performance \\n\",gb_tuned_model_train_perf)\n",
    "\n",
    "gb_tuned_model_test_perf=model_performance_classification_sklearn(rf_estimator, X_test, y_test)\n",
    "print(\"Testing performance \\n\",gb_tuned_model_test_perf)\n",
    "\n",
    "#create a confusion matrix of the classifier's performance on the testing data\n",
    "confusion_matrix_sklearn(gb_tuned, X_test,y_test)"
   ]
  },
  {
   "cell_type": "markdown",
   "id": "8e9f48d3",
   "metadata": {},
   "source": [
    "- The Gradient Boosting classifier after tuning performs equally well on the training and testing datasets, indicating that the model is not overfit.\n",
    "- However, this model performs slightly worse than the base model on both the train and test data."
   ]
  },
  {
   "cell_type": "markdown",
   "id": "b5854833",
   "metadata": {},
   "source": [
    "### XGB Classifer - Hyperparameter Tuning"
   ]
  },
  {
   "cell_type": "code",
   "execution_count": 415,
   "id": "a31242d2",
   "metadata": {},
   "outputs": [
    {
     "data": {
      "text/html": [
       "<style>#sk-container-id-23 {color: black;background-color: white;}#sk-container-id-23 pre{padding: 0;}#sk-container-id-23 div.sk-toggleable {background-color: white;}#sk-container-id-23 label.sk-toggleable__label {cursor: pointer;display: block;width: 100%;margin-bottom: 0;padding: 0.3em;box-sizing: border-box;text-align: center;}#sk-container-id-23 label.sk-toggleable__label-arrow:before {content: \"▸\";float: left;margin-right: 0.25em;color: #696969;}#sk-container-id-23 label.sk-toggleable__label-arrow:hover:before {color: black;}#sk-container-id-23 div.sk-estimator:hover label.sk-toggleable__label-arrow:before {color: black;}#sk-container-id-23 div.sk-toggleable__content {max-height: 0;max-width: 0;overflow: hidden;text-align: left;background-color: #f0f8ff;}#sk-container-id-23 div.sk-toggleable__content pre {margin: 0.2em;color: black;border-radius: 0.25em;background-color: #f0f8ff;}#sk-container-id-23 input.sk-toggleable__control:checked~div.sk-toggleable__content {max-height: 200px;max-width: 100%;overflow: auto;}#sk-container-id-23 input.sk-toggleable__control:checked~label.sk-toggleable__label-arrow:before {content: \"▾\";}#sk-container-id-23 div.sk-estimator input.sk-toggleable__control:checked~label.sk-toggleable__label {background-color: #d4ebff;}#sk-container-id-23 div.sk-label input.sk-toggleable__control:checked~label.sk-toggleable__label {background-color: #d4ebff;}#sk-container-id-23 input.sk-hidden--visually {border: 0;clip: rect(1px 1px 1px 1px);clip: rect(1px, 1px, 1px, 1px);height: 1px;margin: -1px;overflow: hidden;padding: 0;position: absolute;width: 1px;}#sk-container-id-23 div.sk-estimator {font-family: monospace;background-color: #f0f8ff;border: 1px dotted black;border-radius: 0.25em;box-sizing: border-box;margin-bottom: 0.5em;}#sk-container-id-23 div.sk-estimator:hover {background-color: #d4ebff;}#sk-container-id-23 div.sk-parallel-item::after {content: \"\";width: 100%;border-bottom: 1px solid gray;flex-grow: 1;}#sk-container-id-23 div.sk-label:hover label.sk-toggleable__label {background-color: #d4ebff;}#sk-container-id-23 div.sk-serial::before {content: \"\";position: absolute;border-left: 1px solid gray;box-sizing: border-box;top: 0;bottom: 0;left: 50%;z-index: 0;}#sk-container-id-23 div.sk-serial {display: flex;flex-direction: column;align-items: center;background-color: white;padding-right: 0.2em;padding-left: 0.2em;position: relative;}#sk-container-id-23 div.sk-item {position: relative;z-index: 1;}#sk-container-id-23 div.sk-parallel {display: flex;align-items: stretch;justify-content: center;background-color: white;position: relative;}#sk-container-id-23 div.sk-item::before, #sk-container-id-23 div.sk-parallel-item::before {content: \"\";position: absolute;border-left: 1px solid gray;box-sizing: border-box;top: 0;bottom: 0;left: 50%;z-index: -1;}#sk-container-id-23 div.sk-parallel-item {display: flex;flex-direction: column;z-index: 1;position: relative;background-color: white;}#sk-container-id-23 div.sk-parallel-item:first-child::after {align-self: flex-end;width: 50%;}#sk-container-id-23 div.sk-parallel-item:last-child::after {align-self: flex-start;width: 50%;}#sk-container-id-23 div.sk-parallel-item:only-child::after {width: 0;}#sk-container-id-23 div.sk-dashed-wrapped {border: 1px dashed gray;margin: 0 0.4em 0.5em 0.4em;box-sizing: border-box;padding-bottom: 0.4em;background-color: white;}#sk-container-id-23 div.sk-label label {font-family: monospace;font-weight: bold;display: inline-block;line-height: 1.2em;}#sk-container-id-23 div.sk-label-container {text-align: center;}#sk-container-id-23 div.sk-container {/* jupyter's `normalize.less` sets `[hidden] { display: none; }` but bootstrap.min.css set `[hidden] { display: none !important; }` so we also need the `!important` here to be able to override the default hidden behavior on the sphinx rendered scikit-learn.org. See: https://github.com/scikit-learn/scikit-learn/issues/21755 */display: inline-block !important;position: relative;}#sk-container-id-23 div.sk-text-repr-fallback {display: none;}</style><div id=\"sk-container-id-23\" class=\"sk-top-container\"><div class=\"sk-text-repr-fallback\"><pre>XGBClassifier(base_score=0.5, booster=&#x27;gbtree&#x27;, callbacks=None,\n",
       "              colsample_bylevel=0.9, colsample_bynode=1, colsample_bytree=0.5,\n",
       "              early_stopping_rounds=None, enable_categorical=False,\n",
       "              eval_metric=&#x27;logloss&#x27;, gamma=0, gpu_id=-1,\n",
       "              grow_policy=&#x27;depthwise&#x27;, importance_type=None,\n",
       "              interaction_constraints=&#x27;&#x27;, learning_rate=0.1, max_bin=256,\n",
       "              max_cat_to_onehot=4, max_delta_step=0, max_depth=6, max_leaves=0,\n",
       "              min_child_weight=1, missing=nan, monotone_constraints=&#x27;()&#x27;,\n",
       "              n_estimators=70, n_jobs=0, num_parallel_tree=1, predictor=&#x27;auto&#x27;,\n",
       "              random_state=1, reg_alpha=0, reg_lambda=1, ...)</pre><b>In a Jupyter environment, please rerun this cell to show the HTML representation or trust the notebook. <br />On GitHub, the HTML representation is unable to render, please try loading this page with nbviewer.org.</b></div><div class=\"sk-container\" hidden><div class=\"sk-item\"><div class=\"sk-estimator sk-toggleable\"><input class=\"sk-toggleable__control sk-hidden--visually\" id=\"sk-estimator-id-29\" type=\"checkbox\" checked><label for=\"sk-estimator-id-29\" class=\"sk-toggleable__label sk-toggleable__label-arrow\">XGBClassifier</label><div class=\"sk-toggleable__content\"><pre>XGBClassifier(base_score=0.5, booster=&#x27;gbtree&#x27;, callbacks=None,\n",
       "              colsample_bylevel=0.9, colsample_bynode=1, colsample_bytree=0.5,\n",
       "              early_stopping_rounds=None, enable_categorical=False,\n",
       "              eval_metric=&#x27;logloss&#x27;, gamma=0, gpu_id=-1,\n",
       "              grow_policy=&#x27;depthwise&#x27;, importance_type=None,\n",
       "              interaction_constraints=&#x27;&#x27;, learning_rate=0.1, max_bin=256,\n",
       "              max_cat_to_onehot=4, max_delta_step=0, max_depth=6, max_leaves=0,\n",
       "              min_child_weight=1, missing=nan, monotone_constraints=&#x27;()&#x27;,\n",
       "              n_estimators=70, n_jobs=0, num_parallel_tree=1, predictor=&#x27;auto&#x27;,\n",
       "              random_state=1, reg_alpha=0, reg_lambda=1, ...)</pre></div></div></div></div></div>"
      ],
      "text/plain": [
       "XGBClassifier(base_score=0.5, booster='gbtree', callbacks=None,\n",
       "              colsample_bylevel=0.9, colsample_bynode=1, colsample_bytree=0.5,\n",
       "              early_stopping_rounds=None, enable_categorical=False,\n",
       "              eval_metric='logloss', gamma=0, gpu_id=-1,\n",
       "              grow_policy='depthwise', importance_type=None,\n",
       "              interaction_constraints='', learning_rate=0.1, max_bin=256,\n",
       "              max_cat_to_onehot=4, max_delta_step=0, max_depth=6, max_leaves=0,\n",
       "              min_child_weight=1, missing=nan, monotone_constraints='()',\n",
       "              n_estimators=70, n_jobs=0, num_parallel_tree=1, predictor='auto',\n",
       "              random_state=1, reg_alpha=0, reg_lambda=1, ...)"
      ]
     },
     "execution_count": 415,
     "metadata": {},
     "output_type": "execute_result"
    }
   ],
   "source": [
    "# Choose the type of classifier. \n",
    "xgb_tuned = XGBClassifier(random_state=1, eval_metric='logloss')\n",
    "\n",
    "# Grid of parameters to choose from\n",
    "parameters = {\"n_estimators\": np.arange(10,100,20),\n",
    "              \"scale_pos_weight\":[0,1,2,5],\n",
    "              \"subsample\":[0.5,0.7,0.9,1],\n",
    "              \"learning_rate\":[0.01,0.1,0.2,0.05],\n",
    "              \"gamma\":[0,1,3],\n",
    "              \"colsample_bytree\":[0.5,0.7,0.9,1],\n",
    "              \"colsample_bylevel\":[0.5,0.7,0.9,1]}\n",
    "\n",
    "# Type of scoring used to compare parameter combinations\n",
    "scorer = metrics.make_scorer(metrics.f1_score)\n",
    "\n",
    "# Run the randomized search\n",
    "rand_xgb = RandomizedSearchCV(xgb_tuned, parameters, scoring=scorer,cv=5, n_jobs=-1, random_state=1)\n",
    "rand_xgb = rand_xgb.fit(X_train, y_train)\n",
    "\n",
    "# Set the clf to the best combination of parameters\n",
    "xgb_tuned = rand_xgb.best_estimator_\n",
    "\n",
    "# Fit the best algorithm to the data. \n",
    "xgb_tuned.fit(X_train, y_train)"
   ]
  },
  {
   "cell_type": "code",
   "execution_count": 416,
   "id": "2e43e404",
   "metadata": {},
   "outputs": [
    {
     "name": "stdout",
     "output_type": "stream",
     "text": [
      "Training performance \n",
      "    Accuracy    Recall  Precision        F1\n",
      "0  0.770801  0.889868    0.79248  0.838355\n",
      "Testing performance \n",
      "    Accuracy    Recall  Precision        F1\n",
      "0  0.743851  0.872282   0.773225  0.819772\n"
     ]
    },
    {
     "data": {
      "image/png": "[encoded data removed]",
      "text/plain": [
       "<Figure size 432x288 with 2 Axes>"
      ]
     },
     "metadata": {
      "needs_background": "light"
     },
     "output_type": "display_data"
    }
   ],
   "source": [
    "#Calculating different metrics\n",
    "xgb_tuned_model_train_perf=model_performance_classification_sklearn(xgb_tuned, X_train,y_train)\n",
    "print(\"Training performance \\n\",xgb_tuned_model_train_perf)\n",
    "\n",
    "xgb_tuned_model_test_perf=model_performance_classification_sklearn(xgb_tuned, X_test, y_test)\n",
    "print(\"Testing performance \\n\",xgb_tuned_model_test_perf)\n",
    "\n",
    "#create a confusion matrix of the classifier's performance on the testing data \n",
    "confusion_matrix_sklearn(xgb_tuned, X_test,y_test)"
   ]
  },
  {
   "cell_type": "markdown",
   "id": "cf2eeb1c",
   "metadata": {},
   "source": [
    "- The XGBoost classifier after tuning is less overfit than the base model, but performs equally well on the test data.\n",
    "- This indicates a minor improvement over the base model."
   ]
  },
  {
   "cell_type": "markdown",
   "id": "4bee6713",
   "metadata": {},
   "source": [
    "### Tuned models comparison"
   ]
  },
  {
   "cell_type": "markdown",
   "id": "ed09e406",
   "metadata": {},
   "source": [
    "Let's have a look at the dataframe comparing the performance of the tuned models on the training data"
   ]
  },
  {
   "cell_type": "code",
   "execution_count": 417,
   "id": "af58fbad",
   "metadata": {},
   "outputs": [
    {
     "name": "stdout",
     "output_type": "stream",
     "text": [
      "Training performance comparison of tuned models:\n"
     ]
    },
    {
     "data": {
      "text/html": [
       "<div>\n",
       "<style scoped>\n",
       "    .dataframe tbody tr th:only-of-type {\n",
       "        vertical-align: middle;\n",
       "    }\n",
       "\n",
       "    .dataframe tbody tr th {\n",
       "        vertical-align: top;\n",
       "    }\n",
       "\n",
       "    .dataframe thead th {\n",
       "        text-align: right;\n",
       "    }\n",
       "</style>\n",
       "<table border=\"1\" class=\"dataframe\">\n",
       "  <thead>\n",
       "    <tr style=\"text-align: right;\">\n",
       "      <th></th>\n",
       "      <th>Tuned Decision Tree</th>\n",
       "      <th>Tuned Bagging Classifier</th>\n",
       "      <th>Tuned Random Forest</th>\n",
       "      <th>Tuned AdaBoost Classifier</th>\n",
       "      <th>Tuned Gradient Boosting Classifier</th>\n",
       "      <th>Tuned XGBoost Classifier</th>\n",
       "    </tr>\n",
       "  </thead>\n",
       "  <tbody>\n",
       "    <tr>\n",
       "      <th>Accuracy</th>\n",
       "      <td>0.729816</td>\n",
       "      <td>0.998767</td>\n",
       "      <td>0.729816</td>\n",
       "      <td>0.718603</td>\n",
       "      <td>0.729816</td>\n",
       "      <td>0.770801</td>\n",
       "    </tr>\n",
       "    <tr>\n",
       "      <th>Recall</th>\n",
       "      <td>0.910602</td>\n",
       "      <td>0.999832</td>\n",
       "      <td>0.910602</td>\n",
       "      <td>0.781583</td>\n",
       "      <td>0.910602</td>\n",
       "      <td>0.889868</td>\n",
       "    </tr>\n",
       "    <tr>\n",
       "      <th>Precision</th>\n",
       "      <td>0.742912</td>\n",
       "      <td>0.998324</td>\n",
       "      <td>0.742912</td>\n",
       "      <td>0.793912</td>\n",
       "      <td>0.742912</td>\n",
       "      <td>0.792480</td>\n",
       "    </tr>\n",
       "    <tr>\n",
       "      <th>F1</th>\n",
       "      <td>0.818254</td>\n",
       "      <td>0.999077</td>\n",
       "      <td>0.818254</td>\n",
       "      <td>0.787699</td>\n",
       "      <td>0.818254</td>\n",
       "      <td>0.838355</td>\n",
       "    </tr>\n",
       "  </tbody>\n",
       "</table>\n",
       "</div>"
      ],
      "text/plain": [
       "           Tuned Decision Tree  Tuned Bagging Classifier  Tuned Random Forest  \\\n",
       "Accuracy              0.729816                  0.998767             0.729816   \n",
       "Recall                0.910602                  0.999832             0.910602   \n",
       "Precision             0.742912                  0.998324             0.742912   \n",
       "F1                    0.818254                  0.999077             0.818254   \n",
       "\n",
       "           Tuned AdaBoost Classifier  Tuned Gradient Boosting Classifier  \\\n",
       "Accuracy                    0.718603                            0.729816   \n",
       "Recall                      0.781583                            0.910602   \n",
       "Precision                   0.793912                            0.742912   \n",
       "F1                          0.787699                            0.818254   \n",
       "\n",
       "           Tuned XGBoost Classifier  \n",
       "Accuracy                   0.770801  \n",
       "Recall                     0.889868  \n",
       "Precision                  0.792480  \n",
       "F1                         0.838355  "
      ]
     },
     "execution_count": 417,
     "metadata": {},
     "output_type": "execute_result"
    }
   ],
   "source": [
    "tuned_models_train_comp_df = pd.concat(\n",
    "    [dtree_estimator_model_train_perf.T,\n",
    "     bagging_estimator_model_train_perf.T,\n",
    "     rf_estimator_model_train_perf.T,\n",
    "     abc_tuned_model_train_perf.T, \n",
    "     gb_tuned_model_train_perf.T, \n",
    "     xgb_tuned_model_train_perf.T],\n",
    "    axis=1,\n",
    ")\n",
    "tuned_models_train_comp_df.columns = [\n",
    "    \"Tuned Decision Tree\",\n",
    "    \"Tuned Bagging Classifier\",\n",
    "    \"Tuned Random Forest\",\n",
    "    \"Tuned AdaBoost Classifier\",\n",
    "    \"Tuned Gradient Boosting Classifier\",\n",
    "    \"Tuned XGBoost Classifier\"]\n",
    "print(\"Training performance comparison of tuned models:\")\n",
    "tuned_models_train_comp_df"
   ]
  },
  {
   "cell_type": "markdown",
   "id": "bbd1bf77",
   "metadata": {},
   "source": [
    "Let's take a look at a dataframe comparing the performance of the tuned models on the testing data"
   ]
  },
  {
   "cell_type": "code",
   "execution_count": 418,
   "id": "c27ebf7a",
   "metadata": {},
   "outputs": [
    {
     "name": "stdout",
     "output_type": "stream",
     "text": [
      "Testing performance comparison of tuned models:\n"
     ]
    },
    {
     "data": {
      "text/html": [
       "<div>\n",
       "<style scoped>\n",
       "    .dataframe tbody tr th:only-of-type {\n",
       "        vertical-align: middle;\n",
       "    }\n",
       "\n",
       "    .dataframe tbody tr th {\n",
       "        vertical-align: top;\n",
       "    }\n",
       "\n",
       "    .dataframe thead th {\n",
       "        text-align: right;\n",
       "    }\n",
       "</style>\n",
       "<table border=\"1\" class=\"dataframe\">\n",
       "  <thead>\n",
       "    <tr style=\"text-align: right;\">\n",
       "      <th></th>\n",
       "      <th>Tuned Decision Tree</th>\n",
       "      <th>Tuned Bagging Classifier</th>\n",
       "      <th>Tuned Random Forest</th>\n",
       "      <th>Tuned AdaBoost Classifier</th>\n",
       "      <th>Tuned Gradient Boosting Classifier</th>\n",
       "      <th>Tuned XGBoost Classifier</th>\n",
       "    </tr>\n",
       "  </thead>\n",
       "  <tbody>\n",
       "    <tr>\n",
       "      <th>Accuracy</th>\n",
       "      <td>0.722397</td>\n",
       "      <td>0.725536</td>\n",
       "      <td>0.722397</td>\n",
       "      <td>0.716117</td>\n",
       "      <td>0.722397</td>\n",
       "      <td>0.743851</td>\n",
       "    </tr>\n",
       "    <tr>\n",
       "      <th>Recall</th>\n",
       "      <td>0.910088</td>\n",
       "      <td>0.869736</td>\n",
       "      <td>0.910088</td>\n",
       "      <td>0.781391</td>\n",
       "      <td>0.910088</td>\n",
       "      <td>0.872282</td>\n",
       "    </tr>\n",
       "    <tr>\n",
       "      <th>Precision</th>\n",
       "      <td>0.736408</td>\n",
       "      <td>0.756002</td>\n",
       "      <td>0.736408</td>\n",
       "      <td>0.790997</td>\n",
       "      <td>0.736408</td>\n",
       "      <td>0.773225</td>\n",
       "    </tr>\n",
       "    <tr>\n",
       "      <th>F1</th>\n",
       "      <td>0.814088</td>\n",
       "      <td>0.808891</td>\n",
       "      <td>0.814088</td>\n",
       "      <td>0.786165</td>\n",
       "      <td>0.814088</td>\n",
       "      <td>0.819772</td>\n",
       "    </tr>\n",
       "  </tbody>\n",
       "</table>\n",
       "</div>"
      ],
      "text/plain": [
       "           Tuned Decision Tree  Tuned Bagging Classifier  Tuned Random Forest  \\\n",
       "Accuracy              0.722397                  0.725536             0.722397   \n",
       "Recall                0.910088                  0.869736             0.910088   \n",
       "Precision             0.736408                  0.756002             0.736408   \n",
       "F1                    0.814088                  0.808891             0.814088   \n",
       "\n",
       "           Tuned AdaBoost Classifier  Tuned Gradient Boosting Classifier  \\\n",
       "Accuracy                    0.716117                            0.722397   \n",
       "Recall                      0.781391                            0.910088   \n",
       "Precision                   0.790997                            0.736408   \n",
       "F1                          0.786165                            0.814088   \n",
       "\n",
       "           Tuned XGBoost Classifier  \n",
       "Accuracy                   0.743851  \n",
       "Recall                     0.872282  \n",
       "Precision                  0.773225  \n",
       "F1                         0.819772  "
      ]
     },
     "execution_count": 418,
     "metadata": {},
     "output_type": "execute_result"
    }
   ],
   "source": [
    "tuned_models_test_comp_df = pd.concat(\n",
    "    [dtree_estimator_model_test_perf.T,\n",
    "     bagging_estimator_model_test_perf.T,\n",
    "     rf_estimator_model_test_perf.T,\n",
    "     abc_tuned_model_test_perf.T, \n",
    "     gb_tuned_model_test_perf.T, \n",
    "     xgb_tuned_model_test_perf.T],\n",
    "    axis=1,\n",
    ")\n",
    "tuned_models_test_comp_df.columns = [\n",
    "    \"Tuned Decision Tree\",\n",
    "    \"Tuned Bagging Classifier\",\n",
    "    \"Tuned Random Forest\",\n",
    "    \"Tuned AdaBoost Classifier\",\n",
    "    \"Tuned Gradient Boosting Classifier\",\n",
    "    \"Tuned XGBoost Classifier\"]\n",
    "print(\"Testing performance comparison of tuned models:\")\n",
    "tuned_models_test_comp_df"
   ]
  },
  {
   "cell_type": "markdown",
   "id": "obvious-maine",
   "metadata": {
    "id": "obvious-maine"
   },
   "source": [
    "## Model Performance Comparison and Conclusions"
   ]
  },
  {
   "cell_type": "code",
   "execution_count": 419,
   "id": "everyday-kinase",
   "metadata": {
    "id": "everyday-kinase"
   },
   "outputs": [
    {
     "data": {
      "text/html": [
       "<div>\n",
       "<style scoped>\n",
       "    .dataframe tbody tr th:only-of-type {\n",
       "        vertical-align: middle;\n",
       "    }\n",
       "\n",
       "    .dataframe tbody tr th {\n",
       "        vertical-align: top;\n",
       "    }\n",
       "\n",
       "    .dataframe thead th {\n",
       "        text-align: right;\n",
       "    }\n",
       "</style>\n",
       "<table border=\"1\" class=\"dataframe\">\n",
       "  <thead>\n",
       "    <tr style=\"text-align: right;\">\n",
       "      <th></th>\n",
       "      <th>Accuracy</th>\n",
       "      <th>Recall</th>\n",
       "      <th>Precision</th>\n",
       "      <th>F1</th>\n",
       "    </tr>\n",
       "  </thead>\n",
       "  <tbody>\n",
       "    <tr>\n",
       "      <th>Decision Tree</th>\n",
       "      <td>1.000000</td>\n",
       "      <td>1.000000</td>\n",
       "      <td>1.000000</td>\n",
       "      <td>1.000000</td>\n",
       "    </tr>\n",
       "    <tr>\n",
       "      <th>Random Forest</th>\n",
       "      <td>0.999944</td>\n",
       "      <td>0.999916</td>\n",
       "      <td>1.000000</td>\n",
       "      <td>0.999958</td>\n",
       "    </tr>\n",
       "    <tr>\n",
       "      <th>Tuned Bagging Classifier</th>\n",
       "      <td>0.998767</td>\n",
       "      <td>0.999832</td>\n",
       "      <td>0.998324</td>\n",
       "      <td>0.999077</td>\n",
       "    </tr>\n",
       "    <tr>\n",
       "      <th>Bagging Classifier</th>\n",
       "      <td>0.985367</td>\n",
       "      <td>0.986317</td>\n",
       "      <td>0.991729</td>\n",
       "      <td>0.989016</td>\n",
       "    </tr>\n",
       "    <tr>\n",
       "      <th>XGBoost Classifier</th>\n",
       "      <td>0.838248</td>\n",
       "      <td>0.931000</td>\n",
       "      <td>0.843166</td>\n",
       "      <td>0.884908</td>\n",
       "    </tr>\n",
       "    <tr>\n",
       "      <th>Tuned XGBoost Classifier</th>\n",
       "      <td>0.770801</td>\n",
       "      <td>0.889868</td>\n",
       "      <td>0.792480</td>\n",
       "      <td>0.838355</td>\n",
       "    </tr>\n",
       "    <tr>\n",
       "      <th>Gradient Boosting Classifier</th>\n",
       "      <td>0.759419</td>\n",
       "      <td>0.882901</td>\n",
       "      <td>0.784106</td>\n",
       "      <td>0.830576</td>\n",
       "    </tr>\n",
       "    <tr>\n",
       "      <th>AdaBoost Classifier</th>\n",
       "      <td>0.738058</td>\n",
       "      <td>0.887434</td>\n",
       "      <td>0.760411</td>\n",
       "      <td>0.819027</td>\n",
       "    </tr>\n",
       "    <tr>\n",
       "      <th>Tuned Decision Tree</th>\n",
       "      <td>0.729816</td>\n",
       "      <td>0.910602</td>\n",
       "      <td>0.742912</td>\n",
       "      <td>0.818254</td>\n",
       "    </tr>\n",
       "    <tr>\n",
       "      <th>Tuned Random Forest</th>\n",
       "      <td>0.729816</td>\n",
       "      <td>0.910602</td>\n",
       "      <td>0.742912</td>\n",
       "      <td>0.818254</td>\n",
       "    </tr>\n",
       "    <tr>\n",
       "      <th>Tuned Gradient Boosting Classifier</th>\n",
       "      <td>0.729816</td>\n",
       "      <td>0.910602</td>\n",
       "      <td>0.742912</td>\n",
       "      <td>0.818254</td>\n",
       "    </tr>\n",
       "    <tr>\n",
       "      <th>Tuned AdaBoost Classifier</th>\n",
       "      <td>0.718603</td>\n",
       "      <td>0.781583</td>\n",
       "      <td>0.793912</td>\n",
       "      <td>0.787699</td>\n",
       "    </tr>\n",
       "  </tbody>\n",
       "</table>\n",
       "</div>"
      ],
      "text/plain": [
       "                                    Accuracy    Recall  Precision        F1\n",
       "Decision Tree                       1.000000  1.000000   1.000000  1.000000\n",
       "Random Forest                       0.999944  0.999916   1.000000  0.999958\n",
       "Tuned Bagging Classifier            0.998767  0.999832   0.998324  0.999077\n",
       "Bagging Classifier                  0.985367  0.986317   0.991729  0.989016\n",
       "XGBoost Classifier                  0.838248  0.931000   0.843166  0.884908\n",
       "Tuned XGBoost Classifier            0.770801  0.889868   0.792480  0.838355\n",
       "Gradient Boosting Classifier        0.759419  0.882901   0.784106  0.830576\n",
       "AdaBoost Classifier                 0.738058  0.887434   0.760411  0.819027\n",
       "Tuned Decision Tree                 0.729816  0.910602   0.742912  0.818254\n",
       "Tuned Random Forest                 0.729816  0.910602   0.742912  0.818254\n",
       "Tuned Gradient Boosting Classifier  0.729816  0.910602   0.742912  0.818254\n",
       "Tuned AdaBoost Classifier           0.718603  0.781583   0.793912  0.787699"
      ]
     },
     "execution_count": 419,
     "metadata": {},
     "output_type": "execute_result"
    }
   ],
   "source": [
    "# create a dataframe comparing the performance all models on the training data\n",
    "all_models_train_comp = pd.concat([models_train_comp_df,tuned_models_train_comp_df],axis=1)\n",
    "all_models_train_comp.T.sort_values('F1',ascending=False)"
   ]
  },
  {
   "cell_type": "code",
   "execution_count": 420,
   "id": "3fa5922c",
   "metadata": {},
   "outputs": [
    {
     "data": {
      "text/plain": [
       "'The best performing model on the training data is the Decision Tree'"
      ]
     },
     "execution_count": 420,
     "metadata": {},
     "output_type": "execute_result"
    }
   ],
   "source": [
    "'The best performing model on the training data is the ' + all_models_train_comp.T.sort_values('F1',ascending=False).index[0]"
   ]
  },
  {
   "cell_type": "markdown",
   "id": "b6c95536",
   "metadata": {},
   "source": [
    "Let's create a dataframe comparing the performance of all models on the testing data"
   ]
  },
  {
   "cell_type": "code",
   "execution_count": 421,
   "id": "9d578995",
   "metadata": {},
   "outputs": [
    {
     "data": {
      "text/html": [
       "<div>\n",
       "<style scoped>\n",
       "    .dataframe tbody tr th:only-of-type {\n",
       "        vertical-align: middle;\n",
       "    }\n",
       "\n",
       "    .dataframe tbody tr th {\n",
       "        vertical-align: top;\n",
       "    }\n",
       "\n",
       "    .dataframe thead th {\n",
       "        text-align: right;\n",
       "    }\n",
       "</style>\n",
       "<table border=\"1\" class=\"dataframe\">\n",
       "  <thead>\n",
       "    <tr style=\"text-align: right;\">\n",
       "      <th></th>\n",
       "      <th>Accuracy</th>\n",
       "      <th>Recall</th>\n",
       "      <th>Precision</th>\n",
       "      <th>F1</th>\n",
       "    </tr>\n",
       "  </thead>\n",
       "  <tbody>\n",
       "    <tr>\n",
       "      <th>Gradient Boosting Classifier</th>\n",
       "      <td>0.744636</td>\n",
       "      <td>0.873262</td>\n",
       "      <td>0.773555</td>\n",
       "      <td>0.820390</td>\n",
       "    </tr>\n",
       "    <tr>\n",
       "      <th>Tuned XGBoost Classifier</th>\n",
       "      <td>0.743851</td>\n",
       "      <td>0.872282</td>\n",
       "      <td>0.773225</td>\n",
       "      <td>0.819772</td>\n",
       "    </tr>\n",
       "    <tr>\n",
       "      <th>AdaBoost Classifier</th>\n",
       "      <td>0.732993</td>\n",
       "      <td>0.885015</td>\n",
       "      <td>0.756530</td>\n",
       "      <td>0.815744</td>\n",
       "    </tr>\n",
       "    <tr>\n",
       "      <th>Tuned Decision Tree</th>\n",
       "      <td>0.722397</td>\n",
       "      <td>0.910088</td>\n",
       "      <td>0.736408</td>\n",
       "      <td>0.814088</td>\n",
       "    </tr>\n",
       "    <tr>\n",
       "      <th>Tuned Random Forest</th>\n",
       "      <td>0.722397</td>\n",
       "      <td>0.910088</td>\n",
       "      <td>0.736408</td>\n",
       "      <td>0.814088</td>\n",
       "    </tr>\n",
       "    <tr>\n",
       "      <th>Tuned Gradient Boosting Classifier</th>\n",
       "      <td>0.722397</td>\n",
       "      <td>0.910088</td>\n",
       "      <td>0.736408</td>\n",
       "      <td>0.814088</td>\n",
       "    </tr>\n",
       "    <tr>\n",
       "      <th>XGBoost Classifier</th>\n",
       "      <td>0.735348</td>\n",
       "      <td>0.863271</td>\n",
       "      <td>0.768842</td>\n",
       "      <td>0.813325</td>\n",
       "    </tr>\n",
       "    <tr>\n",
       "      <th>Tuned Bagging Classifier</th>\n",
       "      <td>0.725536</td>\n",
       "      <td>0.869736</td>\n",
       "      <td>0.756002</td>\n",
       "      <td>0.808891</td>\n",
       "    </tr>\n",
       "    <tr>\n",
       "      <th>Random Forest</th>\n",
       "      <td>0.719126</td>\n",
       "      <td>0.830167</td>\n",
       "      <td>0.768032</td>\n",
       "      <td>0.797891</td>\n",
       "    </tr>\n",
       "    <tr>\n",
       "      <th>Tuned AdaBoost Classifier</th>\n",
       "      <td>0.716117</td>\n",
       "      <td>0.781391</td>\n",
       "      <td>0.790997</td>\n",
       "      <td>0.786165</td>\n",
       "    </tr>\n",
       "    <tr>\n",
       "      <th>Bagging Classifier</th>\n",
       "      <td>0.692177</td>\n",
       "      <td>0.766112</td>\n",
       "      <td>0.771400</td>\n",
       "      <td>0.768747</td>\n",
       "    </tr>\n",
       "    <tr>\n",
       "      <th>Decision Tree</th>\n",
       "      <td>0.664443</td>\n",
       "      <td>0.742605</td>\n",
       "      <td>0.751884</td>\n",
       "      <td>0.747216</td>\n",
       "    </tr>\n",
       "  </tbody>\n",
       "</table>\n",
       "</div>"
      ],
      "text/plain": [
       "                                    Accuracy    Recall  Precision        F1\n",
       "Gradient Boosting Classifier        0.744636  0.873262   0.773555  0.820390\n",
       "Tuned XGBoost Classifier            0.743851  0.872282   0.773225  0.819772\n",
       "AdaBoost Classifier                 0.732993  0.885015   0.756530  0.815744\n",
       "Tuned Decision Tree                 0.722397  0.910088   0.736408  0.814088\n",
       "Tuned Random Forest                 0.722397  0.910088   0.736408  0.814088\n",
       "Tuned Gradient Boosting Classifier  0.722397  0.910088   0.736408  0.814088\n",
       "XGBoost Classifier                  0.735348  0.863271   0.768842  0.813325\n",
       "Tuned Bagging Classifier            0.725536  0.869736   0.756002  0.808891\n",
       "Random Forest                       0.719126  0.830167   0.768032  0.797891\n",
       "Tuned AdaBoost Classifier           0.716117  0.781391   0.790997  0.786165\n",
       "Bagging Classifier                  0.692177  0.766112   0.771400  0.768747\n",
       "Decision Tree                       0.664443  0.742605   0.751884  0.747216"
      ]
     },
     "execution_count": 421,
     "metadata": {},
     "output_type": "execute_result"
    }
   ],
   "source": [
    "all_models_test_comp = pd.concat([models_test_comp_df,tuned_models_test_comp_df],axis=1)\n",
    "all_models_test_comp.T.sort_values('F1',ascending=False)"
   ]
  },
  {
   "cell_type": "code",
   "execution_count": 422,
   "id": "d53ef658",
   "metadata": {},
   "outputs": [
    {
     "data": {
      "text/plain": [
       "'The best performing model on the testing data is the Gradient Boosting Classifier'"
      ]
     },
     "execution_count": 422,
     "metadata": {},
     "output_type": "execute_result"
    }
   ],
   "source": [
    "'The best performing model on the testing data is the ' + all_models_test_comp.T.sort_values('F1',ascending=False).index[0]"
   ]
  },
  {
   "cell_type": "markdown",
   "id": "995d3f51",
   "metadata": {},
   "source": [
    "Results explained:"
   ]
  },
  {
   "cell_type": "markdown",
   "id": "21a84646",
   "metadata": {},
   "source": [
    "- As expected the Decision Tree model performs the best on the training dataset, since the model will significantly overfit this data unless pruned otherwise.\n",
    "- The Gradient Boosting classifier performs the best on the testing dataset, with an 0.82 F1 score."
   ]
  },
  {
   "cell_type": "markdown",
   "id": "2d82f88e",
   "metadata": {},
   "source": [
    "### Let's have a look at the feature importance of the Gradient Boosting Classifier"
   ]
  },
  {
   "cell_type": "markdown",
   "id": "a5f018d1",
   "metadata": {},
   "source": [
    "A higher score means that the specific feature will have a larger effect on the model that is being used to predict a certain variable."
   ]
  },
  {
   "cell_type": "code",
   "execution_count": 423,
   "id": "d4d18205",
   "metadata": {},
   "outputs": [
    {
     "name": "stdout",
     "output_type": "stream",
     "text": [
      "                                   Importance\n",
      "education_of_employee_High School    0.286718\n",
      "has_job_experience_Y                 0.155771\n",
      "prevailing_wage                      0.135622\n",
      "education_of_employee_Master's       0.087525\n",
      "education_of_employee_Doctorate      0.083296\n",
      "continent_Europe                     0.062844\n",
      "unit_of_wage_Year                    0.036216\n",
      "region_of_employment_Midwest         0.034196\n",
      "region_of_employment_South           0.019012\n",
      "no_of_employees                      0.016515\n"
     ]
    }
   ],
   "source": [
    "print(pd.DataFrame(gbc.feature_importances_, columns = [\"Importance\"], \n",
    "                   index = X_train.columns).sort_values(by = 'Importance', ascending = False).head(10))"
   ]
  },
  {
   "cell_type": "code",
   "execution_count": 424,
   "id": "ab815288",
   "metadata": {},
   "outputs": [],
   "source": [
    "feature_names = X_train.columns"
   ]
  },
  {
   "cell_type": "code",
   "execution_count": 425,
   "id": "4a35a0a1",
   "metadata": {},
   "outputs": [
    {
     "data": {
      "image/png": "[encoded data removed]",
      "text/plain": [
       "<Figure size 864x864 with 1 Axes>"
      ]
     },
     "metadata": {
      "needs_background": "light"
     },
     "output_type": "display_data"
    }
   ],
   "source": [
    "importances = gbc.feature_importances_\n",
    "indices = np.argsort(importances)\n",
    "\n",
    "plt.figure(figsize=(12,12))\n",
    "plt.title('Feature Importances of the Gradient Boosting Classifier')\n",
    "plt.barh(range(len(indices)), importances[indices], align='center')\n",
    "plt.yticks(range(len(indices)), [feature_names[i] for i in indices])\n",
    "plt.xlabel('Relative Importance')\n",
    "plt.show()"
   ]
  },
  {
   "cell_type": "markdown",
   "id": "176a4e55",
   "metadata": {},
   "source": [
    "The education of employee, job experience and prevailing wages have a higher feature importance."
   ]
  },
  {
   "cell_type": "markdown",
   "id": "nasty-retailer",
   "metadata": {
    "id": "nasty-retailer"
   },
   "source": [
    "## Actionable Insights and Recommendations"
   ]
  },
  {
   "cell_type": "markdown",
   "id": "11497eb3",
   "metadata": {},
   "source": [
    "### Insights"
   ]
  },
  {
   "cell_type": "markdown",
   "id": "072f05e7",
   "metadata": {
    "id": "amino-prediction"
   },
   "source": [
    "For the Office of Foreign Labor Certification (OFLC), the three most critical components for pre-screening an applicant are:\n",
    "\n",
    "- Education level. An applicant applying for a job requiring a high school diploma will more than likely be denied. Conversely, applications for jobs requiring a Master's degree or doctorate are very likely to be approved.\n",
    "- Prior job experience. An applicant applying for a job without any previous job experience is more likley to be denied than an applicant for a job with experience.\n",
    "- Prevailing wage. The higher the prevailing wage of the job an applicant is applying for, the more likely the application will be approved. This is especially true for applications for jobs with an hourly unit of wage."
   ]
  },
  {
   "cell_type": "markdown",
   "id": "4abcc43a",
   "metadata": {},
   "source": [
    "The Gradient Boosting classifier performs the best of all the models created. However, as shown above, the tuned Decision-Tree model performs barely worse by F1 score and is a far simpler model. This model may be preferable if post-hoc explanations of OFLC decision-making is expected to be required."
   ]
  },
  {
   "cell_type": "markdown",
   "id": "def12fb5",
   "metadata": {},
   "source": [
    "### Recommendations"
   ]
  },
  {
   "cell_type": "markdown",
   "id": "d4def870",
   "metadata": {},
   "source": [
    "To prioritize limited resources towards screening a batch of applications for those most likely to be approved, the OFLC can:\n",
    "\n",
    "- Sort applications by level of education and review the higher levels of education first.\n",
    "- Sort applications by previous job experience and review those with experience first.\n",
    "- Divide applications for jobs into those with an hourly wage and those with an annual wage, sort each group by the prevailing wage, then review applications for salaried jobs first from highest to lowest wage.\n"
   ]
  }
 ],
 "metadata": {
  "colab": {
   "collapsed_sections": [],
   "name": "EasyVisa_Project_Template_Notebook.ipynb",
   "provenance": []
  },
  "kernelspec": {
   "display_name": "Python 3 (ipykernel)",
   "language": "python",
   "name": "python3"
  },
  "language_info": {
   "codemirror_mode": {
    "name": "ipython",
    "version": 3
   },
   "file_extension": ".py",
   "mimetype": "text/x-python",
   "name": "python",
   "nbconvert_exporter": "python",
   "pygments_lexer": "ipython3",
   "version": "3.8.10"
  }
 },
 "nbformat": 4,
 "nbformat_minor": 5
}
